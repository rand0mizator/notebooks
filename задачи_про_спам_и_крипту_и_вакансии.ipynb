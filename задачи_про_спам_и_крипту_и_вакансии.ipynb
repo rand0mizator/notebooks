{
  "cells": [
    {
      "cell_type": "markdown",
      "metadata": {
        "id": "view-in-github",
        "colab_type": "text"
      },
      "source": [
        "<a href=\"https://colab.research.google.com/github/rand0mizator/notebooks/blob/main/%D0%B7%D0%B0%D0%B4%D0%B0%D1%87%D0%B8_%D0%BF%D1%80%D0%BE_%D1%81%D0%BF%D0%B0%D0%BC_%D0%B8_%D0%BA%D1%80%D0%B8%D0%BF%D1%82%D1%83_%D0%B8_%D0%B2%D0%B0%D0%BA%D0%B0%D0%BD%D1%81%D0%B8%D0%B8.ipynb\" target=\"_parent\"><img src=\"https://colab.research.google.com/assets/colab-badge.svg\" alt=\"Open In Colab\"/></a>"
      ]
    },
    {
      "cell_type": "code",
      "execution_count": 1,
      "metadata": {
        "id": "yWX4CHjTEb6a",
        "colab": {
          "base_uri": "https://localhost:8080/"
        },
        "outputId": "0e3fbc55-b575-4103-8462-5ce949562a52"
      },
      "outputs": [
        {
          "output_type": "stream",
          "name": "stdout",
          "text": [
            "\u001b[2K     \u001b[90m━━━━━━━━━━━━━━━━━━━━━━━━━━━━━━━━━━━━━━━━\u001b[0m \u001b[32m311.5/311.5 kB\u001b[0m \u001b[31m2.7 MB/s\u001b[0m eta \u001b[36m0:00:00\u001b[0m\n",
            "\u001b[2K     \u001b[90m━━━━━━━━━━━━━━━━━━━━━━━━━━━━━━━━━━━━━━━━\u001b[0m \u001b[32m817.7/817.7 kB\u001b[0m \u001b[31m19.8 MB/s\u001b[0m eta \u001b[36m0:00:00\u001b[0m\n",
            "\u001b[2K     \u001b[90m━━━━━━━━━━━━━━━━━━━━━━━━━━━━━━━━━━━━━━━━\u001b[0m \u001b[32m1.8/1.8 MB\u001b[0m \u001b[31m25.5 MB/s\u001b[0m eta \u001b[36m0:00:00\u001b[0m\n",
            "\u001b[2K     \u001b[90m━━━━━━━━━━━━━━━━━━━━━━━━━━━━━━━━━━━━━━━━\u001b[0m \u001b[32m1.9/1.9 MB\u001b[0m \u001b[31m28.3 MB/s\u001b[0m eta \u001b[36m0:00:00\u001b[0m\n",
            "\u001b[2K     \u001b[90m━━━━━━━━━━━━━━━━━━━━━━━━━━━━━━━━━━━━━━━━\u001b[0m \u001b[32m75.6/75.6 kB\u001b[0m \u001b[31m1.9 MB/s\u001b[0m eta \u001b[36m0:00:00\u001b[0m\n",
            "\u001b[2K     \u001b[90m━━━━━━━━━━━━━━━━━━━━━━━━━━━━━━━━━━━━━━━━\u001b[0m \u001b[32m291.3/291.3 kB\u001b[0m \u001b[31m4.2 MB/s\u001b[0m eta \u001b[36m0:00:00\u001b[0m\n",
            "\u001b[2K     \u001b[90m━━━━━━━━━━━━━━━━━━━━━━━━━━━━━━━━━━━━━━━━\u001b[0m \u001b[32m115.5/115.5 kB\u001b[0m \u001b[31m2.8 MB/s\u001b[0m eta \u001b[36m0:00:00\u001b[0m\n",
            "\u001b[2K     \u001b[90m━━━━━━━━━━━━━━━━━━━━━━━━━━━━━━━━━━━━━━━━\u001b[0m \u001b[32m49.4/49.4 kB\u001b[0m \u001b[31m740.6 kB/s\u001b[0m eta \u001b[36m0:00:00\u001b[0m\n",
            "\u001b[2K     \u001b[90m━━━━━━━━━━━━━━━━━━━━━━━━━━━━━━━━━━━━━━━━\u001b[0m \u001b[32m77.9/77.9 kB\u001b[0m \u001b[31m1.9 MB/s\u001b[0m eta \u001b[36m0:00:00\u001b[0m\n",
            "\u001b[2K     \u001b[90m━━━━━━━━━━━━━━━━━━━━━━━━━━━━━━━━━━━━━━━━\u001b[0m \u001b[32m58.3/58.3 kB\u001b[0m \u001b[31m2.0 MB/s\u001b[0m eta \u001b[36m0:00:00\u001b[0m\n",
            "\u001b[2K     \u001b[90m━━━━━━━━━━━━━━━━━━━━━━━━━━━━━━━━━━━━━━━━\u001b[0m \u001b[32m53.0/53.0 kB\u001b[0m \u001b[31m651.9 kB/s\u001b[0m eta \u001b[36m0:00:00\u001b[0m\n",
            "\u001b[2K     \u001b[90m━━━━━━━━━━━━━━━━━━━━━━━━━━━━━━━━━━━━━━━━\u001b[0m \u001b[32m141.1/141.1 kB\u001b[0m \u001b[31m1.9 MB/s\u001b[0m eta \u001b[36m0:00:00\u001b[0m\n",
            "\u001b[?25h"
          ]
        }
      ],
      "source": [
        "!pip install openai langchain tiktoken langchain-openai langchain-community -q"
      ]
    },
    {
      "cell_type": "markdown",
      "metadata": {
        "id": "l2Nn2MklEgyC"
      },
      "source": [
        "## Если используете ключ от OpenAI, запустите эту ячейку 👇"
      ]
    },
    {
      "cell_type": "code",
      "execution_count": null,
      "metadata": {
        "id": "eL3AQn88EgGa"
      },
      "outputs": [],
      "source": [
        "import os\n",
        "from getpass import getpass\n",
        "from langchain_openai import ChatOpenAI\n",
        "\n",
        "\n",
        "# os.environ['OPENAI_API_KEY'] = \"Введите ваш OpenAI API ключ\"\n",
        "os.environ['OPENAI_API_KEY'] = getpass(prompt='Введите ваш OpenAI API ключ')\n",
        "\n",
        "# Инициализируем языковую модель\n",
        "llm = ChatOpenAI(temperature=0.0)"
      ]
    },
    {
      "cell_type": "markdown",
      "metadata": {
        "id": "hUn1o9WjEkwQ"
      },
      "source": [
        "## Если используете ключ из курса, запустите эти ячейки 👇"
      ]
    },
    {
      "cell_type": "code",
      "execution_count": 2,
      "metadata": {
        "id": "XVLxyu1OEkAZ",
        "colab": {
          "base_uri": "https://localhost:8080/"
        },
        "outputId": "5faae26d-cc9d-4e9f-8e9a-bccd325d6701"
      },
      "outputs": [
        {
          "output_type": "stream",
          "name": "stdout",
          "text": [
            "--2024-04-24 01:51:39--  https://raw.githubusercontent.com/a-milenkin/LLM_practical_course/main/notebooks/utils.py\n",
            "Resolving raw.githubusercontent.com (raw.githubusercontent.com)... 185.199.109.133, 185.199.110.133, 185.199.111.133, ...\n",
            "Connecting to raw.githubusercontent.com (raw.githubusercontent.com)|185.199.109.133|:443... connected.\n",
            "HTTP request sent, awaiting response... 200 OK\n",
            "Length: 10823 (11K) [text/plain]\n",
            "Saving to: ‘utils.py’\n",
            "\n",
            "\rutils.py              0%[                    ]       0  --.-KB/s               \rutils.py            100%[===================>]  10.57K  --.-KB/s    in 0s      \n",
            "\n",
            "2024-04-24 01:51:39 (72.8 MB/s) - ‘utils.py’ saved [10823/10823]\n",
            "\n"
          ]
        }
      ],
      "source": [
        "!wget https://raw.githubusercontent.com/a-milenkin/LLM_practical_course/main/notebooks/utils.py"
      ]
    },
    {
      "cell_type": "code",
      "execution_count": 3,
      "metadata": {
        "id": "h23GG1C8EtZs",
        "colab": {
          "base_uri": "https://localhost:8080/"
        },
        "outputId": "913c04d8-0c13-409f-d090-cfb2a7254f22"
      },
      "outputs": [
        {
          "name": "stdout",
          "output_type": "stream",
          "text": [
            "Введите API ключ··········\n"
          ]
        }
      ],
      "source": [
        "from utils import ChatOpenAI\n",
        "from getpass import getpass\n",
        "\n",
        "#course_api_key= \"Введите ваш API ключ с курса\"\n",
        "course_api_key = getpass(prompt='Введите API ключ')\n",
        "\n",
        "# Инициализируем языковую модель\n",
        "llm = ChatOpenAI(course_api_key=course_api_key)"
      ]
    },
    {
      "cell_type": "markdown",
      "source": [
        "# Задание 2.2.7: ⚔️ Spam 🆚 Crypto"
      ],
      "metadata": {
        "id": "9xXARAI2mUfp"
      }
    },
    {
      "cell_type": "code",
      "execution_count": null,
      "metadata": {
        "id": "MSmKJBbUEvEt"
      },
      "outputs": [],
      "source": [
        "import pandas as pd\n",
        "from langchain import PromptTemplate\n",
        "from tqdm import tqdm"
      ]
    },
    {
      "cell_type": "code",
      "execution_count": null,
      "metadata": {
        "id": "ctMVarXbFB8B"
      },
      "outputs": [],
      "source": [
        "df = pd.read_csv('https://stepik.org/media/attachments/lesson/1110806/100_crypto_messages.csv')"
      ]
    },
    {
      "cell_type": "code",
      "execution_count": null,
      "metadata": {
        "id": "2y8GmlLdJCrA"
      },
      "outputs": [],
      "source": [
        "# Напишите промпт, указав инструкцию, запрос и выходной индикатор\n",
        "template = \"\"\"...\n",
        "\n",
        "Context: {text_input}\n",
        "\n",
        "Question: ...\n",
        "\n",
        "Answer: ...\n",
        "\"\"\"\n",
        "\n",
        "prompt_template = PromptTemplate(\n",
        "    input_variables=[\"text_input\"],\n",
        "    template=template\n",
        ")"
      ]
    },
    {
      "cell_type": "code",
      "source": [
        "spam_labels = [] # Список, где будем хранить ответы модели\n",
        "\n",
        "for text_input in tqdm(df['text']):\n",
        "    prompt = prompt_template.format(text_input=text_input) # Добавляем сообщение в промпт\n",
        "    spam_label = llm.invoke(prompt).content # Сохраняем ответ модели\n",
        "    spam_labels.append(spam_label) # Добавляем ответ в список\n",
        "    break # Для отладки. Уберите, когда убедитесь, что на одном примере работает"
      ],
      "metadata": {
        "id": "r0uNwaE8hznq"
      },
      "execution_count": null,
      "outputs": []
    },
    {
      "cell_type": "code",
      "source": [
        "df['is_spam'] = spam_labels # Создаём новый столбец из ответов модели"
      ],
      "metadata": {
        "id": "6XoGU6Zkm1RE"
      },
      "execution_count": null,
      "outputs": []
    },
    {
      "cell_type": "code",
      "source": [
        "df.to_csv('2_2_7_solution.csv', index=False) # Сохраняем файл, отправляем на Stepik, получаем баллы :)"
      ],
      "metadata": {
        "id": "gJLpYmf5njxp"
      },
      "execution_count": null,
      "outputs": []
    },
    {
      "cell_type": "markdown",
      "source": [
        "# Задание 2.2.8: 💼 ChatGPT - ваш ручной карьерный консультант"
      ],
      "metadata": {
        "id": "9N0jiam-oDNt"
      }
    },
    {
      "cell_type": "markdown",
      "source": [
        "В данной задаче очень удобно использовать `OutputParser` (подробнее о нем в [ноутбуке](https://github.com/a-milenkin/LLM_practical_course/blob/main/notebooks/M2.2_LangChain_Prompting.ipynb))"
      ],
      "metadata": {
        "id": "I2oOaHvDBOTG"
      }
    },
    {
      "cell_type": "code",
      "source": [
        "import pandas as pd\n",
        "from langchain.output_parsers import ResponseSchema\n",
        "from langchain.output_parsers import StructuredOutputParser\n",
        "from langchain.prompts import ChatPromptTemplate"
      ],
      "metadata": {
        "id": "yHOU7Fvm1KDs"
      },
      "execution_count": 4,
      "outputs": []
    },
    {
      "cell_type": "code",
      "source": [
        "df = pd.read_csv('https://stepik.org/media/attachments/lesson/1110806/vacancies_messages_50.csv')"
      ],
      "metadata": {
        "id": "jrfTlE2Sr_E7"
      },
      "execution_count": 5,
      "outputs": []
    },
    {
      "cell_type": "code",
      "source": [
        "df.head()"
      ],
      "metadata": {
        "colab": {
          "base_uri": "https://localhost:8080/",
          "height": 206
        },
        "id": "HfUcGSqrziBk",
        "outputId": "3c777390-33f7-41c9-ec98-6558ddb5db2e"
      },
      "execution_count": 6,
      "outputs": [
        {
          "output_type": "execute_result",
          "data": {
            "text/plain": [
              "   text_id                                               text\n",
              "0        9  #вакансия #vacancy #Python #удаленка #flask #r...\n",
              "1       31  #ВАКАНСИЯ  #Системный_аналитик #РФ\\n \\nАКЦИОНЕ...\n",
              "2       28  #вакансия #vacancy #job #senior #data #DB #dat...\n",
              "3       49  #вакансия #fulltime #remote \\n\\n🔎 Ищем Руковод...\n",
              "4       18  #vacancy #job #analyst #travel #sirenatravel #..."
            ],
            "text/html": [
              "\n",
              "  <div id=\"df-15e193ff-989c-4e07-8ef9-37ac9465e6a3\" class=\"colab-df-container\">\n",
              "    <div>\n",
              "<style scoped>\n",
              "    .dataframe tbody tr th:only-of-type {\n",
              "        vertical-align: middle;\n",
              "    }\n",
              "\n",
              "    .dataframe tbody tr th {\n",
              "        vertical-align: top;\n",
              "    }\n",
              "\n",
              "    .dataframe thead th {\n",
              "        text-align: right;\n",
              "    }\n",
              "</style>\n",
              "<table border=\"1\" class=\"dataframe\">\n",
              "  <thead>\n",
              "    <tr style=\"text-align: right;\">\n",
              "      <th></th>\n",
              "      <th>text_id</th>\n",
              "      <th>text</th>\n",
              "    </tr>\n",
              "  </thead>\n",
              "  <tbody>\n",
              "    <tr>\n",
              "      <th>0</th>\n",
              "      <td>9</td>\n",
              "      <td>#вакансия #vacancy #Python #удаленка #flask #r...</td>\n",
              "    </tr>\n",
              "    <tr>\n",
              "      <th>1</th>\n",
              "      <td>31</td>\n",
              "      <td>#ВАКАНСИЯ  #Системный_аналитик #РФ\\n \\nАКЦИОНЕ...</td>\n",
              "    </tr>\n",
              "    <tr>\n",
              "      <th>2</th>\n",
              "      <td>28</td>\n",
              "      <td>#вакансия #vacancy #job #senior #data #DB #dat...</td>\n",
              "    </tr>\n",
              "    <tr>\n",
              "      <th>3</th>\n",
              "      <td>49</td>\n",
              "      <td>#вакансия #fulltime #remote \\n\\n🔎 Ищем Руковод...</td>\n",
              "    </tr>\n",
              "    <tr>\n",
              "      <th>4</th>\n",
              "      <td>18</td>\n",
              "      <td>#vacancy #job #analyst #travel #sirenatravel #...</td>\n",
              "    </tr>\n",
              "  </tbody>\n",
              "</table>\n",
              "</div>\n",
              "    <div class=\"colab-df-buttons\">\n",
              "\n",
              "  <div class=\"colab-df-container\">\n",
              "    <button class=\"colab-df-convert\" onclick=\"convertToInteractive('df-15e193ff-989c-4e07-8ef9-37ac9465e6a3')\"\n",
              "            title=\"Convert this dataframe to an interactive table.\"\n",
              "            style=\"display:none;\">\n",
              "\n",
              "  <svg xmlns=\"http://www.w3.org/2000/svg\" height=\"24px\" viewBox=\"0 -960 960 960\">\n",
              "    <path d=\"M120-120v-720h720v720H120Zm60-500h600v-160H180v160Zm220 220h160v-160H400v160Zm0 220h160v-160H400v160ZM180-400h160v-160H180v160Zm440 0h160v-160H620v160ZM180-180h160v-160H180v160Zm440 0h160v-160H620v160Z\"/>\n",
              "  </svg>\n",
              "    </button>\n",
              "\n",
              "  <style>\n",
              "    .colab-df-container {\n",
              "      display:flex;\n",
              "      gap: 12px;\n",
              "    }\n",
              "\n",
              "    .colab-df-convert {\n",
              "      background-color: #E8F0FE;\n",
              "      border: none;\n",
              "      border-radius: 50%;\n",
              "      cursor: pointer;\n",
              "      display: none;\n",
              "      fill: #1967D2;\n",
              "      height: 32px;\n",
              "      padding: 0 0 0 0;\n",
              "      width: 32px;\n",
              "    }\n",
              "\n",
              "    .colab-df-convert:hover {\n",
              "      background-color: #E2EBFA;\n",
              "      box-shadow: 0px 1px 2px rgba(60, 64, 67, 0.3), 0px 1px 3px 1px rgba(60, 64, 67, 0.15);\n",
              "      fill: #174EA6;\n",
              "    }\n",
              "\n",
              "    .colab-df-buttons div {\n",
              "      margin-bottom: 4px;\n",
              "    }\n",
              "\n",
              "    [theme=dark] .colab-df-convert {\n",
              "      background-color: #3B4455;\n",
              "      fill: #D2E3FC;\n",
              "    }\n",
              "\n",
              "    [theme=dark] .colab-df-convert:hover {\n",
              "      background-color: #434B5C;\n",
              "      box-shadow: 0px 1px 3px 1px rgba(0, 0, 0, 0.15);\n",
              "      filter: drop-shadow(0px 1px 2px rgba(0, 0, 0, 0.3));\n",
              "      fill: #FFFFFF;\n",
              "    }\n",
              "  </style>\n",
              "\n",
              "    <script>\n",
              "      const buttonEl =\n",
              "        document.querySelector('#df-15e193ff-989c-4e07-8ef9-37ac9465e6a3 button.colab-df-convert');\n",
              "      buttonEl.style.display =\n",
              "        google.colab.kernel.accessAllowed ? 'block' : 'none';\n",
              "\n",
              "      async function convertToInteractive(key) {\n",
              "        const element = document.querySelector('#df-15e193ff-989c-4e07-8ef9-37ac9465e6a3');\n",
              "        const dataTable =\n",
              "          await google.colab.kernel.invokeFunction('convertToInteractive',\n",
              "                                                    [key], {});\n",
              "        if (!dataTable) return;\n",
              "\n",
              "        const docLinkHtml = 'Like what you see? Visit the ' +\n",
              "          '<a target=\"_blank\" href=https://colab.research.google.com/notebooks/data_table.ipynb>data table notebook</a>'\n",
              "          + ' to learn more about interactive tables.';\n",
              "        element.innerHTML = '';\n",
              "        dataTable['output_type'] = 'display_data';\n",
              "        await google.colab.output.renderOutput(dataTable, element);\n",
              "        const docLink = document.createElement('div');\n",
              "        docLink.innerHTML = docLinkHtml;\n",
              "        element.appendChild(docLink);\n",
              "      }\n",
              "    </script>\n",
              "  </div>\n",
              "\n",
              "\n",
              "<div id=\"df-7d331649-dff9-4d41-8f06-28ee3fb7bcf4\">\n",
              "  <button class=\"colab-df-quickchart\" onclick=\"quickchart('df-7d331649-dff9-4d41-8f06-28ee3fb7bcf4')\"\n",
              "            title=\"Suggest charts\"\n",
              "            style=\"display:none;\">\n",
              "\n",
              "<svg xmlns=\"http://www.w3.org/2000/svg\" height=\"24px\"viewBox=\"0 0 24 24\"\n",
              "     width=\"24px\">\n",
              "    <g>\n",
              "        <path d=\"M19 3H5c-1.1 0-2 .9-2 2v14c0 1.1.9 2 2 2h14c1.1 0 2-.9 2-2V5c0-1.1-.9-2-2-2zM9 17H7v-7h2v7zm4 0h-2V7h2v10zm4 0h-2v-4h2v4z\"/>\n",
              "    </g>\n",
              "</svg>\n",
              "  </button>\n",
              "\n",
              "<style>\n",
              "  .colab-df-quickchart {\n",
              "      --bg-color: #E8F0FE;\n",
              "      --fill-color: #1967D2;\n",
              "      --hover-bg-color: #E2EBFA;\n",
              "      --hover-fill-color: #174EA6;\n",
              "      --disabled-fill-color: #AAA;\n",
              "      --disabled-bg-color: #DDD;\n",
              "  }\n",
              "\n",
              "  [theme=dark] .colab-df-quickchart {\n",
              "      --bg-color: #3B4455;\n",
              "      --fill-color: #D2E3FC;\n",
              "      --hover-bg-color: #434B5C;\n",
              "      --hover-fill-color: #FFFFFF;\n",
              "      --disabled-bg-color: #3B4455;\n",
              "      --disabled-fill-color: #666;\n",
              "  }\n",
              "\n",
              "  .colab-df-quickchart {\n",
              "    background-color: var(--bg-color);\n",
              "    border: none;\n",
              "    border-radius: 50%;\n",
              "    cursor: pointer;\n",
              "    display: none;\n",
              "    fill: var(--fill-color);\n",
              "    height: 32px;\n",
              "    padding: 0;\n",
              "    width: 32px;\n",
              "  }\n",
              "\n",
              "  .colab-df-quickchart:hover {\n",
              "    background-color: var(--hover-bg-color);\n",
              "    box-shadow: 0 1px 2px rgba(60, 64, 67, 0.3), 0 1px 3px 1px rgba(60, 64, 67, 0.15);\n",
              "    fill: var(--button-hover-fill-color);\n",
              "  }\n",
              "\n",
              "  .colab-df-quickchart-complete:disabled,\n",
              "  .colab-df-quickchart-complete:disabled:hover {\n",
              "    background-color: var(--disabled-bg-color);\n",
              "    fill: var(--disabled-fill-color);\n",
              "    box-shadow: none;\n",
              "  }\n",
              "\n",
              "  .colab-df-spinner {\n",
              "    border: 2px solid var(--fill-color);\n",
              "    border-color: transparent;\n",
              "    border-bottom-color: var(--fill-color);\n",
              "    animation:\n",
              "      spin 1s steps(1) infinite;\n",
              "  }\n",
              "\n",
              "  @keyframes spin {\n",
              "    0% {\n",
              "      border-color: transparent;\n",
              "      border-bottom-color: var(--fill-color);\n",
              "      border-left-color: var(--fill-color);\n",
              "    }\n",
              "    20% {\n",
              "      border-color: transparent;\n",
              "      border-left-color: var(--fill-color);\n",
              "      border-top-color: var(--fill-color);\n",
              "    }\n",
              "    30% {\n",
              "      border-color: transparent;\n",
              "      border-left-color: var(--fill-color);\n",
              "      border-top-color: var(--fill-color);\n",
              "      border-right-color: var(--fill-color);\n",
              "    }\n",
              "    40% {\n",
              "      border-color: transparent;\n",
              "      border-right-color: var(--fill-color);\n",
              "      border-top-color: var(--fill-color);\n",
              "    }\n",
              "    60% {\n",
              "      border-color: transparent;\n",
              "      border-right-color: var(--fill-color);\n",
              "    }\n",
              "    80% {\n",
              "      border-color: transparent;\n",
              "      border-right-color: var(--fill-color);\n",
              "      border-bottom-color: var(--fill-color);\n",
              "    }\n",
              "    90% {\n",
              "      border-color: transparent;\n",
              "      border-bottom-color: var(--fill-color);\n",
              "    }\n",
              "  }\n",
              "</style>\n",
              "\n",
              "  <script>\n",
              "    async function quickchart(key) {\n",
              "      const quickchartButtonEl =\n",
              "        document.querySelector('#' + key + ' button');\n",
              "      quickchartButtonEl.disabled = true;  // To prevent multiple clicks.\n",
              "      quickchartButtonEl.classList.add('colab-df-spinner');\n",
              "      try {\n",
              "        const charts = await google.colab.kernel.invokeFunction(\n",
              "            'suggestCharts', [key], {});\n",
              "      } catch (error) {\n",
              "        console.error('Error during call to suggestCharts:', error);\n",
              "      }\n",
              "      quickchartButtonEl.classList.remove('colab-df-spinner');\n",
              "      quickchartButtonEl.classList.add('colab-df-quickchart-complete');\n",
              "    }\n",
              "    (() => {\n",
              "      let quickchartButtonEl =\n",
              "        document.querySelector('#df-7d331649-dff9-4d41-8f06-28ee3fb7bcf4 button');\n",
              "      quickchartButtonEl.style.display =\n",
              "        google.colab.kernel.accessAllowed ? 'block' : 'none';\n",
              "    })();\n",
              "  </script>\n",
              "</div>\n",
              "    </div>\n",
              "  </div>\n"
            ],
            "application/vnd.google.colaboratory.intrinsic+json": {
              "type": "dataframe",
              "variable_name": "df",
              "summary": "{\n  \"name\": \"df\",\n  \"rows\": 50,\n  \"fields\": [\n    {\n      \"column\": \"text_id\",\n      \"properties\": {\n        \"dtype\": \"number\",\n        \"std\": 14,\n        \"min\": 1,\n        \"max\": 50,\n        \"num_unique_values\": 50,\n        \"samples\": [\n          5,\n          2,\n          43\n        ],\n        \"semantic_type\": \"\",\n        \"description\": \"\"\n      }\n    },\n    {\n      \"column\": \"text\",\n      \"properties\": {\n        \"dtype\": \"string\",\n        \"num_unique_values\": 50,\n        \"samples\": [\n          \"#job #\\u0432\\u0430\\u043a\\u0430\\u043d\\u0441\\u0438\\u044f #\\u0440\\u0430\\u0431\\u043e\\u0442\\u0430 #fulltime  #TS #Typescript #vue #frontend #\\u0443\\u0434\\u0430\\u043b\\u0435\\u043d\\u043a\\u0430 #senior\\n\\n\\u0412\\u0430\\u043a\\u0430\\u043d\\u0441\\u0438\\u044f: Frontend \\u0440\\u0430\\u0437\\u0440\\u0430\\u0431\\u043e\\u0442\\u0447\\u0438\\u043a\\n\\u041a\\u043e\\u043c\\u043f\\u0430\\u043d\\u0438\\u044f: Travelata\\n\\u0413\\u043e\\u0440\\u043e\\u0434: \\u041c\\u043e\\u0441\\u043a\\u0432\\u0430\\n\\u0412\\u0438\\u043b\\u043a\\u0430: 280\\u043a-320\\u043a.net\\n\\u0424\\u043e\\u0440\\u043c\\u0430\\u0442: \\u0443\\u0434\\u0430\\u043b\\u0435\\u043d\\u043d\\u044b\\u0439\\n\\n\\u041e \\u043a\\u043e\\u043c\\u043f\\u0430\\u043d\\u0438\\u0438:\\nTravelata \\u2014 \\u043a\\u0440\\u0443\\u043f\\u043d\\u0430\\u044f \\u0442\\u0443\\u0440\\u0438\\u0441\\u0442\\u0438\\u0447\\u0435\\u0441\\u043a\\u0430\\u044f \\u043a\\u043e\\u043c\\u043f\\u0430\\u043d\\u0438\\u044f \\u0441 \\u043c\\u0435\\u0436\\u0434\\u0443\\u043d\\u0430\\u0440\\u043e\\u0434\\u043d\\u044b\\u043c\\u0438 \\u0438\\u043d\\u0432\\u0435\\u0441\\u0442\\u0438\\u0446\\u0438\\u044f\\u043c\\u0438 \\u0431\\u043e\\u043b\\u0435\\u0435 10 \\u043c\\u043b\\u043d. \\u0434\\u043e\\u043b\\u043b\\u0430\\u0440\\u043e\\u0432. \\u0412\\u0445\\u043e\\u0434\\u0438\\u0442 \\u0432 \\u0433\\u0440\\u0443\\u043f\\u043f\\u0443 \\u043a\\u043e\\u043c\\u043f\\u0430\\u043d\\u0438\\u0439, \\u0440\\u0430\\u0431\\u043e\\u0442\\u0430\\u044e\\u0449\\u0438\\u0445 \\u0432 5 \\u0441\\u0442\\u0440\\u0430\\u043d\\u0430\\u0445 \\u0415\\u0432\\u0440\\u043e\\u043f\\u044b, \\u0438 \\u044f\\u0432\\u043b\\u044f\\u0435\\u0442\\u0441\\u044f \\u0447\\u043b\\u0435\\u043d\\u043e\\u043c \\u0410\\u043b\\u044c\\u044f\\u043d\\u0441\\u0430 \\u0422\\u0443\\u0440\\u0438\\u0441\\u0442\\u0438\\u0447\\u0435\\u0441\\u043a\\u0438\\u0445 \\u0410\\u0433\\u0435\\u043d\\u0442\\u0441\\u0442\\u0432.\\n\\n\\u041a\\u043e\\u043c\\u043f\\u0430\\u043d\\u0438\\u044f \\u201cTravelata\\u201d \\u0438\\u0449\\u0435\\u0442 senior frontend \\u0440\\u0430\\u0437\\u0440\\u0430\\u0431\\u043e\\u0442\\u0447\\u0438\\u043a\\u0430 \\u0441 \\u043e\\u043f\\u044b\\u0442\\u043e\\u043c \\u043e\\u0442 5 \\u043b\\u0435\\u0442.\\n \\n\\ud83d\\udd38\\u0422\\u0435\\u0445\\u043d\\u043e\\u043b\\u043e\\u0433\\u0438\\u0447\\u0435\\u0441\\u043a\\u0438\\u0439 \\u0441\\u0442\\u0435\\u043a \\u0438 \\u0438\\u0441\\u043f\\u043e\\u043b\\u044c\\u0437\\u0443\\u0435\\u043c\\u044b\\u0435 \\u0438\\u043d\\u0441\\u0442\\u0440\\u0443\\u043c\\u0435\\u043d\\u0442\\u044b: Vue.js, Vuex, Typescript, Webpack, Backbone.js, Backbone.Epoxy, Angular.js, Bootstrap, jQuery,   jQuery Mobile, underscore.js.\\n \\n\\ud83d\\udd38\\u0412\\u0430\\u043c \\u043f\\u0440\\u0435\\u0434\\u0441\\u0442\\u043e\\u0438\\u0442:\\n-\\u041f\\u0440\\u043e\\u0435\\u043a\\u0442\\u0438\\u0440\\u043e\\u0432\\u0430\\u0442\\u044c \\u0438 \\u0440\\u0430\\u0437\\u0440\\u0430\\u0431\\u0430\\u0442\\u044b\\u0432\\u0430\\u0442\\u044c \\u043d\\u043e\\u0432\\u044b\\u0435 \\u043a\\u043e\\u043c\\u043f\\u043e\\u043d\\u0435\\u043d\\u0442\\u044b \\u043f\\u043e\\u0440\\u0442\\u0430\\u043b\\u0430 \\u043f\\u043e \\u043f\\u043e\\u0438\\u0441\\u043a\\u0443 \\u0442\\u0443\\u0440\\u043e\\u0432, \\u0440\\u0435\\u0444\\u0430\\u043a\\u0442\\u043e\\u0440\\u0438\\u0442\\u044c \\u0438 \\u0434\\u043e\\u0440\\u0430\\u0431\\u0430\\u0442\\u044b\\u0432\\u0430\\u0442\\u044c \\u0441\\u0443\\u0449\\u0435\\u0441\\u0442\\u0432\\u0443\\u044e\\u0449\\u0438\\u0435 \\u043a\\u043e\\u043c\\u043f\\u043e\\u043d\\u0435\\u043d\\u0442\\u044b;\\n-\\u0412\\u0435\\u0440\\u0441\\u0442\\u0430\\u0442\\u044c \\u043c\\u0430\\u043a\\u0435\\u0442\\u044b, \\u044d\\u043a\\u0441\\u043f\\u043e\\u0440\\u0442\\u0438\\u0440\\u043e\\u0432\\u0430\\u043d\\u043d\\u044b\\u0435 \\u0438\\u0437 Sketch \\u0432 Zeplin;\\n-\\u041f\\u0438\\u0441\\u0430\\u0442\\u044c unit-\\u0442\\u0435\\u0441\\u0442\\u044b \\u043d\\u0430 Jest;\\n-\\u041d\\u0430\\u0445\\u043e\\u0434\\u0438\\u0442\\u044c \\u0440\\u0435\\u0448\\u0435\\u043d\\u0438\\u044f \\u0441\\u043b\\u043e\\u0436\\u043d\\u044b\\u0445 \\u0437\\u0430\\u0434\\u0430\\u0447 \\u0438 \\u0443\\u043c\\u0435\\u0442\\u044c \\u0441\\u0430\\u043c\\u043e\\u0441\\u0442\\u043e\\u044f\\u0442\\u0435\\u043b\\u044c\\u043d\\u043e \\u043f\\u0440\\u0435\\u0432\\u0440\\u0430\\u0442\\u0438\\u0442\\u044c \\u0431\\u0438\\u0437\\u043d\\u0435\\u0441-\\u0438\\u0434\\u0435\\u044e \\u0432 \\u043f\\u043e\\u0434\\u0434\\u0435\\u0440\\u0436\\u0438\\u0432\\u0430\\u0435\\u043c\\u044b\\u0439 \\u043a\\u043e\\u0434;\\n-\\u0410\\u043a\\u0442\\u0438\\u0432\\u043d\\u043e \\u0443\\u0447\\u0430\\u0441\\u0442\\u0432\\u043e\\u0432\\u0430\\u0442\\u044c \\u0432 \\u043e\\u0431\\u0441\\u0443\\u0436\\u0434\\u0435\\u043d\\u0438\\u0438 \\u0437\\u0430\\u0434\\u0430\\u0447, \\u043f\\u0440\\u0435\\u0434\\u043b\\u0430\\u0433\\u0430\\u0442\\u044c UI-UX \\u0440\\u0435\\u0448\\u0435\\u043d\\u0438\\u044f \\u0438 \\u0430\\u0440\\u0445\\u0438\\u0442\\u0435\\u043a\\u0442\\u0443\\u0440\\u043d\\u044b\\u0435 \\u0440\\u0435\\u0448\\u0435\\u043d\\u0438\\u044f Frontend \\u0437\\u0430\\u0434\\u0430\\u0447;\\n-\\u0423\\u0447\\u0430\\u0441\\u0442\\u0432\\u043e\\u0432\\u0430\\u0442\\u044c \\u0432 \\u043f\\u0435\\u0440\\u0435\\u0440\\u0430\\u0431\\u043e\\u0442\\u043a\\u0435 \\u0438 \\u0443\\u0441\\u043e\\u0432\\u0435\\u0440\\u0448\\u0435\\u043d\\u0441\\u0442\\u0432\\u043e\\u0432\\u0430\\u043d\\u0438\\u0438 \\u0430\\u0440\\u0445\\u0438\\u0442\\u0435\\u043a\\u0442\\u0443\\u0440\\u044b \\u0438 \\u0438\\u043d\\u0444\\u0440\\u0430\\u0441\\u0442\\u0440\\u0443\\u043a\\u0442\\u0443\\u0440\\u044b \\u043f\\u0440\\u043e\\u0435\\u043a\\u0442\\u0430;\\n-\\u0410\\u043a\\u0442\\u0438\\u0432\\u043d\\u043e \\u043f\\u0440\\u0435\\u0434\\u043b\\u0430\\u0433\\u0430\\u0442\\u044c \\u0438 \\u0432\\u043d\\u0435\\u0434\\u0440\\u044f\\u0442\\u044c \\u043d\\u043e\\u0432\\u044b\\u0435 \\u0442\\u0435\\u0445\\u043d\\u043e\\u043b\\u043e\\u0433\\u0438\\u0438 \\u0432 \\u043f\\u0440\\u043e\\u0435\\u043a\\u0442;\\n-\\u041f\\u0440\\u043e\\u0432\\u043e\\u0434\\u0438\\u0442\\u044c Code Review \\u0437\\u0430\\u0434\\u0430\\u0447 Middle \\u0438 Senior \\u0440\\u0430\\u0437\\u0440\\u0430\\u0431\\u043e\\u0442\\u0447\\u0438\\u043a\\u043e\\u0432.\\n \\n\\ud83d\\udd38\\u041c\\u044b \\u043e\\u0436\\u0438\\u0434\\u0430\\u0435\\u043c:\\n-\\u0423\\u0432\\u0435\\u0440\\u0435\\u043d\\u043d\\u043e\\u0435 \\u0432\\u043b\\u0430\\u0434\\u0435\\u043d\\u0438\\u0435 \\u0444\\u0440\\u0435\\u0439\\u043c\\u0432\\u043e\\u0440\\u043a\\u043e\\u043c Vue.js;\\n-\\u041e\\u043f\\u044b\\u0442 \\u0440\\u0430\\u0437\\u0440\\u0430\\u0431\\u043e\\u0442\\u043a\\u0438 \\u043d\\u0430 Typescript;\\n-\\u041e\\u043f\\u044b\\u0442 \\u043d\\u0430\\u043f\\u0438\\u0441\\u0430\\u043d\\u0438\\u044f Unit-\\u0442\\u0435\\u0441\\u0442\\u043e\\u0432 \\u0441 \\u0438\\u0441\\u043f\\u043e\\u043b\\u044c\\u0437\\u043e\\u0432\\u0430\\u043d\\u0438\\u0435\\u043c Jest;\\n-\\u041e\\u0442\\u043b\\u0438\\u0447\\u043d\\u044b\\u0435 \\u0437\\u043d\\u0430\\u043d\\u0438\\u044f Sass/Less, Vanilla Javascript;\\n-\\u0425\\u043e\\u0440\\u043e\\u0448\\u0438\\u0435 \\u0437\\u043d\\u0430\\u043d\\u0438\\u044f \\u041e\\u041e\\u041f \\u0438 \\u0441\\u043e\\u0432\\u0440\\u0435\\u043c\\u0435\\u043d\\u043d\\u044b\\u0445 \\u0442\\u0440\\u0435\\u043d\\u0434\\u043e\\u0432 \\u0440\\u0430\\u0437\\u0440\\u0430\\u0431\\u043e\\u0442\\u043a\\u0438. \\u0417\\u043d\\u0430\\u043d\\u0438\\u0435 \\u0438 \\u043f\\u043e\\u043d\\u0438\\u043c\\u0430\\u043d\\u0438\\u0435 \\u043f\\u0430\\u0442\\u0442\\u0435\\u0440\\u043d\\u043e\\u0432 -\\u043f\\u0440\\u043e\\u0435\\u043a\\u0442\\u0438\\u0440\\u043e\\u0432\\u0430\\u043d\\u0438\\u044f;\\n-\\u041f\\u043e\\u043d\\u0438\\u043c\\u0430\\u043d\\u0438\\u0435 \\u043f\\u0440\\u0438\\u043d\\u0446\\u0438\\u043f\\u043e\\u0432 SSR \\u0438 \\u043e\\u043f\\u044b\\u0442 \\u0440\\u0430\\u0431\\u043e\\u0442\\u044b \\u0441 Nuxt.JS;\\n-Pixel perfect \\u0432\\u0435\\u0440\\u0441\\u0442\\u043a\\u0430;\\n-\\u0423\\u043c\\u0435\\u043d\\u0438\\u0435 \\u043f\\u0438\\u0441\\u0430\\u0442\\u044c \\u0441\\u0435\\u043c\\u0430\\u043d\\u0442\\u0438\\u0447\\u0435\\u0441\\u043a\\u0438 \\u043f\\u0440\\u0430\\u0432\\u0438\\u043b\\u044c\\u043d\\u044b\\u0439 html, \\u0441\\u043e\\u043e\\u0442\\u0432\\u0435\\u0442\\u0441\\u0442\\u0432\\u0443\\u044e\\u0449\\u0438\\u0439 \\u0441\\u0442\\u0430\\u043d\\u0434\\u0430\\u0440\\u0442\\u0430\\u043c W3C;\\n-\\u0425\\u043e\\u0440\\u043e\\u0448\\u0438\\u0439 \\u0443\\u0440\\u043e\\u0432\\u0435\\u043d\\u044c \\u043a\\u043e\\u043c\\u043c\\u0443\\u043d\\u0438\\u043a\\u0430\\u0446\\u0438\\u0439 \\u0441 \\u043e\\u043a\\u0440\\u0443\\u0436\\u0430\\u044e\\u0449\\u0438\\u043c\\u0438 \\u0438 \\u0432\\u0434\\u0443\\u043c\\u0447\\u0438\\u0432\\u043e\\u0435 \\u0432\\u044b\\u043f\\u043e\\u043b\\u043d\\u0435\\u043d\\u0438\\u0435 \\u043f\\u043e\\u0441\\u0442\\u0430\\u0432\\u043b\\u0435\\u043d\\u043d\\u044b\\u0445 \\u0437\\u0430\\u0434\\u0430\\u0447;\\n-\\u041f\\u0443\\u043d\\u043a\\u0442\\u0443\\u0430\\u043b\\u044c\\u043d\\u043e\\u0441\\u0442\\u044c, \\u0441\\u043e\\u0431\\u043b\\u044e\\u0434\\u0435\\u043d\\u0438\\u0435 \\u0441\\u0440\\u043e\\u043a\\u043e\\u0432, \\u0445\\u043e\\u0440\\u043e\\u0448\\u0438\\u0435 \\u043d\\u0430\\u0432\\u044b\\u043a\\u0438 \\u043f\\u043b\\u0430\\u043d\\u0438\\u0440\\u043e\\u0432\\u0430\\u043d\\u0438\\u044f, \\u0443\\u043c\\u0435\\u043d\\u0438\\u0435 \\u0441\\u0442\\u0440\\u0443\\u043a\\u0442\\u0443\\u0440\\u0438\\u0440\\u043e\\u0432\\u0430\\u0442\\u044c \\u0437\\u0430\\u0434\\u0430\\u0447\\u0438.\\n\\n\\u041f\\u043b\\u044e\\u0441\\u043e\\u043c \\u0431\\u0443\\u0434\\u0435\\u0442 \\u043f\\u0440\\u043e\\u0434\\u0432\\u0438\\u043d\\u0443\\u0442\\u044b\\u0439 \\u043e\\u043f\\u044b\\u0442 \\u043d\\u0430\\u0441\\u0442\\u0440\\u043e\\u0439\\u043a\\u0438 \\u0441\\u0438\\u0441\\u0442\\u0435\\u043c\\u044b \\u0441\\u0431\\u043e\\u0440\\u043a\\u0438 \\u043f\\u0440\\u043e\\u0435\\u043a\\u0442\\u0430 Webpack, \\u043e\\u043f\\u044b\\u0442 \\u043f\\u0440\\u043e\\u0435\\u043a\\u0442\\u0438\\u0440\\u043e\\u0432\\u0430\\u043d\\u0438\\u044f \\u0430\\u0440\\u0445\\u0438\\u0442\\u0435\\u043a\\u0442\\u0443\\u0440\\u044b \\u043f\\u0440\\u0438\\u043b\\u043e\\u0436\\u0435\\u043d\\u0438\\u044f \\u0441 \\u043d\\u0443\\u043b\\u044f, \\u043e\\u043f\\u044b\\u0442 \\u043d\\u0430\\u043f\\u0438\\u0441\\u0430\\u043d\\u0438\\u044f BFF \\u043f\\u0440\\u0438\\u043b\\u043e\\u0436\\u0435\\u043d\\u0438\\u0439 \\u043d\\u0430 Node JS, \\u0437\\u043d\\u0430\\u043d\\u0438\\u0435 \\u0438 \\u043f\\u043e\\u043d\\u0438\\u043c\\u0430\\u043d\\u0438\\u0435 \\u043f\\u0440\\u0438\\u043d\\u0446\\u0438\\u043f\\u043e\\u0432 \\u043f\\u043e\\u0441\\u0442\\u0440\\u043e\\u0435\\u043d\\u0438\\u044f \\u0444\\u0440\\u043e\\u043d\\u0442\\u0435\\u043d\\u0434\\u0430 \\u0441\\u043b\\u043e\\u0436\\u043d\\u044b\\u0445 \\u043f\\u0440\\u0438\\u043b\\u043e\\u0436\\u0435\\u043d\\u0438\\u0439, \\u043e\\u043f\\u044b\\u0442 \\u0440\\u0430\\u0431\\u043e\\u0442\\u044b \\u0441 docker. \\n\\n\\ud83d\\udd38\\u041c\\u044b \\u043f\\u0440\\u0435\\u0434\\u043b\\u0430\\u0433\\u0430\\u0435\\u043c:\\n-\\u041e\\u0444\\u043e\\u0440\\u043c\\u043b\\u0435\\u043d\\u0438\\u0435 \\u043f\\u043e \\u0422\\u041a \\u0420\\u0424;\\n-\\u0414\\u041c\\u0421 \\u043f\\u043e\\u0441\\u043b\\u0435 \\u0438\\u0441\\u043f\\u044b\\u0442\\u0430\\u0442\\u0435\\u043b\\u044c\\u043d\\u043e\\u0433\\u043e \\u0441\\u0440\\u043e\\u043a\\u0430;\\n-\\u0412\\u043e\\u0437\\u043c\\u043e\\u0436\\u043d\\u043e\\u0441\\u0442\\u044c \\u0443\\u0434\\u0430\\u043b\\u0435\\u043d\\u043d\\u043e\\u0439 \\u0440\\u0430\\u0431\\u043e\\u0442\\u044b;\\n-\\u0413\\u0440\\u0430\\u0444\\u0438\\u043a \\u0440\\u0430\\u0431\\u043e\\u0442\\u044b 5/2;\\n-\\u0421\\u043a\\u0438\\u0434\\u043a\\u0438 \\u043d\\u0430 \\u0432\\u0441\\u0435 \\u043f\\u0440\\u043e\\u0434\\u0443\\u043a\\u0442\\u044b \\u043a\\u043e\\u043c\\u043f\\u0430\\u043d\\u0438\\u0438;\\n-\\u0413\\u043e\\u0442\\u043e\\u0432\\u044b \\u043f\\u0440\\u0435\\u0434\\u043e\\u0441\\u0442\\u0430\\u0432\\u0438\\u0442\\u044c \\u043d\\u0435\\u043e\\u0431\\u0445\\u043e\\u0434\\u0438\\u043c\\u0443\\u044e \\u0442\\u0435\\u0445\\u043d\\u0438\\u043a\\u0443 \\u0434\\u043b\\u044f \\u0440\\u0430\\u0431\\u043e\\u0442\\u044b;\\n\\n\\u2139\\ufe0f\\u0414\\u043b\\u044f \\u043f\\u043e\\u043b\\u0443\\u0447\\u0435\\u043d\\u0438\\u044f \\u0431\\u043e\\u043b\\u0435\\u0435 \\u043f\\u043e\\u0434\\u0440\\u043e\\u0431\\u043d\\u043e\\u0439 \\u0438\\u043d\\u0444\\u043e\\u0440\\u043c\\u0430\\u0446\\u0438\\u0438: @ann_gfio.\",\n          \"#copywriter #\\u0432\\u0430\\u043a\\u0430\\u043d\\u0441\\u0438\\u044f  #fulltime #\\u0443\\u0434\\u0430\\u043b\\u0435\\u043d\\u043a\\u0430  #remote #crypto #blockchain\\n\\n\\u041a\\u043e\\u043c\\u043f\\u0430\\u043d\\u0438\\u044f: ALEX GROUP COMPANY\\n\\u0412\\u0438\\u043b\\u043a\\u0430: \\u043e\\u0442 80 000 \\u0434\\u043e 140 000 \\u0440\\u0443\\u0431.\\n\\u0412\\u0430\\u043a\\u0430\\u043d\\u0441\\u0438\\u044f: \\u041a\\u043e\\u043f\\u0438\\u0440\\u0430\\u0439\\u0442\\u0435\\u0440 \\u0432 \\u0441\\u0444\\u0435\\u0440\\u0435 \\u043a\\u0440\\u0438\\u043f\\u0442\\u044b\\n\\n\\u041c\\u044b \\u0432 AlexGroup \\u0441\\u043f\\u0435\\u0446\\u0438\\u0430\\u043b\\u0438\\u0437\\u0438\\u0440\\u0443\\u0435\\u043c\\u0441\\u044f \\u043d\\u0430 \\u0441\\u043e\\u0437\\u0434\\u0430\\u043d\\u0438\\u0438 \\u0438 \\u043f\\u0435\\u0440\\u0435\\u0432\\u043e\\u0434\\u0435 \\u043a\\u043e\\u043d\\u0442\\u0435\\u043d\\u0442\\u0430 \\u043d\\u043e\\u0441\\u0438\\u0442\\u0435\\u043b\\u044f\\u043c\\u0438 \\u043d\\u0430 \\u043a\\u0440\\u0438\\u043f\\u0442\\u043e\\u0432\\u0430\\u043b\\u044e\\u0442\\u043d\\u0443\\u044e \\u0442\\u0435\\u043c\\u0430\\u0442\\u0438\\u043a\\u0443 \\u0438 \\u043c\\u043d\\u043e\\u0433\\u0438\\u0435 \\u0434\\u0440\\u0443\\u0433\\u0438\\u0435. \\n\\n\\u0418\\u0449\\u0435\\u043c \\u043a\\u043e\\u043f\\u0438\\u0440\\u0430\\u0439\\u0442\\u0435\\u0440\\u0430 (\\u043c\\u0435\\u043d\\u0435\\u0434\\u0436\\u0435\\u0440 \\u0432 TG, linkedin, reddit) \\u0432 \\u043a\\u0440\\u0438\\u043f\\u0442\\u043e \\u0441\\u0444\\u0435\\u0440\\u0435\\n\\n\\u0422\\u0440\\u0435\\u0431\\u043e\\u0432\\u0430\\u043d\\u0438\\u044f:\\n\\u2014 \\u0423\\u0432\\u0435\\u0440\\u0435\\u043d\\u043d\\u043e\\u0435 \\u0432\\u043b\\u0430\\u0434\\u0435\\u043d\\u0438\\u0435 \\u0430\\u043d\\u0433\\u043b\\u0438\\u0439\\u0441\\u043a\\u0438\\u043c \\u044f\\u0437\\u044b\\u043a\\u043e\\u043c: \\u0440\\u0430\\u0437\\u0433\\u043e\\u0432\\u043e\\u0440\\u043d\\u044b\\u0439 \\u0438 \\u043f\\u0438\\u0441\\u044c\\u043c\\u0435\\u043d\\u043d\\u044b\\u0439;\\n\\u2014 \\u041e\\u043f\\u044b\\u0442 \\u0440\\u0430\\u0431\\u043e\\u0442\\u044b \\u0441 \\u043a\\u0440\\u0438\\u043f\\u0442\\u043e, \\u0431\\u043b\\u043e\\u043a\\u0447\\u0435\\u0439\\u043d \\u0438 \\u0444\\u0438\\u043d\\u0442\\u0435\\u0445 \\u043f\\u0440\\u043e\\u0435\\u043a\\u0442\\u0430\\u043c\\u0438 \\u043e\\u0431\\u044f\\u0437\\u0430\\u0442\\u0435\\u043b\\u0435\\u043d;\\n\\u2014 \\u041d\\u0430\\u043f\\u0438\\u0441\\u0430\\u043d\\u0438\\u0435 \\u0443\\u043d\\u0438\\u043a\\u0430\\u043b\\u044c\\u043d\\u044b\\u0445 \\u0442\\u0435\\u043a\\u0441\\u0442\\u043e\\u0432  SEO-\\u043e\\u043f\\u0442\\u0438\\u043c\\u0438\\u0437\\u0430\\u0446\\u0438\\u044f, \\u0444\\u043e\\u0440\\u043c\\u0430\\u0442\\u0438\\u0440\\u043e\\u0432\\u0430\\u043d\\u043d\\u044b\\u0435 \\u0437\\u0430\\u0433\\u043e\\u043b\\u043e\\u0432\\u043a\\u0430\\u043c\\u0438, \\u0430\\u0431\\u0437\\u0430\\u0446\\u0430\\u043c\\u0438, \\u0441\\u043f\\u0438\\u0441\\u043a\\u0430\\u043c\\u0438.;\\n\\u2014 \\u0421\\u043e\\u0441\\u0442\\u0430\\u0432\\u043b\\u0435\\u043d\\u0438\\u0435 \\u043e\\u0444\\u0438\\u0446\\u0438\\u0430\\u043b\\u044c\\u043d\\u044b\\u0445 \\u0434\\u043e\\u043a\\u0443\\u043c\\u0435\\u043d\\u0442\\u043e\\u0432 (\\u043f\\u0438\\u0442\\u0447-\\u0434\\u0435\\u043a\\u0438, WP, \\u043f\\u0440\\u043e\\u0447\\u0435\\u0435).\\n\\u2014 \\u041f\\u043e\\u0434\\u0433\\u043e\\u0442\\u043e\\u0432\\u043a\\u0430 \\u043b\\u044e\\u0431\\u043e\\u0433\\u043e \\u0440\\u043e\\u0434\\u0430 \\u0442\\u0435\\u043a\\u0441\\u0442\\u043e\\u0432\\u044b\\u0445 \\u043c\\u0430\\u0442\\u0435\\u0440\\u0438\\u0430\\u043b\\u043e\\u0432: \\u0441\\u0442\\u0430\\u0442\\u0435\\u0439, \\u0432 \\u0442\\u043e\\u043c \\u0447\\u0438\\u0441\\u043b\\u0435 \\u0430\\u043d\\u0430\\u043b\\u0438\\u0442\\u0438\\u0447\\u0435\\u0441\\u043a\\u0438\\u0445, \\u043f\\u0440\\u0435\\u0441\\u0441-\\u0440\\u0435\\u043b\\u0438\\u0437\\u043e\\u0432, SMM \\u0442\\u0435\\u043a\\u0441\\u0442\\u043e\\u0432, \\u043f\\u0440\\u043e\\u0434\\u0430\\u044e\\u0449\\u0438\\u0445 \\u0442\\u0435\\u043a\\u0441\\u0442\\u043e\\u0432, \\u0438\\u043d\\u0442\\u0435\\u0440\\u0432\\u044c\\u044e \\u0438 \\u0442\\u0430\\u043a \\u0434\\u0430\\u043b\\u0435\\n\\n\\u0427\\u0442\\u043e \\u043c\\u044b \\u043f\\u0440\\u0435\\u0434\\u043b\\u0430\\u0433\\u0430\\u0435\\u043c:\\n\\u2014 Fulltime-\\u0440\\u0430\\u0431\\u043e\\u0442\\u0430. \\u0412\\u043e\\u0437\\u043c\\u043e\\u0436\\u0435\\u043d \\u0433\\u0438\\u0431\\u043a\\u0438\\u0439 \\u0433\\u0440\\u0430\\u0444\\u0438\\u043a (\\u0441 \\u0441\\u043e\\u0445\\u0440\\u0430\\u043d\\u0435\\u043d\\u0438\\u0435\\u043c \\u043f\\u0440\\u043e\\u0434\\u0443\\u043a\\u0442\\u0438\\u0432\\u043d\\u043e\\u0441\\u0442\\u0438)\\n\\u2014 \\u041a\\u043e\\u043d\\u043a\\u0443\\u0440\\u0435\\u043d\\u0442\\u043d\\u0430\\u044f \\u0417\\u041f \\u043e\\u0442 80 000 \\u0434\\u043e 140 000 \\u0440., \\u043f\\u043e\\u0434\\u0440\\u043e\\u0431\\u043d\\u0435\\u0435 \\u043e\\u0431\\u0433\\u043e\\u0432\\u043e\\u0440\\u0438\\u043c \\u043b\\u0438\\u0447\\u043d\\u043e\\n\\u2014 \\u0420\\u0430\\u0431\\u043e\\u0442\\u0430 \\u0432 \\u043e\\u0434\\u043d\\u043e\\u0439 \\u0438\\u0437 \\u0442\\u043e\\u043f\\u043e\\u0432\\u044b\\u0445 \\u043a\\u043e\\u043c\\u0430\\u043d\\u0434 \\u0432 \\u0441\\u0432\\u043e\\u0435\\u0439 \\u0441\\u0444\\u0435\\u0440\\u0435\\n\\u2014 \\u0412\\u043e\\u0437\\u043c\\u043e\\u0436\\u043d\\u043e\\u0441\\u0442\\u044c \\u0432\\u044b\\u0431\\u043e\\u0440\\u0430 \\u043c\\u0435\\u0436\\u0434\\u0443 \\u043e\\u0444\\u0438\\u0441\\u043e\\u043c \\u0438 \\u0443\\u0434\\u0430\\u043b\\u0435\\u043d\\u043a\\u043e\\u0439\\n\\u2014 \\u0420\\u0430\\u0431\\u043e\\u0442\\u0430 \\u0432 \\u043f\\u0440\\u0438\\u044f\\u0442\\u043d\\u043e\\u0439 \\u0430\\u0442\\u043c\\u043e\\u0441\\u0444\\u0435\\u0440\\u0435 \\u0441\\u043e \\u0432\\u0441\\u0435\\u0439 \\u0430\\u0442\\u0440\\u0438\\u0431\\u0443\\u0442\\u0438\\u043a\\u043e\\u0439 \\u043b\\u0443\\u0447\\u0448\\u0438\\u0445 \\u043e\\u0444\\u0438\\u0441\\u043e\\u0432 \\u043f\\u043b\\u0430\\u043d\\u0435\\u0442\\u044b \\n\\u2014 \\u041a\\u0443\\u0440\\u0441\\u044b \\u043f\\u043e \\u043f\\u043e\\u0432\\u044b\\u0448\\u0435\\u043d\\u0438\\u044e \\u043a\\u0432\\u0430\\u043b\\u0438\\u0444\\u0438\\u043a\\u0430\\u0446\\u0438\\u0438 \\u043e\\u0442 \\u043a\\u043e\\u043c\\u043f\\u0430\\u043d\\u0438\\u0438\\n\\n\\u041a\\u043e\\u043d\\u0442\\u0430\\u043a\\u0442\\u044b: @danilavaren\",\n          \"#junior #vacancy #\\u0432\\u0430\\u043a\\u0430\\u043d\\u0441\\u0438\\u044f #recruiter\\n\\nJunior IT Recruiter\\nFull-time | Remote\\n\\n\\u041f\\u0440\\u0438\\u0432\\u0435\\u0442! \\ud83d\\udc4b\\n\\u041c\\u0435\\u043d\\u044f \\u0437\\u043e\\u0432\\u0443\\u0442 \\u041d\\u0430\\u0441\\u0442\\u044f, \\u044f \\u0440\\u0435\\u043a\\u0440\\u0443\\u0442\\u0435\\u0440 \\u043a\\u043e\\u043c\\u043f\\u0430\\u043d\\u0438\\u0438 AIPeople. \\u041d\\u0430\\u0448\\u0430 \\u043a\\u043e\\u043c\\u0430\\u043d\\u0434\\u0430 \\u0437\\u0430\\u043d\\u0438\\u043c\\u0430\\u0435\\u0442\\u0441\\u044f \\u043f\\u0435\\u0440\\u0435\\u0434\\u043e\\u0432\\u044b\\u043c\\u0438 \\u043f\\u0440\\u043e\\u0435\\u043a\\u0442\\u0430\\u043c\\u0438 \\u0432 \\u0441\\u0444\\u0435\\u0440\\u0435 \\u0444\\u0438\\u043d\\u0442\\u0435\\u0445\\u0430. ML \\u0438 \\u0431\\u043b\\u043e\\u043a\\u0447\\u0435\\u0439\\u043d - \\u044d\\u0442\\u043e \\u043d\\u0430\\u0448\\u0430 \\u0441\\u0442\\u0438\\u0445\\u0438\\u044f. \\u0420\\u0430\\u0431\\u043e\\u0442\\u0430\\u0435\\u043c \\u0438\\u0437 \\u043e\\u0444\\u0438\\u0441\\u043e\\u0432 \\u0432 \\u041f\\u0435\\u0442\\u0435\\u0440\\u0431\\u0443\\u0440\\u0433\\u0435, \\u043d\\u0430 \\u041a\\u0438\\u043f\\u0440\\u0435 \\u0438 \\u0443\\u0434\\u0430\\u043b\\u0435\\u043d\\u043d\\u043e.\\n\\u0421\\u0435\\u0439\\u0447\\u0430\\u0441 \\u043c\\u044b \\u0438\\u0449\\u0435\\u043c \\u0432 \\u043d\\u0430\\u0448\\u0443 \\u043a\\u043e\\u043c\\u0430\\u043d\\u0434\\u0443 Junior IT Recruiter.\\n\\u041c\\u044b \\u0433\\u043e\\u0442\\u043e\\u0432\\u044b \\u0440\\u0430\\u0441\\u0441\\u043c\\u043e\\u0442\\u0440\\u0435\\u0442\\u044c \\u043a\\u0430\\u043d\\u0434\\u0438\\u0434\\u0430\\u0442\\u043e\\u0432 \\u0441 \\u043c\\u0438\\u043d\\u0438\\u043c\\u0430\\u043b\\u044c\\u043d\\u044b\\u043c \\u043e\\u043f\\u044b\\u0442\\u043e\\u043c \\u0432 IT \\u043f\\u043e\\u0434\\u0431\\u043e\\u0440\\u0435, \\u043d\\u043e \\u0431\\u043e\\u043b\\u044c\\u0448\\u0438\\u043c \\u0436\\u0435\\u043b\\u0430\\u043d\\u0438\\u0435\\u043c \\u0440\\u0430\\u0437\\u0432\\u0438\\u0432\\u0430\\u0442\\u044c\\u0441\\u044f \\u0432 \\u044d\\u0442\\u043e\\u043c \\u043d\\u0430\\u043f\\u0440\\u0430\\u0432\\u043b\\u0435\\u043d\\u0438\\u0438. \\u0423 \\u043d\\u0430\\u0441 \\u043d\\u0435\\u0431\\u043e\\u043b\\u044c\\u0448\\u0430\\u044f \\u043a\\u043e\\u043c\\u0430\\u043d\\u0434\\u0430 \\u0438\\u0437 2\\u0445 \\u0447\\u0435\\u043b\\u043e\\u0432\\u0435\\u043a, \\u0431\\u0443\\u0434\\u0435\\u043c \\u0440\\u0430\\u0434\\u044b, \\u0435\\u0441\\u043b\\u0438 \\u0442\\u044b \\u0442\\u043e\\u0436\\u0435 \\u043a \\u043d\\u0430\\u043c \\u043f\\u0440\\u0438\\u0441\\u043e\\u0435\\u0434\\u0438\\u043d\\u0438\\u0448\\u044c\\u0441\\u044f!\\n\\u0421\\u043f\\u0435\\u043a\\u0442\\u0440 \\u0437\\u0430\\u0434\\u0430\\u0447 \\u043d\\u0430 \\u043f\\u043e\\u0437\\u0438\\u0446\\u0438\\u044e \\u0434\\u043e\\u0432\\u043e\\u043b\\u044c\\u043d\\u043e \\u0441\\u0442\\u0430\\u043d\\u0434\\u0430\\u0440\\u0442\\u043d\\u044b\\u0439. \\u0427\\u0442\\u043e \\u0432\\u0430\\u0436\\u043d\\u0435\\u0435 - \\u044d\\u0442\\u043e \\u0442\\u0432\\u043e\\u0439 \\u043f\\u043e\\u0434\\u0445\\u043e\\u0434 \\u043a \\u0440\\u0430\\u0431\\u043e\\u0442\\u0435, \\u0441\\u0430\\u043c\\u043e\\u0441\\u0442\\u043e\\u044f\\u0442\\u0435\\u043b\\u044c\\u043d\\u043e\\u0441\\u0442\\u044c \\u0438 \\u0436\\u0435\\u043b\\u0430\\u043d\\u0438\\u0435 \\u0434\\u043e\\u0441\\u0442\\u0438\\u0447\\u044c \\u0440\\u0435\\u0437\\u0443\\u043b\\u044c\\u0442\\u0430\\u0442\\u0430!\\n\\n\\u0427\\u0435\\u043c \\u043f\\u0440\\u0435\\u0434\\u0441\\u0442\\u043e\\u0438\\u0442 \\u0437\\u0430\\u043d\\u0438\\u043c\\u0430\\u0442\\u044c\\u0441\\u044f:\\n \\u2022 \\u0421\\u043d\\u044f\\u0442\\u0438\\u0435 \\u0437\\u0430\\u044f\\u0432\\u043a\\u0438 \\u043d\\u0430 \\u0432\\u0430\\u043a\\u0430\\u043d\\u0441\\u0438\\u044e, \\u0444\\u043e\\u0440\\u043c\\u0438\\u0440\\u043e\\u0432\\u0430\\u043d\\u0438\\u0435 \\u043f\\u0440\\u043e\\u0444\\u0438\\u043b\\u044f \\u043f\\u043e\\u0434\\u0445\\u043e\\u0434\\u044f\\u0449\\u0435\\u0433\\u043e \\u043a\\u0430\\u043d\\u0434\\u0438\\u0434\\u0430\\u0442\\u0430;\\n \\u2022 \\u0424\\u043e\\u0440\\u043c\\u0438\\u0440\\u043e\\u0432\\u0430\\u043d\\u0438\\u0435 \\u043f\\u0443\\u043b\\u0430 \\u043a\\u0430\\u043d\\u0434\\u0438\\u0434\\u0430\\u0442\\u043e\\u0432 \\u0438\\u0441\\u043f\\u043e\\u043b\\u044c\\u0437\\u0443\\u044f \\u0440\\u0430\\u0437\\u043b\\u0438\\u0447\\u043d\\u044b\\u0435 \\u0438\\u0441\\u0442\\u043e\\u0447\\u043d\\u0438\\u043a\\u0438, \\u043f\\u0435\\u0440\\u0432\\u044b\\u0439 \\u043a\\u043e\\u043d\\u0442\\u0430\\u043a\\u0442 \\u0441 \\u043d\\u0438\\u043c\\u0438;\\n \\u2022 \\u0412\\u0435\\u0434\\u0435\\u043d\\u0438\\u0435 \\u043a\\u0430\\u043d\\u0434\\u0438\\u0434\\u0430\\u0442\\u0430 \\u043f\\u043e \\u0432\\u0441\\u0435\\u043c \\u044d\\u0442\\u0430\\u043f\\u0430\\u043c \\u0434\\u043e \\u043e\\u0444\\u0444\\u0435\\u0440\\u0430, \\u043f\\u0440\\u0435\\u0434\\u043e\\u0441\\u0442\\u0430\\u0432\\u043b\\u0435\\u043d\\u0438\\u0435 \\u043e\\u043f\\u0435\\u0440\\u0430\\u0442\\u0438\\u0432\\u043d\\u043e\\u0439 \\u043e\\u0431\\u0440\\u0430\\u0442\\u043d\\u043e\\u0439 \\u0441\\u0432\\u044f\\u0437\\u0438;\\n \\u2022 \\u0412\\u0435\\u0434\\u0435\\u043d\\u0438\\u0435 \\u0431\\u0430\\u0437\\u044b \\u043a\\u0430\\u043d\\u0434\\u0438\\u0434\\u0430\\u0442\\u043e\\u0432 (\\u0443 \\u043d\\u0430\\u0441 Huntflow);\\n \\u2022 \\u041c\\u043e\\u043d\\u0438\\u0442\\u043e\\u0440\\u0438\\u043d\\u0433 \\u0438 \\u0430\\u043d\\u0430\\u043b\\u0438\\u0437 \\u0440\\u044b\\u043d\\u043a\\u0430.\\n\\n\\u0427\\u0442\\u043e \\u043c\\u044b \\u0438\\u0449\\u0435\\u043c \\u0432 \\u0441\\u0432\\u043e\\u0435\\u043c \\u0431\\u0443\\u0434\\u0443\\u0449\\u0435\\u043c \\u043a\\u043e\\u043b\\u043b\\u0435\\u0433\\u0435:\\n \\u2022 \\u041e\\u043f\\u044b\\u0442 \\u0440\\u0430\\u0431\\u043e\\u0442\\u044b IT \\u0440\\u0435\\u043a\\u0440\\u0443\\u0442\\u0435\\u0440\\u043e\\u043c \\u043e\\u0442 \\u043f\\u043e\\u043b\\u0443\\u0433\\u043e\\u0434\\u0430;\\n \\u2022 \\u0421\\u0430\\u043c\\u043e\\u0441\\u0442\\u043e\\u044f\\u0442\\u0435\\u043b\\u044c\\u043d\\u043e\\u0441\\u0442\\u044c;\\n \\u2022 \\u0422\\u044b \\u0447\\u0438\\u0442\\u0430\\u0435\\u0448\\u044c \\u0441\\u0442\\u0430\\u0442\\u044c\\u0438 \\u0438 \\u0442\\u0433 \\u043a\\u0430\\u043d\\u0430\\u043b\\u044b \\u043f\\u043e \\u0442\\u0435\\u043c\\u0435, \\u0441\\u043b\\u0443\\u0448\\u0430\\u0435\\u0448\\u044c \\u043f\\u043e\\u0434\\u043a\\u0430\\u0441\\u0442\\u044b, \\u0443 \\u0442\\u0435\\u0431\\u044f \\u0435\\u0441\\u0442\\u044c \\u043f\\u0440\\u043e\\u0444\\u0435\\u0441\\u0441\\u0438\\u043e\\u043d\\u0430\\u043b\\u044c\\u043d\\u044b\\u0435 \\u0446\\u0435\\u043b\\u0438;\\n \\u2022 \\u0423 \\u0442\\u0435\\u0431\\u044f \\u0440\\u0430\\u0437\\u0432\\u0438\\u0442\\u0430\\u044f \\u044d\\u043c\\u043f\\u0430\\u0442\\u0438\\u044f \\u0438 \\u044d\\u043c\\u043e\\u0446\\u0438\\u043e\\u043d\\u0430\\u043b\\u044c\\u043d\\u044b\\u0439 \\u0438\\u043d\\u0442\\u0435\\u043b\\u043b\\u0435\\u043a\\u0442;\\n \\u2022 \\u0422\\u044b \\u043f\\u043e\\u0434\\u0445\\u043e\\u0434\\u0438\\u0448\\u044c \\u043a \\u0440\\u0430\\u0431\\u043e\\u0442\\u0435 \\u043e\\u0442\\u0432\\u0435\\u0442\\u0441\\u0442\\u0432\\u0435\\u043d\\u043d\\u043e \\u0438 \\u0441 \\u0434\\u0443\\u0448\\u043e\\u0439.\\n\\n\\u0427\\u0442\\u043e \\u043c\\u044b \\u043a\\u0430\\u043a \\u043a\\u043e\\u043c\\u043f\\u0430\\u043d\\u0438\\u044f \\u043c\\u043e\\u0436\\u0435\\u043c \\u0442\\u0435\\u0431\\u0435 \\u043f\\u0440\\u0435\\u0434\\u043b\\u043e\\u0436\\u0438\\u0442\\u044c:\\n \\u2022 AIPeople - \\u043a\\u043e\\u043c\\u043f\\u0430\\u043d\\u0438\\u044f \\u0441 \\u0433\\u0438\\u0431\\u043a\\u0438\\u043c\\u0438 \\u043f\\u043e\\u0434\\u0445\\u043e\\u0434\\u0430\\u043c\\u0438, \\u0441 \\u0431\\u043e\\u043b\\u044c\\u0448\\u043e\\u0439 \\u0441\\u0432\\u043e\\u0431\\u043e\\u0434\\u043e\\u0439 \\u0438 \\u043e\\u0442\\u0432\\u0435\\u0442\\u0441\\u0442\\u0432\\u0435\\u043d\\u043d\\u043e\\u0441\\u0442\\u044c\\u044e \\u0443 \\u043a\\u0430\\u0436\\u0434\\u043e\\u0433\\u043e. \\u0415\\u0434\\u0438\\u043d\\u0441\\u0442\\u0432\\u0435\\u043d\\u043d\\u043e\\u0435, \\u0447\\u0442\\u043e \\u0443 \\u043d\\u0430\\u0441 \\u043e\\u0442\\u0441\\u0443\\u0442\\u0441\\u0442\\u0432\\u0443\\u0435\\u0442 - \\u044d\\u0442\\u043e \\u0431\\u044e\\u0440\\u043e\\u043a\\u0440\\u0430\\u0442\\u0438\\u044f\\n \\u2022 \\u041e\\u043f\\u044b\\u0442 \\u0440\\u0430\\u0431\\u043e\\u0442\\u044b \\u0441 \\u0443\\u043c\\u043d\\u044b\\u043c\\u0438 \\u043b\\u044e\\u0434\\u044c\\u043c\\u0438 \\u0438, \\u0441\\u043e\\u043e\\u0442\\u0432\\u0435\\u0442\\u0441\\u0442\\u0432\\u0435\\u043d\\u043d\\u043e, \\u0441 \\u043d\\u0435\\u0442\\u0440\\u0438\\u0432\\u0438\\u0430\\u043b\\u044c\\u043d\\u044b\\u043c\\u0438 \\u0442\\u0435\\u0445\\u043d\\u043e\\u043b\\u043e\\u0433\\u0438\\u044f\\u043c;\\n \\u2022 \\u0412\\u043e\\u0437\\u043c\\u043e\\u0436\\u043d\\u043e\\u0441\\u0442\\u044c \\u0440\\u0430\\u0431\\u043e\\u0442\\u0430\\u0442\\u044c \\u0443\\u0434\\u0430\\u043b\\u0435\\u043d\\u043d\\u043e, \\u0438\\u0437 \\u043b\\u044e\\u0431\\u043e\\u0439 \\u0443\\u0434\\u043e\\u0431\\u043d\\u043e\\u0439 \\u0434\\u043b\\u044f \\u0442\\u0435\\u0431\\u044f \\u043b\\u043e\\u043a\\u0430\\u0446\\u0438\\u0438\\n\\n\\u0415\\u0441\\u043b\\u0438 \\u0438\\u043d\\u0442\\u0435\\u0440\\u0435\\u0441\\u043d\\u043e \\u0441 \\u043d\\u0430\\u043c\\u0438 \\u043f\\u043e\\u0440\\u0430\\u0431\\u043e\\u0442\\u0430\\u0442\\u044c - \\u043e\\u0442\\u043a\\u043b\\u0438\\u043a\\u0430\\u0439\\u0441\\u044f \\u0438 \\u043e\\u0431\\u044f\\u0437\\u0430\\u0442\\u0435\\u043b\\u044c\\u043d\\u043e \\u043d\\u0430\\u043f\\u0438\\u0448\\u0438 \\u0432 \\u0441\\u043e\\u043f\\u0440\\u043e\\u0432\\u043e\\u0434\\u0438\\u0442\\u0435\\u043b\\u044c\\u043d\\u043e\\u043c \\u043f\\u0438\\u0441\\u044c\\u043c\\u0435 \\u043a\\u0430\\u043a\\u0438\\u043c\\u0438 \\u043d\\u0435\\u0441\\u0442\\u0430\\u043d\\u0434\\u0430\\u0440\\u0442\\u043d\\u044b\\u0435 \\u0438\\u043d\\u0441\\u0442\\u0440\\u0443\\u043c\\u0435\\u043d\\u0442\\u044b \\u043f\\u043e\\u0438\\u0441\\u043a\\u0430 \\u0442\\u044b \\u0438\\u0441\\u043f\\u043e\\u043b\\u044c\\u0437\\u0443\\u0435\\u0448\\u044c \\u0438 \\u0447\\u0435\\u0440\\u0435\\u0437 \\u043a\\u0430\\u043a\\u043e\\u0439 \\u0441\\u0430\\u043c\\u044b\\u0439 \\u043d\\u0435\\u0442\\u0440\\u0438\\u0432\\u0438\\u0430\\u043b\\u044c\\u043d\\u044b\\u0439 \\u0440\\u0435\\u0441\\u0443\\u0440\\u0441 \\u0442\\u0435\\u0431\\u0435 \\u0443\\u0434\\u0430\\u043b\\u043e\\u0441\\u044c \\u0437\\u0430\\u043a\\u0440\\u044b\\u0442\\u044c \\u0432\\u0430\\u043a\\u0430\\u043d\\u0441\\u0438\\u044e.\\n\\n\\u041a\\u043e\\u043d\\u0442\\u0430\\u043a\\u0442 \\u0434\\u043b\\u044f \\u043e\\u0442\\u043a\\u043b\\u0438\\u043a\\u0430: @nastyaishiring\"\n        ],\n        \"semantic_type\": \"\",\n        \"description\": \"\"\n      }\n    }\n  ]\n}"
            }
          },
          "metadata": {},
          "execution_count": 6
        }
      ]
    },
    {
      "cell_type": "code",
      "source": [
        "template = \"\"\"Из следующего текста извлеки информацию:\n",
        "\n",
        "job_title: Как указано в описании вакансии, на том же языке. Проверяем полное совпадение, без учета регистра. Если написан грейд, его нужно убрать (например, Senior Python developer -> Python developer, C++ разработчик (middle, senior) ->C++ разработчик).\n",
        "\n",
        "company: Как указано в описании вакансии, на том же языке. Проверяем полное совпадение, без учета регистра.Указываем только название (не пишем финтех, крупная компания, мобильная игра и т.д.).\n",
        "\n",
        "salary: Числа пишем без пробелов, не пишем тыс. или к.(умножаем в таком случае на 1000), не пишем фикс, плюшки, премии, % от продаж, техника и т.д. Не пишем net, gross, на руки и т.д. После числа (диапазона чисел) указываем валюту руб. или $ после пробела.Если указан диапазон, то пишем его через тире, около тире пробелы не ставим (например, 100к-150к рублей -> 100000-150000 руб.).Если указана только нижняя граница (от 2000$ или 100000+руб), то пишем это значение, используя слово от (например, 100к+руб -> от 100000 руб.).Если указана только верхняя граница, то пишем это значение, используя слово до (например, до 100к руб -> до 100000 руб.).Если зарплата указана за час, то в конце добавляем в час.\n",
        "\n",
        "tg: Указываем контакт в телеграмм, используя @. Проверяем полное совпадение, с учетом регистра. Если указано несколько контаков, то указываем их через запятую (не забывая про пробел после запятой).\n",
        "\n",
        "grade: Возможные значения intern, junior, junior+, middle, middle+, senior, lead. Если указано несколько значений, то пишем их через запятую в порядке возрастания.\n",
        "\n",
        "text: {text}\n",
        "\n",
        "{format_instructions}\n",
        "\"\"\"\n",
        "\n",
        "prompt = ChatPromptTemplate.from_template(template=template)"
      ],
      "metadata": {
        "id": "u14oe5fGsJdM"
      },
      "execution_count": 7,
      "outputs": []
    },
    {
      "cell_type": "code",
      "source": [
        "job_title_schema = ResponseSchema(\n",
        "    name=\"job_title\",\n",
        "    description=\"Как указано в описании вакансии, на том же языке. Проверяем полное совпадение, без учета регистра. Если написан грейд, его нужно убрать (например, Senior Python developer -> Python developer, C++ разработчик (middle, senior) ->C++ разработчик). Грейды могут быть записаны как Возможные значения intern, junior, junior+, middle, middle+, senior, lead.\"\n",
        ")\n",
        "\n",
        "\n",
        "company_schema = ResponseSchema(\n",
        "    name=\"company\",\n",
        "    description=\"Как указано в описании вакансии, на том же языке. Проверяем полное совпадение, без учета регистра.Указываем только название (не пишем финтех, крупная компания, мобильная игра и т.д.).\"\n",
        ")\n",
        "\n",
        "\n",
        "salary_schema = ResponseSchema(\n",
        "    name=\"salary\",\n",
        "    description=\"Числа пишем без пробелов, не пишем тыс. или к.(умножаем в таком случае на 1000), не пишем фикс, плюшки, премии, % от продаж, техника и т.д. Не пишем net, gross, на руки и т.д. После числа (диапазона чисел) указываем валюту руб. или $ после пробела.Если указан диапазон, то пишем его через тире, около тире пробелы не ставим (например, 100к-150к рублей -> 100000-150000 руб.).Если указана только нижняя граница (от 2000$ или 100000+руб), то пишем это значение, используя слово от (например, 100к+руб -> от 100000 руб.).Если указана только верхняя граница, то пишем это значение, используя слово до (например, до 100к руб -> до 100000 руб.).Если зарплата указана за час, то в конце добавляем в час.\"\n",
        ")\n",
        "\n",
        "\n",
        "tg_schema = ResponseSchema(\n",
        "    name=\"tg\",\n",
        "    description=\"Указываем контакт в телеграмм, используя @. Проверяем полное совпадение, с учетом регистра. Если указано несколько контаков, то указываем их через запятую (не забывая про пробел после запятой).\"\n",
        ")\n",
        "\n",
        "\n",
        "grade_schema = ResponseSchema(\n",
        "    name=\"grade\",\n",
        "    description=\"Возможные значения intern, junior, junior+, middle, middle+, senior, lead. Если указано несколько значений, то пишем их через запятую в порядке возрастания.\"\n",
        ")\n",
        "\n",
        "response_schemas = [\n",
        "    job_title_schema,\n",
        "    company_schema,\n",
        "    salary_schema,\n",
        "    tg_schema,\n",
        "    grade_schema\n",
        "]"
      ],
      "metadata": {
        "id": "N90KnUeFs-Kn"
      },
      "execution_count": 16,
      "outputs": []
    },
    {
      "cell_type": "code",
      "source": [
        "output_parser = StructuredOutputParser.from_response_schemas(response_schemas) # Создаём парсер и подаём в него список со схемами\n",
        "format_instructions = output_parser.get_format_instructions() # Получаем инструкции по форматированию ответа"
      ],
      "metadata": {
        "id": "_rIWSsUruZM8"
      },
      "execution_count": 17,
      "outputs": []
    },
    {
      "cell_type": "code",
      "source": [
        "dict_list = [] # Список из словарей, где будем хранить полученную информацию\n",
        "for text_input in df['text']:\n",
        "    messages = prompt.format_messages(\n",
        "        text=text_input,\n",
        "        format_instructions=format_instructions\n",
        "    )\n",
        "    response = llm.invoke(messages) # Ответ модели\n",
        "    dict_list.append(output_parser.parse(response.content)) # Переводим содержимое ответа модели в словарь и добавляем в список"
      ],
      "metadata": {
        "id": "5BjhrkTdsBBE"
      },
      "execution_count": 18,
      "outputs": []
    },
    {
      "cell_type": "code",
      "source": [
        "print(dict_list)"
      ],
      "metadata": {
        "colab": {
          "base_uri": "https://localhost:8080/"
        },
        "id": "YeGMbKlA2vxF",
        "outputId": "f9b1804c-1baf-4875-fe03-b44714b72da1"
      },
      "execution_count": 19,
      "outputs": [
        {
          "output_type": "stream",
          "name": "stdout",
          "text": [
            "[{'job_title': 'Python developer', 'company': 'Collectly', 'salary': '6000-9000$', 'tg': '@ann_gfio', 'grade': 'senior'}, {'job_title': 'СИСТЕМНОГО АНАЛИТИКА', 'company': 'АКЦИОНЕРНОЕ ОБЩЕСТВО «ГЛАВНЫЙ НАУЧНЫЙ ИННОВАЦИОННЫЙ ВНЕДРЕНЧЕСКИЙ ЦЕНТР»', 'salary': '320000-370000 руб.', 'tg': '@NatalyaMaki', 'grade': 'middle'}, {'job_title': 'Database Administrator', 'company': 'Match Systems', 'salary': 'от 3000$', 'tg': '@lex_kertis', 'grade': 'senior'}, {'job_title': 'Руководитель отдела системного администрирования', 'company': 'финтех компания', 'salary': 'от 3000$', 'tg': '@ResearcherRIT', 'grade': 'middle'}, {'job_title': 'Analyst', 'company': 'Sirena Travel', 'salary': '120000-180000 руб.', 'tg': '@ann_gfio', 'grade': 'middle'}, {'job_title': 'DevOps инженер', 'company': 'Mad Devs', 'salary': 'до 5000$', 'tg': '@recruiter_maddevs', 'grade': 'senior'}, {'job_title': 'Системный аналитик', 'company': 'Платформа', 'salary': '180000-300000 руб.', 'tg': '@Alexandrabogdanova_96', 'grade': 'middle, middle+, senior, lead'}, {'job_title': 'Python/Django full-stack разработчика', 'company': 'ivelum', 'salary': '$4000-$6000', 'tg': '@lebedevaoi', 'grade': 'middle'}, {'job_title': 'Go разработчик', 'company': 'КА Алешин Д.А.', 'salary': 'до 500000 руб.', 'tg': '@AleshinDmitry80', 'grade': 'middle, senior'}, {'job_title': 'Разработчик (Vue.js / Golang) для написания телеграм приложения (апки)', 'company': '', 'salary': '', 'tg': '', 'grade': 'junior'}, {'job_title': 'Lead UI/UX Designer', 'company': 'Not specified', 'salary': 'Not specified', 'tg': '@alesyaly', 'grade': 'lead'}, {'job_title': 'QA automation Engineer (Python)', 'company': 'CFPS', 'salary': '180000-250000 руб.', 'tg': '@Ana_Itrecruiter', 'grade': 'middle'}, {'job_title': 'Full Stack PHP-разработчик', 'company': 'GetCourse', 'salary': 'от 250000 руб.', 'tg': '@Ritttka1', 'grade': 'senior'}, {'job_title': 'Frontend разработчик', 'company': 'Travelata', 'salary': '280000-320000 руб.', 'tg': '@ann_gfio', 'grade': 'senior'}, {'job_title': 'React Developer', 'company': 'крупный банк', 'salary': '180000-230000 руб', 'tg': 'Личка', 'grade': 'middle+'}, {'job_title': 'PHP-developer (Symfony)', 'company': 'KT.Team', 'salary': 'до 240000 руб.', 'tg': '@innahotim', 'grade': 'middle'}, {'job_title': 'Retention Manager (iGaming)', 'company': 'не указано', 'salary': 'не указано', 'tg': '@alesyaly', 'grade': 'не указано'}, {'job_title': 'Python developer', 'company': 'Skillbox', 'salary': '300000-400000 руб.', 'tg': '@ann_gfio', 'grade': 'senior'}, {'job_title': 'Программист 1С:ЗУП', 'company': 'КСА', 'salary': '220000-250000 руб.', 'tg': '@saras770', 'grade': ''}, {'job_title': 'Системный аналитик', 'company': 'Amber', 'salary': 'до 300000 руб', 'tg': '@Sholpan771', 'grade': 'middle, senior'}, {'job_title': 'Tech Lead QA auto', 'company': 'RecruitIT', 'salary': 'от 3000$', 'tg': '@ResearcherRIT', 'grade': 'middle, senior, lead'}, {'job_title': 'Backend Python разработчик', 'company': 'Траст Строй', 'salary': 'от 100000 руб.', 'tg': '@Lyubov_Vladim', 'grade': 'Senior'}, {'job_title': 'Менеджер по развитию партнерской сети', 'company': 'AMBER', 'salary': 'от 130000 руб.', 'tg': '@Sholpan771', 'grade': 'middle'}, {'job_title': 'Full-stack разработчик (Node.js, Vue.js, Nuxt.js)', 'company': \"КА 'АйтиКА'\", 'salary': '300000-380000 руб.', 'tg': '@artur_vv', 'grade': 'middle'}, {'job_title': 'C# Engineer', 'company': 'GGEM', 'salary': 'от 17$ в час', 'tg': '@AlexMayel', 'grade': 'middle'}, {'job_title': 'System Analyst', 'company': 'Brief', 'salary': '240000-300000 рub', 'tg': '@smirnsvet', 'grade': 'middle+'}, {'job_title': 'Разработчик PowerBuilder', 'company': 'Outlines Tech', 'salary': 'до 290000 руб.', 'tg': '@mnoita', 'grade': ''}, {'job_title': 'Системный аналитик', 'company': 'INFOPRO', 'salary': '100000-200000 руб.', 'tg': '@ann_gfio', 'grade': 'middle'}, {'job_title': 'Java developer middle', 'company': 'Инновационные решения', 'salary': '200000-250000 руб.', 'tg': '@Sholpan771', 'grade': 'middle, middle+'}, {'job_title': 'PHP программист', 'company': '100UP', 'salary': 'от 150000 до 200000 руб.', 'tg': '@romanenko_daria', 'grade': 'middle'}, {'job_title': 'Junior IT Recruiter', 'company': 'AIPeople', 'salary': 'от полугода', 'tg': '@nastyaishiring', 'grade': 'junior'}, {'job_title': 'C/C++ Developer', 'company': 'NTS', 'salary': '140000-300000 руб.', 'tg': '@ann_gfio', 'grade': 'middle, senior'}, {'job_title': 'PHP developer', 'company': 'ВодоходЪ', 'salary': '180000-200000 руб.', 'tg': '@ann_gfio', 'grade': 'middle, senior'}, {'job_title': 'Python Developer', 'company': 'ALEX GROUP COMPANY', 'salary': 'от 3000 до 3600 USD', 'tg': '@danilavaren', 'grade': 'middle'}, {'job_title': 'Go Developer / WB Portal', 'company': 'WILDBERRIES', 'salary': 'от 150000 до 600000 руб.', 'tg': '@hr_legoit', 'grade': 'middle'}, {'job_title': 'SDR', 'company': 'Ptolemay', 'salary': '300-1000 $', 'tg': '@Dmitriy_Ptolemay, @rinapina_ptolemay', 'grade': 'junior, junior+'}, {'job_title': 'C# Developer', 'company': 'Sirena Travel', 'salary': '300000-400000 руб.', 'tg': '@ann_gfio', 'grade': 'middle'}, {'job_title': 'Системный администратор', 'company': 'MANUFAQTURY', 'salary': 'от 80000 руб.', 'tg': '@Отклики в лс', 'grade': 'junior, middle'}, {'job_title': 'Аналитик', 'company': 'Автомакон', 'salary': 'от 0 руб.', 'tg': '@nikolaazzp', 'grade': 'intern'}, {'job_title': 'Копирайтер в сфере крипты', 'company': 'ALEX GROUP COMPANY', 'salary': 'от 80000 до 140000 руб.', 'tg': '@danilavaren', 'grade': 'junior, middle, senior'}, {'job_title': 'QA (QA auto)', 'company': 'Dreamsoft', 'salary': 'ставка открыта', 'tg': '@DreamITB', 'grade': 'middle'}, {'job_title': 'Системный аналитик', 'company': 'AWG', 'salary': 'до 350000 руб.', 'tg': '@ElivHR', 'grade': 'senior'}, {'job_title': 'Release manager / Основное мобильное приложение', 'company': 'WILDBERRIES', 'salary': 'от 150000 руб. до 350000 руб.', 'tg': '@invader_s', 'grade': 'middle'}, {'job_title': 'DevOps (Openstack Engineer)', 'company': 'Mayflower', 'salary': '5000-6000 $', 'tg': '@Alexandr_Mayel', 'grade': 'senior'}, {'job_title': 'Go Developer / WB Portal', 'company': 'WILDBERRIES', 'salary': 'от 150000 до 600000 руб.', 'tg': '@Fl_recruiter', 'grade': 'middle'}, {'job_title': 'Backend Engineer в стартап', 'company': 'Qlan', 'salary': '110000-140000 руб./месяц', 'tg': '@laptev13', 'grade': 'middle+, senior'}, {'job_title': 'Программист на верстку многостраничного сайта с элементами интернет-магазина и личного кабинета', 'company': 'Название компании не указано', 'salary': 'Зарплата не указана', 'tg': '@vlrstrtsv', 'grade': 'middle'}, {'job_title': 'DWH developer', 'company': 'König Labs', 'salary': '250000-300000 руб.', 'tg': '@HrKristinaorekhova', 'grade': 'middle, senior'}, {'job_title': 'Frontend разработчик Angular', 'company': 'Nobilis.Team', 'salary': '180000-250000 руб.', 'tg': '@Anna_HRinIT', 'grade': 'middle'}, {'job_title': 'HR Manager', 'company': 'ALEX GROUP COMPANY', 'salary': 'от 70000 до 90000 руб.', 'tg': '@danilavaren', 'grade': 'junior'}]\n"
          ]
        }
      ]
    },
    {
      "cell_type": "code",
      "source": [
        "result_df = pd.DataFrame(dict_list) # Создаем датафрейм из полученной информации\n",
        "ans_df = pd.concat([df, result_df], axis=1) # Объединяем всё в один датафрейм\n",
        "ans_df.to_csv('2_2_8_solution.csv', index=False) # Сохраняем файл, отправляем на Stepik, получаем баллы :)"
      ],
      "metadata": {
        "id": "YdkJvAxN5ghP"
      },
      "execution_count": 20,
      "outputs": []
    }
  ],
  "metadata": {
    "colab": {
      "provenance": [],
      "include_colab_link": true
    },
    "kernelspec": {
      "display_name": "Python 3",
      "name": "python3"
    },
    "language_info": {
      "name": "python"
    }
  },
  "nbformat": 4,
  "nbformat_minor": 0
}