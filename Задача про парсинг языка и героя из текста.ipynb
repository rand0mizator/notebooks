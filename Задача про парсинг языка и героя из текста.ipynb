{
  "nbformat": 4,
  "nbformat_minor": 0,
  "metadata": {
    "colab": {
      "provenance": [],
      "include_colab_link": true
    },
    "kernelspec": {
      "name": "python3",
      "display_name": "Python 3"
    },
    "language_info": {
      "name": "python"
    }
  },
  "cells": [
    {
      "cell_type": "markdown",
      "metadata": {
        "id": "view-in-github",
        "colab_type": "text"
      },
      "source": [
        "<a href=\"https://colab.research.google.com/github/rand0mizator/notebooks/blob/main/%D0%97%D0%B0%D0%B4%D0%B0%D1%87%D0%B0%20%D0%BF%D1%80%D0%BE%20%D0%BF%D0%B0%D1%80%D1%81%D0%B8%D0%BD%D0%B3%20%D1%8F%D0%B7%D1%8B%D0%BA%D0%B0%20%D0%B8%20%D0%B3%D0%B5%D1%80%D0%BE%D1%8F%20%D0%B8%D0%B7%20%D1%82%D0%B5%D0%BA%D1%81%D1%82%D0%B0.ipynb\" target=\"_parent\"><img src=\"https://colab.research.google.com/assets/colab-badge.svg\" alt=\"Open In Colab\"/></a>"
      ]
    },
    {
      "cell_type": "code",
      "execution_count": 89,
      "metadata": {
        "id": "gEG2cGnXfVBM"
      },
      "outputs": [],
      "source": [
        "!pip install langchain openai langchain-openai langchain-community -q"
      ]
    },
    {
      "cell_type": "code",
      "source": [
        "import re\n",
        "import pandas as pd\n",
        "from tqdm import tqdm\n",
        "from getpass import getpass\n",
        "\n",
        "from langchain.prompts import PromptTemplate\n",
        "from langchain.chains import LLMChain, TransformChain\n",
        "from langchain.output_parsers import ResponseSchema, StructuredOutputParser"
      ],
      "metadata": {
        "id": "ix68Au3nfW94"
      },
      "execution_count": 90,
      "outputs": []
    },
    {
      "cell_type": "markdown",
      "source": [
        "## Если используете ключ от OpenAI, запустите эту ячейку 👇"
      ],
      "metadata": {
        "id": "C0K7awRZfciu"
      }
    },
    {
      "cell_type": "code",
      "source": [
        "import os\n",
        "from langchain_openai import ChatOpenAI\n",
        "\n",
        "\n",
        "# os.environ['OPENAI_API_KEY'] = \"Введите ваш OpenAI API ключ\"\n",
        "os.environ['OPENAI_API_KEY'] = getpass(prompt='Введите ваш OpenAI API ключ')\n",
        "\n",
        "# Инициализируем языковую модель\n",
        "llm = ChatOpenAI(temperature=0.0)"
      ],
      "metadata": {
        "id": "oSaeU0STfbxu",
        "colab": {
          "base_uri": "https://localhost:8080/",
          "height": 356
        },
        "outputId": "a6a541ff-7d15-41cc-bcd4-d04ec5007829"
      },
      "execution_count": 91,
      "outputs": [
        {
          "output_type": "error",
          "ename": "KeyboardInterrupt",
          "evalue": "Interrupted by user",
          "traceback": [
            "\u001b[0;31m---------------------------------------------------------------------------\u001b[0m",
            "\u001b[0;31mKeyboardInterrupt\u001b[0m                         Traceback (most recent call last)",
            "\u001b[0;32m<ipython-input-91-321319f3af8a>\u001b[0m in \u001b[0;36m<cell line: 6>\u001b[0;34m()\u001b[0m\n\u001b[1;32m      4\u001b[0m \u001b[0;34m\u001b[0m\u001b[0m\n\u001b[1;32m      5\u001b[0m \u001b[0;31m# os.environ['OPENAI_API_KEY'] = \"Введите ваш OpenAI API ключ\"\u001b[0m\u001b[0;34m\u001b[0m\u001b[0;34m\u001b[0m\u001b[0m\n\u001b[0;32m----> 6\u001b[0;31m \u001b[0mos\u001b[0m\u001b[0;34m.\u001b[0m\u001b[0menviron\u001b[0m\u001b[0;34m[\u001b[0m\u001b[0;34m'OPENAI_API_KEY'\u001b[0m\u001b[0;34m]\u001b[0m \u001b[0;34m=\u001b[0m \u001b[0mgetpass\u001b[0m\u001b[0;34m(\u001b[0m\u001b[0mprompt\u001b[0m\u001b[0;34m=\u001b[0m\u001b[0;34m'Введите ваш OpenAI API ключ'\u001b[0m\u001b[0;34m)\u001b[0m\u001b[0;34m\u001b[0m\u001b[0;34m\u001b[0m\u001b[0m\n\u001b[0m\u001b[1;32m      7\u001b[0m \u001b[0;34m\u001b[0m\u001b[0m\n\u001b[1;32m      8\u001b[0m \u001b[0;31m# Инициализируем языковую модель\u001b[0m\u001b[0;34m\u001b[0m\u001b[0;34m\u001b[0m\u001b[0m\n",
            "\u001b[0;32m/usr/local/lib/python3.10/dist-packages/ipykernel/kernelbase.py\u001b[0m in \u001b[0;36mgetpass\u001b[0;34m(self, prompt, stream)\u001b[0m\n\u001b[1;32m    832\u001b[0m             warnings.warn(\"The `stream` parameter of `getpass.getpass` will have no effect when using ipykernel\",\n\u001b[1;32m    833\u001b[0m                     UserWarning, stacklevel=2)\n\u001b[0;32m--> 834\u001b[0;31m         return self._input_request(prompt,\n\u001b[0m\u001b[1;32m    835\u001b[0m             \u001b[0mself\u001b[0m\u001b[0;34m.\u001b[0m\u001b[0m_parent_ident\u001b[0m\u001b[0;34m,\u001b[0m\u001b[0;34m\u001b[0m\u001b[0;34m\u001b[0m\u001b[0m\n\u001b[1;32m    836\u001b[0m             \u001b[0mself\u001b[0m\u001b[0;34m.\u001b[0m\u001b[0m_parent_header\u001b[0m\u001b[0;34m,\u001b[0m\u001b[0;34m\u001b[0m\u001b[0;34m\u001b[0m\u001b[0m\n",
            "\u001b[0;32m/usr/local/lib/python3.10/dist-packages/ipykernel/kernelbase.py\u001b[0m in \u001b[0;36m_input_request\u001b[0;34m(self, prompt, ident, parent, password)\u001b[0m\n\u001b[1;32m    893\u001b[0m             \u001b[0;32mexcept\u001b[0m \u001b[0mKeyboardInterrupt\u001b[0m\u001b[0;34m:\u001b[0m\u001b[0;34m\u001b[0m\u001b[0;34m\u001b[0m\u001b[0m\n\u001b[1;32m    894\u001b[0m                 \u001b[0;31m# re-raise KeyboardInterrupt, to truncate traceback\u001b[0m\u001b[0;34m\u001b[0m\u001b[0;34m\u001b[0m\u001b[0m\n\u001b[0;32m--> 895\u001b[0;31m                 \u001b[0;32mraise\u001b[0m \u001b[0mKeyboardInterrupt\u001b[0m\u001b[0;34m(\u001b[0m\u001b[0;34m\"Interrupted by user\"\u001b[0m\u001b[0;34m)\u001b[0m \u001b[0;32mfrom\u001b[0m \u001b[0;32mNone\u001b[0m\u001b[0;34m\u001b[0m\u001b[0;34m\u001b[0m\u001b[0m\n\u001b[0m\u001b[1;32m    896\u001b[0m             \u001b[0;32mexcept\u001b[0m \u001b[0mException\u001b[0m \u001b[0;32mas\u001b[0m \u001b[0me\u001b[0m\u001b[0;34m:\u001b[0m\u001b[0;34m\u001b[0m\u001b[0;34m\u001b[0m\u001b[0m\n\u001b[1;32m    897\u001b[0m                 \u001b[0mself\u001b[0m\u001b[0;34m.\u001b[0m\u001b[0mlog\u001b[0m\u001b[0;34m.\u001b[0m\u001b[0mwarning\u001b[0m\u001b[0;34m(\u001b[0m\u001b[0;34m\"Invalid Message:\"\u001b[0m\u001b[0;34m,\u001b[0m \u001b[0mexc_info\u001b[0m\u001b[0;34m=\u001b[0m\u001b[0;32mTrue\u001b[0m\u001b[0;34m)\u001b[0m\u001b[0;34m\u001b[0m\u001b[0;34m\u001b[0m\u001b[0m\n",
            "\u001b[0;31mKeyboardInterrupt\u001b[0m: Interrupted by user"
          ]
        }
      ]
    },
    {
      "cell_type": "markdown",
      "source": [
        "## Если используете ключ из курса, запустите эти ячейки 👇\n"
      ],
      "metadata": {
        "id": "KfBKAJ0vfiCh"
      }
    },
    {
      "cell_type": "code",
      "source": [
        "!wget https://raw.githubusercontent.com/a-milenkin/LLM_practical_course/main/notebooks/utils.py"
      ],
      "metadata": {
        "id": "mOvzGTXyfgAw",
        "colab": {
          "base_uri": "https://localhost:8080/"
        },
        "outputId": "14f07132-6985-45b1-9d1d-cca0314a104b"
      },
      "execution_count": 92,
      "outputs": [
        {
          "output_type": "stream",
          "name": "stdout",
          "text": [
            "--2024-04-28 13:43:20--  https://raw.githubusercontent.com/a-milenkin/LLM_practical_course/main/notebooks/utils.py\n",
            "Resolving raw.githubusercontent.com (raw.githubusercontent.com)... 185.199.108.133, 185.199.109.133, 185.199.110.133, ...\n",
            "Connecting to raw.githubusercontent.com (raw.githubusercontent.com)|185.199.108.133|:443... connected.\n",
            "HTTP request sent, awaiting response... 200 OK\n",
            "Length: 10823 (11K) [text/plain]\n",
            "Saving to: ‘utils.py.1’\n",
            "\n",
            "utils.py.1          100%[===================>]  10.57K  --.-KB/s    in 0s      \n",
            "\n",
            "2024-04-28 13:43:21 (76.3 MB/s) - ‘utils.py.1’ saved [10823/10823]\n",
            "\n"
          ]
        }
      ]
    },
    {
      "cell_type": "code",
      "source": [
        "from utils import ChatOpenAI\n",
        "from getpass import getpass\n",
        "\n",
        "#course_api_key= \"Введите ваш API ключ, полученный в боте курса\"\n",
        "course_api_key = getpass(prompt='Введите ваш API ключ, полученный в боте курса')\n",
        "\n",
        "# инициализируем языковую модель\n",
        "llm = ChatOpenAI(temperature=0.0, course_api_key=course_api_key)"
      ],
      "metadata": {
        "id": "_baYTEnSfex7",
        "colab": {
          "base_uri": "https://localhost:8080/"
        },
        "outputId": "bc48bc5c-cfb0-461c-e86d-5907fcfb6b28"
      },
      "execution_count": 93,
      "outputs": [
        {
          "name": "stdout",
          "output_type": "stream",
          "text": [
            "Введите ваш API ключ, полученный в боте курса··········\n"
          ]
        }
      ]
    },
    {
      "cell_type": "markdown",
      "source": [
        "## Задание 3.2.9 🤔 Кажется, это что-то на LLM-ском? 🧐"
      ],
      "metadata": {
        "id": "z2JH453Ufm4L"
      }
    },
    {
      "cell_type": "code",
      "source": [
        "df = pd.read_csv(\"https://stepik.org/media/attachments/lesson/1110883/raw_texts.csv\")\n",
        "df.head()"
      ],
      "metadata": {
        "id": "HExe1XOeflIq",
        "colab": {
          "base_uri": "https://localhost:8080/",
          "height": 206
        },
        "outputId": "4c5fa5f3-03db-4481-876c-169725e8db2a"
      },
      "execution_count": 94,
      "outputs": [
        {
          "output_type": "execute_result",
          "data": {
            "text/plain": [
              "                                            raw_text\n",
              "0  The sun was setting, casting long shadows over...\n",
              "1  Le soleil se couchait, jetant de longues ombre...\n",
              "2  El sol se estaba poniendo, proyectando largas ...\n",
              "3  La ciudad estaba llena de vida, sus calles lle...\n",
              "4  La ville était pleine de vie, ses rues remplie..."
            ],
            "text/html": [
              "\n",
              "  <div id=\"df-22410c66-1600-4f55-9423-f0eda0997b0a\" class=\"colab-df-container\">\n",
              "    <div>\n",
              "<style scoped>\n",
              "    .dataframe tbody tr th:only-of-type {\n",
              "        vertical-align: middle;\n",
              "    }\n",
              "\n",
              "    .dataframe tbody tr th {\n",
              "        vertical-align: top;\n",
              "    }\n",
              "\n",
              "    .dataframe thead th {\n",
              "        text-align: right;\n",
              "    }\n",
              "</style>\n",
              "<table border=\"1\" class=\"dataframe\">\n",
              "  <thead>\n",
              "    <tr style=\"text-align: right;\">\n",
              "      <th></th>\n",
              "      <th>raw_text</th>\n",
              "    </tr>\n",
              "  </thead>\n",
              "  <tbody>\n",
              "    <tr>\n",
              "      <th>0</th>\n",
              "      <td>The sun was setting, casting long shadows over...</td>\n",
              "    </tr>\n",
              "    <tr>\n",
              "      <th>1</th>\n",
              "      <td>Le soleil se couchait, jetant de longues ombre...</td>\n",
              "    </tr>\n",
              "    <tr>\n",
              "      <th>2</th>\n",
              "      <td>El sol se estaba poniendo, proyectando largas ...</td>\n",
              "    </tr>\n",
              "    <tr>\n",
              "      <th>3</th>\n",
              "      <td>La ciudad estaba llena de vida, sus calles lle...</td>\n",
              "    </tr>\n",
              "    <tr>\n",
              "      <th>4</th>\n",
              "      <td>La ville était pleine de vie, ses rues remplie...</td>\n",
              "    </tr>\n",
              "  </tbody>\n",
              "</table>\n",
              "</div>\n",
              "    <div class=\"colab-df-buttons\">\n",
              "\n",
              "  <div class=\"colab-df-container\">\n",
              "    <button class=\"colab-df-convert\" onclick=\"convertToInteractive('df-22410c66-1600-4f55-9423-f0eda0997b0a')\"\n",
              "            title=\"Convert this dataframe to an interactive table.\"\n",
              "            style=\"display:none;\">\n",
              "\n",
              "  <svg xmlns=\"http://www.w3.org/2000/svg\" height=\"24px\" viewBox=\"0 -960 960 960\">\n",
              "    <path d=\"M120-120v-720h720v720H120Zm60-500h600v-160H180v160Zm220 220h160v-160H400v160Zm0 220h160v-160H400v160ZM180-400h160v-160H180v160Zm440 0h160v-160H620v160ZM180-180h160v-160H180v160Zm440 0h160v-160H620v160Z\"/>\n",
              "  </svg>\n",
              "    </button>\n",
              "\n",
              "  <style>\n",
              "    .colab-df-container {\n",
              "      display:flex;\n",
              "      gap: 12px;\n",
              "    }\n",
              "\n",
              "    .colab-df-convert {\n",
              "      background-color: #E8F0FE;\n",
              "      border: none;\n",
              "      border-radius: 50%;\n",
              "      cursor: pointer;\n",
              "      display: none;\n",
              "      fill: #1967D2;\n",
              "      height: 32px;\n",
              "      padding: 0 0 0 0;\n",
              "      width: 32px;\n",
              "    }\n",
              "\n",
              "    .colab-df-convert:hover {\n",
              "      background-color: #E2EBFA;\n",
              "      box-shadow: 0px 1px 2px rgba(60, 64, 67, 0.3), 0px 1px 3px 1px rgba(60, 64, 67, 0.15);\n",
              "      fill: #174EA6;\n",
              "    }\n",
              "\n",
              "    .colab-df-buttons div {\n",
              "      margin-bottom: 4px;\n",
              "    }\n",
              "\n",
              "    [theme=dark] .colab-df-convert {\n",
              "      background-color: #3B4455;\n",
              "      fill: #D2E3FC;\n",
              "    }\n",
              "\n",
              "    [theme=dark] .colab-df-convert:hover {\n",
              "      background-color: #434B5C;\n",
              "      box-shadow: 0px 1px 3px 1px rgba(0, 0, 0, 0.15);\n",
              "      filter: drop-shadow(0px 1px 2px rgba(0, 0, 0, 0.3));\n",
              "      fill: #FFFFFF;\n",
              "    }\n",
              "  </style>\n",
              "\n",
              "    <script>\n",
              "      const buttonEl =\n",
              "        document.querySelector('#df-22410c66-1600-4f55-9423-f0eda0997b0a button.colab-df-convert');\n",
              "      buttonEl.style.display =\n",
              "        google.colab.kernel.accessAllowed ? 'block' : 'none';\n",
              "\n",
              "      async function convertToInteractive(key) {\n",
              "        const element = document.querySelector('#df-22410c66-1600-4f55-9423-f0eda0997b0a');\n",
              "        const dataTable =\n",
              "          await google.colab.kernel.invokeFunction('convertToInteractive',\n",
              "                                                    [key], {});\n",
              "        if (!dataTable) return;\n",
              "\n",
              "        const docLinkHtml = 'Like what you see? Visit the ' +\n",
              "          '<a target=\"_blank\" href=https://colab.research.google.com/notebooks/data_table.ipynb>data table notebook</a>'\n",
              "          + ' to learn more about interactive tables.';\n",
              "        element.innerHTML = '';\n",
              "        dataTable['output_type'] = 'display_data';\n",
              "        await google.colab.output.renderOutput(dataTable, element);\n",
              "        const docLink = document.createElement('div');\n",
              "        docLink.innerHTML = docLinkHtml;\n",
              "        element.appendChild(docLink);\n",
              "      }\n",
              "    </script>\n",
              "  </div>\n",
              "\n",
              "\n",
              "<div id=\"df-af250f86-02fc-4429-baf4-dfb7789a0433\">\n",
              "  <button class=\"colab-df-quickchart\" onclick=\"quickchart('df-af250f86-02fc-4429-baf4-dfb7789a0433')\"\n",
              "            title=\"Suggest charts\"\n",
              "            style=\"display:none;\">\n",
              "\n",
              "<svg xmlns=\"http://www.w3.org/2000/svg\" height=\"24px\"viewBox=\"0 0 24 24\"\n",
              "     width=\"24px\">\n",
              "    <g>\n",
              "        <path d=\"M19 3H5c-1.1 0-2 .9-2 2v14c0 1.1.9 2 2 2h14c1.1 0 2-.9 2-2V5c0-1.1-.9-2-2-2zM9 17H7v-7h2v7zm4 0h-2V7h2v10zm4 0h-2v-4h2v4z\"/>\n",
              "    </g>\n",
              "</svg>\n",
              "  </button>\n",
              "\n",
              "<style>\n",
              "  .colab-df-quickchart {\n",
              "      --bg-color: #E8F0FE;\n",
              "      --fill-color: #1967D2;\n",
              "      --hover-bg-color: #E2EBFA;\n",
              "      --hover-fill-color: #174EA6;\n",
              "      --disabled-fill-color: #AAA;\n",
              "      --disabled-bg-color: #DDD;\n",
              "  }\n",
              "\n",
              "  [theme=dark] .colab-df-quickchart {\n",
              "      --bg-color: #3B4455;\n",
              "      --fill-color: #D2E3FC;\n",
              "      --hover-bg-color: #434B5C;\n",
              "      --hover-fill-color: #FFFFFF;\n",
              "      --disabled-bg-color: #3B4455;\n",
              "      --disabled-fill-color: #666;\n",
              "  }\n",
              "\n",
              "  .colab-df-quickchart {\n",
              "    background-color: var(--bg-color);\n",
              "    border: none;\n",
              "    border-radius: 50%;\n",
              "    cursor: pointer;\n",
              "    display: none;\n",
              "    fill: var(--fill-color);\n",
              "    height: 32px;\n",
              "    padding: 0;\n",
              "    width: 32px;\n",
              "  }\n",
              "\n",
              "  .colab-df-quickchart:hover {\n",
              "    background-color: var(--hover-bg-color);\n",
              "    box-shadow: 0 1px 2px rgba(60, 64, 67, 0.3), 0 1px 3px 1px rgba(60, 64, 67, 0.15);\n",
              "    fill: var(--button-hover-fill-color);\n",
              "  }\n",
              "\n",
              "  .colab-df-quickchart-complete:disabled,\n",
              "  .colab-df-quickchart-complete:disabled:hover {\n",
              "    background-color: var(--disabled-bg-color);\n",
              "    fill: var(--disabled-fill-color);\n",
              "    box-shadow: none;\n",
              "  }\n",
              "\n",
              "  .colab-df-spinner {\n",
              "    border: 2px solid var(--fill-color);\n",
              "    border-color: transparent;\n",
              "    border-bottom-color: var(--fill-color);\n",
              "    animation:\n",
              "      spin 1s steps(1) infinite;\n",
              "  }\n",
              "\n",
              "  @keyframes spin {\n",
              "    0% {\n",
              "      border-color: transparent;\n",
              "      border-bottom-color: var(--fill-color);\n",
              "      border-left-color: var(--fill-color);\n",
              "    }\n",
              "    20% {\n",
              "      border-color: transparent;\n",
              "      border-left-color: var(--fill-color);\n",
              "      border-top-color: var(--fill-color);\n",
              "    }\n",
              "    30% {\n",
              "      border-color: transparent;\n",
              "      border-left-color: var(--fill-color);\n",
              "      border-top-color: var(--fill-color);\n",
              "      border-right-color: var(--fill-color);\n",
              "    }\n",
              "    40% {\n",
              "      border-color: transparent;\n",
              "      border-right-color: var(--fill-color);\n",
              "      border-top-color: var(--fill-color);\n",
              "    }\n",
              "    60% {\n",
              "      border-color: transparent;\n",
              "      border-right-color: var(--fill-color);\n",
              "    }\n",
              "    80% {\n",
              "      border-color: transparent;\n",
              "      border-right-color: var(--fill-color);\n",
              "      border-bottom-color: var(--fill-color);\n",
              "    }\n",
              "    90% {\n",
              "      border-color: transparent;\n",
              "      border-bottom-color: var(--fill-color);\n",
              "    }\n",
              "  }\n",
              "</style>\n",
              "\n",
              "  <script>\n",
              "    async function quickchart(key) {\n",
              "      const quickchartButtonEl =\n",
              "        document.querySelector('#' + key + ' button');\n",
              "      quickchartButtonEl.disabled = true;  // To prevent multiple clicks.\n",
              "      quickchartButtonEl.classList.add('colab-df-spinner');\n",
              "      try {\n",
              "        const charts = await google.colab.kernel.invokeFunction(\n",
              "            'suggestCharts', [key], {});\n",
              "      } catch (error) {\n",
              "        console.error('Error during call to suggestCharts:', error);\n",
              "      }\n",
              "      quickchartButtonEl.classList.remove('colab-df-spinner');\n",
              "      quickchartButtonEl.classList.add('colab-df-quickchart-complete');\n",
              "    }\n",
              "    (() => {\n",
              "      let quickchartButtonEl =\n",
              "        document.querySelector('#df-af250f86-02fc-4429-baf4-dfb7789a0433 button');\n",
              "      quickchartButtonEl.style.display =\n",
              "        google.colab.kernel.accessAllowed ? 'block' : 'none';\n",
              "    })();\n",
              "  </script>\n",
              "</div>\n",
              "    </div>\n",
              "  </div>\n"
            ],
            "application/vnd.google.colaboratory.intrinsic+json": {
              "type": "dataframe",
              "variable_name": "df",
              "summary": "{\n  \"name\": \"df\",\n  \"rows\": 13,\n  \"fields\": [\n    {\n      \"column\": \"raw_text\",\n      \"properties\": {\n        \"dtype\": \"string\",\n        \"num_unique_values\": 13,\n        \"samples\": [\n          \"\\u0412 \\u0433\\u043e\\u0440\\u043e\\u0434\\u0435 \\u0431\\u044b\\u043b\\u043e \\u043c\\u043d\\u043e\\u0436\\u0435\\u0441\\u0442\\u0432\\u043e \\u043b\\u044e\\u00a3\\u0434\\u0435\\u0439, \\u043a\\u0430\\u0436\\u0434\\u044b\\u0439 \\u0438\\u0437 \\u043a\\u043e\\u00bf\\u0442\\u043e\\u0440\\u044b\\u0445 \\u0431\\u044b\\u043b \\u0437\\u0430\\u043d\\u044f\\u0442 \\u0441\\u0432\\u043e\\u0438\\u043c\\u0438 \\u0434\\u0435\\u043b\\u0430\\u043c\\u0438. \\u0421\\u0440\\u00bf\\u0435\\u0434\\u0438 \\u044d\\u0442\\u043e\\u0439 \\u0441\\u0443\\u0435\\u0442\\u044b, \\u0418\\u0432\\u0430\\u00a3\\u043d, \\u043c\\u043e\\u043b\\u043e\\u0434\\u043e\\u0439 \\u0447\\u0435\\u043b\\u043e\\u0432\\u0435\\u043a \\u0441 \\u0431\\u043e\\u043b\\u044c\\u0448\\u0438\\u043c\\u0438 \\u043c\\u0435\\u0447\\u0442\\u0430\\u043c\\u0438, \\u043f\\u044b\\u0442\\u0430\\u043b\\u0441\\u044f \\u043d\\u0430\\u0439\\u0442\\u0438 \\u0441\\u0432\\u043e\\u0435 \\u043c\\u0435\\u0441\\u0442\\u043e. \\u0415\\u0433\\u043e \\u0434\\u0440\\u0443\\u0437\\u044c\\u044f, \\u0421\\u0435\\u0440\\u0433\\u0435\\u0439 \\u0438 \\u041c\\u0430\\u0440\\u00a1\\u0438\\u044f, \\u0432\\u0441\\u0435\\u0433\\u0434\\u0430 \\u0431\\u044b\\u043b\\u0438 \\u0440\\u044f\\u0434\\u043e\\u043c, \\u043f\\u043e\\u0434\\u0434\\u0435\\u0440\\u0436\\u0438\\u0432\\u0430\\u044f \\u0435\\u0433\\u043e \\u0432\\u043e \\u0432\\u0441\\u0435\\u0445 \\u043d\\u0430\\u0447\\u0438\\u043d\\u0430\\u043d\\u0438\\u044f\\u0445. \\u041e\\u043d\\u0438 \\u0432\\u0435\\u0440\\u0438\\u043b\\u0438 \\u0432 \\u043d\\u0435\\u0433\\u043e, \\u043a\\u043e\\u0433\\u0434\\u0430 \\u043d\\u0438\\u043a\\u0442\\u043e \\u0434\\u0440\\u0443\\u0433\\u043e\\u0439 \\u043d\\u0435 \\u0432\\u0435\\u0440\\u0438\\u043b. \\u041d\\u043e \\u0436\\u0438\\u0437\\u043d\\u044c \\u0432 \\u0433\\u043e\\u0440\\u043e\\u0434\\u0435 \\u0431\\u044b\\u043b\\u0430 \\u043d\\u0435\\u043f\\u0440\\u043e\\u0441\\u0442\\u043e\\u0439. \\u041a\\u043e\\u043d\\u043a\\u0443\\u0440\\u0435\\u043d\\u0446\\u0438\\u044f \\u0431\\u044b\\u043b\\u0430 \\u043e\\u0436\\u0435\\u0441\\u0442\\u043e\\u0447\\u0435\\u043d\\u043d\\u043e\\u0439, \\u0430 \\u0431\\u043e\\u0440\\u044c\\u0431\\u0430 - \\u0440\\u0435\\u0430\\u043b\\u044c\\u043d\\u043e\\u0439. \\u041d\\u0435\\u0441\\u043c\\u043e\\u0442\\u0440\\u044f \\u043d\\u0430 \\u0432\\u0441\\u0435 \\u0442\\u0440\\u0443\\u0434\\u043d\\u043e\\u0441\\u0442\\u0438, \\u0418\\u0432\\u0430\\u043d \\u0431\\u044b\\u043b \\u0440\\u0435\\u0448\\u0435\\u043d \\u0441\\u0434\\u0435\\u043b\\u0430\\u0442\\u044c \\u0432\\u0441\\u0435 \\u0432\\u043e\\u0437\\u043c\\u043e\\u0436\\u043d\\u043e\\u0435, \\u0447\\u0442\\u043e\\u0431\\u00a3\\u044b \\u0434\\u043e\\u0441\\u0442\\u0438\\u0447\\u044c \\u0441\\u0432\\u043e\\u0438\\u0445 \\u0446\\u0435\\u043b\\u0435\\u0439. \\u041e\\u043d \\u0437\\u043d\\u0430\\u043b, \\u0447\\u0442\\u043e \\u0435\\u043c\\u0443 \\u043f\\u0440\\u0438\\u0434\\u0435\\u0442\\u0441\\u044f \\u043c\\u043d\\u043e\\u0433\\u043e \\u0440\\u0430\\u0431\\u043e\\u0442\\u0430\\u0442\\u044c \\u0438 \\u043d\\u0438\\u043a\\u043e\\u0433\\u0434\\u0430 \\u043d\\u0435 \\u0441\\u0434\\u0430\\u0432\\u0430\\u0442\\u044c\\u0441\\u044f. \\u0415\\u0433\\u043e \\u043f\\u0443\\u0442\\u044c \\u0431\\u044b\\u043b \\u043d\\u0435\\u043f\\u0440\\u043e\\u0441\\u0442, \\u043d\\u043e \\u0431\\u043b\\u0430\\u0433\\u043e\\u0434\\u0430\\u0440\\u044f \\u043f\\u043e\\u0434\\u0434\\u0435\\u0440\\u0436\\u043a\\u0435 \\u0434\\u0440\\u0443\\u0437\\u0435\\u0439 \\u0438 \\u043d\\u0435\\u043f\\u043e\\u043a\\u043e\\u043b\\u0435\\u0431\\u0438\\u043c\\u043e\\u0439 \\u0440\\u0435\\u0448\\u0438\\u043c\\u043e\\u0441\\u0442\\u0438, \\u043e\\u043d \\u0441\\u043c\\u043e\\u0433 \\u043f\\u0440\\u0435\\u043e\\u0434\\u043e\\u043b\\u0435\\u0442\\u044c \\u0432\\u0441\\u0435 \\u043f\\u0440\\u0435\\u043f\\u044f\\u0442\\u0441\\u0442\\u0432\\u0438\\u044f \\u0438 \\u0434\\u00a1\\u043e\\u0441\\u0442\\u0438\\u0447\\u044c \\u0441\\u0432\\u043e\\u0438\\u0445 \\u043c\\u0435\\u0447\\u0442.\",\n          \"En un peque\\u00f1o pueblo situado entre la\\u00a3s m\\u00bfonta\\u00f1as y el mar, viv\\u00eda una chica llamada Maria. Era conocida por su bondad y su amor por la naturaleza. Su vida estaba llena de personajes interesantes: el viejo pescador Juan, que le contaba historias del mar, el joven Tom\\u00e1s, que se un\\u00eda a ella en sus aventuras, y su mejor amiga Emilia, que siempre estaba all\\u00ed\\u00a1 para ella. Juntos, vivieron muchas aventuras, y cada d\\u00eda era un nuevo descubrimiento para ellos\\u00a3.\",\n          \"The sun was setting, casting long shadows over the small town. Jo\\u00bfhn, a middle-aged man with a heart full of dreams, was sitting on the porch of his old house. His friends, Peter and Mary, were there with him, sharing stories of their youth. They were all from the same tow\\u00a1n, and their lives were intertwined in ways they could never have imagined. Peter, a burly man with a booming voice, was the town's blacksmith. He was a man of few words, but his actions spoke volumes. Mary, on the other hand, was the town's schoolteacher. She was a woman of great wisdom and kindness, always ready to lend a helping hand. As they s\\u00a1at there, reminiscing about the past, a sense of nostalgia washed over them. They remembered the days when they were young and full of hope, when the world seemed full of possibilities. But now, as they looked at the setting sun, they realized that those days were long gone. John, however, was not ready to give up. He still had dreams, dreams that he was determined to fulfill. He knew that it would not be easy, but he was ready to face whatever challenges came his way. With Peter and Mary by his side, he knew that he could achieve anything.\"\n        ],\n        \"semantic_type\": \"\",\n        \"description\": \"\"\n      }\n    }\n  ]\n}"
            }
          },
          "metadata": {},
          "execution_count": 94
        }
      ]
    },
    {
      "cell_type": "markdown",
      "source": [
        "Напишем функцию, которая очистит текст от ненужных символов: `¿, ¡, £`"
      ],
      "metadata": {
        "id": "lECMhfEigA2x"
      }
    },
    {
      "cell_type": "code",
      "source": [
        "def clean_text(inputs: dict) -> dict:\n",
        "    text = inputs[\"text\"]\n",
        "    clean_txt = re.sub(r'[¿|¡|£]+', '', text)\n",
        "    inputs['text'] = clean_txt\n",
        "    return inputs"
      ],
      "metadata": {
        "id": "kcQcCsnqgDo-"
      },
      "execution_count": 95,
      "outputs": []
    },
    {
      "cell_type": "markdown",
      "source": [
        "Будем просить у модели определять язык и имя главного персонажа и выдавать ответ в виде словаря. Для этого создадим `Output parser`, с которым вы уже познакомились в прошлых уроках."
      ],
      "metadata": {
        "id": "I5fppZD7gISy"
      }
    },
    {
      "cell_type": "code",
      "source": [
        "# Определим схемы ответа\n",
        "language_schema = ResponseSchema(name=\"language\", description=\"Определи язык на котором написан текст. Запиши название этого языка на английском. Например, не Русский, а Russian. Не Deutsch, а German\")\n",
        "\n",
        "person_schema = ResponseSchema(name=\"main_character\", description=\"Определи имя главного героя текста. Запиши имя этого персонажа так, как оно записано в тексте. Например Hans, Pierrot, Анна\")\n",
        "\n",
        "response_schemas = [language_schema, person_schema]\n",
        "output_parser = StructuredOutputParser.from_response_schemas(response_schemas)\n",
        "format_instructions = output_parser.get_format_instructions()\n"
      ],
      "metadata": {
        "id": "sMwNyCdigKr3"
      },
      "execution_count": 96,
      "outputs": []
    },
    {
      "cell_type": "markdown",
      "source": [
        "Напишем шаблон промпта со своим вопросом и инструкциями по форматированию ответа. Будем передавать в этот промпт сырой текст"
      ],
      "metadata": {
        "id": "X4sjobt8gaeC"
      }
    },
    {
      "cell_type": "code",
      "source": [
        "template = \"\"\"\\\n",
        "Из следующего текста извлеки информацию:\n",
        "\n",
        "language: Определи язык на котором написан текст. Запиши название этого языка на английском. Например, не Русский, а Russian. Не Deutsch, а German\n",
        "\n",
        "main_character: Определи имя главного героя текста. Запиши имя этого персонажа так, как оно записано в тексте. Например Hans, Pierrot, Анна\n",
        "\n",
        "text: {text}\n",
        "\n",
        "{format_instructions}\n",
        "\"\"\"\n",
        "prompt = PromptTemplate(\n",
        "    input_variables=['text'],\n",
        "    template=template,\n",
        ")\n"
      ],
      "metadata": {
        "id": "YO0jk4_rgaCH"
      },
      "execution_count": 97,
      "outputs": []
    },
    {
      "cell_type": "markdown",
      "source": [
        "Создадим цепочку с помощью `LCEL`"
      ],
      "metadata": {
        "id": "Uf9zTeF4gi4H"
      }
    },
    {
      "cell_type": "code",
      "source": [
        "chain = prompt | llm | output_parser"
      ],
      "metadata": {
        "id": "u3DdWjgQggEF"
      },
      "execution_count": 98,
      "outputs": []
    },
    {
      "cell_type": "code",
      "source": [
        "result = []\n",
        "for text in tqdm(df['raw_text']):\n",
        "    cln_txt = clean_text({'text': text})\n",
        "    inputs = {'text': cln_txt['text'], 'format_instructions': format_instructions}\n",
        "    answer = chain.invoke(inputs)\n",
        "    inputs.update(answer)\n",
        "    result.append(inputs)\n",
        "    print(result)\n",
        "    # break # Для отладки. Уберите, когда убедитесь, что на одном примере работает"
      ],
      "metadata": {
        "id": "ZrDjre54gpVs",
        "colab": {
          "base_uri": "https://localhost:8080/"
        },
        "outputId": "712c7a84-5b3e-4b5c-cfbc-a404b5f94ed7"
      },
      "execution_count": 99,
      "outputs": [
        {
          "output_type": "stream",
          "name": "stderr",
          "text": [
            "  8%|▊         | 1/13 [00:01<00:12,  1.05s/it]"
          ]
        },
        {
          "output_type": "stream",
          "name": "stdout",
          "text": [
            "[{'text': \"The sun was setting, casting long shadows over the small town. John, a middle-aged man with a heart full of dreams, was sitting on the porch of his old house. His friends, Peter and Mary, were there with him, sharing stories of their youth. They were all from the same town, and their lives were intertwined in ways they could never have imagined. Peter, a burly man with a booming voice, was the town's blacksmith. He was a man of few words, but his actions spoke volumes. Mary, on the other hand, was the town's schoolteacher. She was a woman of great wisdom and kindness, always ready to lend a helping hand. As they sat there, reminiscing about the past, a sense of nostalgia washed over them. They remembered the days when they were young and full of hope, when the world seemed full of possibilities. But now, as they looked at the setting sun, they realized that those days were long gone. John, however, was not ready to give up. He still had dreams, dreams that he was determined to fulfill. He knew that it would not be easy, but he was ready to face whatever challenges came his way. With Peter and Mary by his side, he knew that he could achieve anything.\", 'format_instructions': 'The output should be a markdown code snippet formatted in the following schema, including the leading and trailing \"```json\" and \"```\":\\n\\n```json\\n{\\n\\t\"language\": string  // Определи язык на котором написан текст. Запиши название этого языка на английском. Например, не Русский, а Russian. Не Deutsch, а German\\n\\t\"main_character\": string  // Определи имя главного героя текста. Запиши имя этого персонажа так, как оно записано в тексте. Например Hans, Pierrot, Анна\\n}\\n```', 'language': 'English', 'main_character': 'John'}]\n"
          ]
        },
        {
          "output_type": "stream",
          "name": "stderr",
          "text": [
            "\r 15%|█▌        | 2/13 [00:01<00:10,  1.08it/s]"
          ]
        },
        {
          "output_type": "stream",
          "name": "stdout",
          "text": [
            "[{'text': \"The sun was setting, casting long shadows over the small town. John, a middle-aged man with a heart full of dreams, was sitting on the porch of his old house. His friends, Peter and Mary, were there with him, sharing stories of their youth. They were all from the same town, and their lives were intertwined in ways they could never have imagined. Peter, a burly man with a booming voice, was the town's blacksmith. He was a man of few words, but his actions spoke volumes. Mary, on the other hand, was the town's schoolteacher. She was a woman of great wisdom and kindness, always ready to lend a helping hand. As they sat there, reminiscing about the past, a sense of nostalgia washed over them. They remembered the days when they were young and full of hope, when the world seemed full of possibilities. But now, as they looked at the setting sun, they realized that those days were long gone. John, however, was not ready to give up. He still had dreams, dreams that he was determined to fulfill. He knew that it would not be easy, but he was ready to face whatever challenges came his way. With Peter and Mary by his side, he knew that he could achieve anything.\", 'format_instructions': 'The output should be a markdown code snippet formatted in the following schema, including the leading and trailing \"```json\" and \"```\":\\n\\n```json\\n{\\n\\t\"language\": string  // Определи язык на котором написан текст. Запиши название этого языка на английском. Например, не Русский, а Russian. Не Deutsch, а German\\n\\t\"main_character\": string  // Определи имя главного героя текста. Запиши имя этого персонажа так, как оно записано в тексте. Например Hans, Pierrot, Анна\\n}\\n```', 'language': 'English', 'main_character': 'John'}, {'text': \"Le soleil se couchait, jetant de longues ombres sur la petite ville. Pierre, un homme d'âge moyen avec un cœur plein de rêves, était assis sur le porche de sa vieille maison. Ses amis, Jacques et Marie, étaient là avec lui, partageant des histoires de leur jeunesse. Ils étaient tous de la même ville, et leurs vies étaient entrelacées de manière qu'ils n'auraient jamais pu imaginer. Jacques, un homme robuste à la voix tonitruante, était le forgeron de la ville. Il était un homme de peu de mots, mais ses actions parlaient beaucoup. Marie, en revanche, était l'institutrice de la ville. Elle était une femme de grande sagesse et de gentillesse, toujours prête à tendre la main. Alors qu'ils étaient assis là, se remémorant le passé, un sentiment de nostalgie les envahit. Ils se souvenaient des jours où ils étaient jeunes et pleins d'espoir, quand le monde semblait plein de possibilités. Mais maintenant, en regardant le soleil couchant, ils se rendaient compte que ces jours étaient révolus. Pierre, cependant, n'était pas prêt à abandonner. Il avait encore des rêves, des rêves qu'il était déterminé à réaliser. Il savait que ce ne serait pas facile, mais il était prêt à affronter tous les défis qui se présenteraient à lui. Avec Jacques et Marie à ses côtés, il savait qu'il pouvait accomplir n'importe quoi.\", 'format_instructions': 'The output should be a markdown code snippet formatted in the following schema, including the leading and trailing \"```json\" and \"```\":\\n\\n```json\\n{\\n\\t\"language\": string  // Определи язык на котором написан текст. Запиши название этого языка на английском. Например, не Русский, а Russian. Не Deutsch, а German\\n\\t\"main_character\": string  // Определи имя главного героя текста. Запиши имя этого персонажа так, как оно записано в тексте. Например Hans, Pierrot, Анна\\n}\\n```', 'language': 'French', 'main_character': 'Pierre'}]\n"
          ]
        },
        {
          "output_type": "stream",
          "name": "stderr",
          "text": [
            "\r 23%|██▎       | 3/13 [00:02<00:08,  1.15it/s]"
          ]
        },
        {
          "output_type": "stream",
          "name": "stdout",
          "text": [
            "[{'text': \"The sun was setting, casting long shadows over the small town. John, a middle-aged man with a heart full of dreams, was sitting on the porch of his old house. His friends, Peter and Mary, were there with him, sharing stories of their youth. They were all from the same town, and their lives were intertwined in ways they could never have imagined. Peter, a burly man with a booming voice, was the town's blacksmith. He was a man of few words, but his actions spoke volumes. Mary, on the other hand, was the town's schoolteacher. She was a woman of great wisdom and kindness, always ready to lend a helping hand. As they sat there, reminiscing about the past, a sense of nostalgia washed over them. They remembered the days when they were young and full of hope, when the world seemed full of possibilities. But now, as they looked at the setting sun, they realized that those days were long gone. John, however, was not ready to give up. He still had dreams, dreams that he was determined to fulfill. He knew that it would not be easy, but he was ready to face whatever challenges came his way. With Peter and Mary by his side, he knew that he could achieve anything.\", 'format_instructions': 'The output should be a markdown code snippet formatted in the following schema, including the leading and trailing \"```json\" and \"```\":\\n\\n```json\\n{\\n\\t\"language\": string  // Определи язык на котором написан текст. Запиши название этого языка на английском. Например, не Русский, а Russian. Не Deutsch, а German\\n\\t\"main_character\": string  // Определи имя главного героя текста. Запиши имя этого персонажа так, как оно записано в тексте. Например Hans, Pierrot, Анна\\n}\\n```', 'language': 'English', 'main_character': 'John'}, {'text': \"Le soleil se couchait, jetant de longues ombres sur la petite ville. Pierre, un homme d'âge moyen avec un cœur plein de rêves, était assis sur le porche de sa vieille maison. Ses amis, Jacques et Marie, étaient là avec lui, partageant des histoires de leur jeunesse. Ils étaient tous de la même ville, et leurs vies étaient entrelacées de manière qu'ils n'auraient jamais pu imaginer. Jacques, un homme robuste à la voix tonitruante, était le forgeron de la ville. Il était un homme de peu de mots, mais ses actions parlaient beaucoup. Marie, en revanche, était l'institutrice de la ville. Elle était une femme de grande sagesse et de gentillesse, toujours prête à tendre la main. Alors qu'ils étaient assis là, se remémorant le passé, un sentiment de nostalgie les envahit. Ils se souvenaient des jours où ils étaient jeunes et pleins d'espoir, quand le monde semblait plein de possibilités. Mais maintenant, en regardant le soleil couchant, ils se rendaient compte que ces jours étaient révolus. Pierre, cependant, n'était pas prêt à abandonner. Il avait encore des rêves, des rêves qu'il était déterminé à réaliser. Il savait que ce ne serait pas facile, mais il était prêt à affronter tous les défis qui se présenteraient à lui. Avec Jacques et Marie à ses côtés, il savait qu'il pouvait accomplir n'importe quoi.\", 'format_instructions': 'The output should be a markdown code snippet formatted in the following schema, including the leading and trailing \"```json\" and \"```\":\\n\\n```json\\n{\\n\\t\"language\": string  // Определи язык на котором написан текст. Запиши название этого языка на английском. Например, не Русский, а Russian. Не Deutsch, а German\\n\\t\"main_character\": string  // Определи имя главного героя текста. Запиши имя этого персонажа так, как оно записано в тексте. Например Hans, Pierrot, Анна\\n}\\n```', 'language': 'French', 'main_character': 'Pierre'}, {'text': 'El sol se estaba poniendo, proyectando largas sombras sobre el pequeño pueblo. Carlos, un hombre de mediana edad con un corazón lleno de sueños, estaba sentado en el porche de su antigua casa. Sus amigos, Pedro y María, estaban allí con él, compartiendo historias de su juventud. Todos eran del mismo pueblo, y sus vidas estaban entrelazadas de formas que nunca podrían haber imaginado. Pedro, un hombre corpulento con una voz estruendosa, era el herrero del pueblo. Era un hombre de pocas palabras, pero sus acciones hablaban por sí solas. María, por otro lado, era la maestra del pueblo. Era una mujer de gran sabiduría y bondad, siempre dispuesta a echar una mano. Mientras estaban allí, recordando el pasado, un sentimiento de nostalgia los invadió. Recordaban los días en que eran jóvenes y llenos de esperanza, cuando el mundo parecía lleno de posibilidades. Pero ahora, al mirar el sol poniente, se dieron cuenta de que esos días habían quedado atrás. Carlos, sin embargo, no estaba listo para rendirse. Todavía tenía sueños, sueños que estaba decidido a cumplir. Sabía que no sería fácil, pero estaba dispuesto a enfrentar cualquier desafío que se le presentara. Con Pedro y María a su lado, sabía que podía lograr cualquier cosa.', 'format_instructions': 'The output should be a markdown code snippet formatted in the following schema, including the leading and trailing \"```json\" and \"```\":\\n\\n```json\\n{\\n\\t\"language\": string  // Определи язык на котором написан текст. Запиши название этого языка на английском. Например, не Русский, а Russian. Не Deutsch, а German\\n\\t\"main_character\": string  // Определи имя главного героя текста. Запиши имя этого персонажа так, как оно записано в тексте. Например Hans, Pierrot, Анна\\n}\\n```', 'language': 'Spanish', 'main_character': 'Carlos'}]\n"
          ]
        },
        {
          "output_type": "stream",
          "name": "stderr",
          "text": [
            "\r 31%|███       | 4/13 [00:03<00:07,  1.18it/s]"
          ]
        },
        {
          "output_type": "stream",
          "name": "stdout",
          "text": [
            "[{'text': \"The sun was setting, casting long shadows over the small town. John, a middle-aged man with a heart full of dreams, was sitting on the porch of his old house. His friends, Peter and Mary, were there with him, sharing stories of their youth. They were all from the same town, and their lives were intertwined in ways they could never have imagined. Peter, a burly man with a booming voice, was the town's blacksmith. He was a man of few words, but his actions spoke volumes. Mary, on the other hand, was the town's schoolteacher. She was a woman of great wisdom and kindness, always ready to lend a helping hand. As they sat there, reminiscing about the past, a sense of nostalgia washed over them. They remembered the days when they were young and full of hope, when the world seemed full of possibilities. But now, as they looked at the setting sun, they realized that those days were long gone. John, however, was not ready to give up. He still had dreams, dreams that he was determined to fulfill. He knew that it would not be easy, but he was ready to face whatever challenges came his way. With Peter and Mary by his side, he knew that he could achieve anything.\", 'format_instructions': 'The output should be a markdown code snippet formatted in the following schema, including the leading and trailing \"```json\" and \"```\":\\n\\n```json\\n{\\n\\t\"language\": string  // Определи язык на котором написан текст. Запиши название этого языка на английском. Например, не Русский, а Russian. Не Deutsch, а German\\n\\t\"main_character\": string  // Определи имя главного героя текста. Запиши имя этого персонажа так, как оно записано в тексте. Например Hans, Pierrot, Анна\\n}\\n```', 'language': 'English', 'main_character': 'John'}, {'text': \"Le soleil se couchait, jetant de longues ombres sur la petite ville. Pierre, un homme d'âge moyen avec un cœur plein de rêves, était assis sur le porche de sa vieille maison. Ses amis, Jacques et Marie, étaient là avec lui, partageant des histoires de leur jeunesse. Ils étaient tous de la même ville, et leurs vies étaient entrelacées de manière qu'ils n'auraient jamais pu imaginer. Jacques, un homme robuste à la voix tonitruante, était le forgeron de la ville. Il était un homme de peu de mots, mais ses actions parlaient beaucoup. Marie, en revanche, était l'institutrice de la ville. Elle était une femme de grande sagesse et de gentillesse, toujours prête à tendre la main. Alors qu'ils étaient assis là, se remémorant le passé, un sentiment de nostalgie les envahit. Ils se souvenaient des jours où ils étaient jeunes et pleins d'espoir, quand le monde semblait plein de possibilités. Mais maintenant, en regardant le soleil couchant, ils se rendaient compte que ces jours étaient révolus. Pierre, cependant, n'était pas prêt à abandonner. Il avait encore des rêves, des rêves qu'il était déterminé à réaliser. Il savait que ce ne serait pas facile, mais il était prêt à affronter tous les défis qui se présenteraient à lui. Avec Jacques et Marie à ses côtés, il savait qu'il pouvait accomplir n'importe quoi.\", 'format_instructions': 'The output should be a markdown code snippet formatted in the following schema, including the leading and trailing \"```json\" and \"```\":\\n\\n```json\\n{\\n\\t\"language\": string  // Определи язык на котором написан текст. Запиши название этого языка на английском. Например, не Русский, а Russian. Не Deutsch, а German\\n\\t\"main_character\": string  // Определи имя главного героя текста. Запиши имя этого персонажа так, как оно записано в тексте. Например Hans, Pierrot, Анна\\n}\\n```', 'language': 'French', 'main_character': 'Pierre'}, {'text': 'El sol se estaba poniendo, proyectando largas sombras sobre el pequeño pueblo. Carlos, un hombre de mediana edad con un corazón lleno de sueños, estaba sentado en el porche de su antigua casa. Sus amigos, Pedro y María, estaban allí con él, compartiendo historias de su juventud. Todos eran del mismo pueblo, y sus vidas estaban entrelazadas de formas que nunca podrían haber imaginado. Pedro, un hombre corpulento con una voz estruendosa, era el herrero del pueblo. Era un hombre de pocas palabras, pero sus acciones hablaban por sí solas. María, por otro lado, era la maestra del pueblo. Era una mujer de gran sabiduría y bondad, siempre dispuesta a echar una mano. Mientras estaban allí, recordando el pasado, un sentimiento de nostalgia los invadió. Recordaban los días en que eran jóvenes y llenos de esperanza, cuando el mundo parecía lleno de posibilidades. Pero ahora, al mirar el sol poniente, se dieron cuenta de que esos días habían quedado atrás. Carlos, sin embargo, no estaba listo para rendirse. Todavía tenía sueños, sueños que estaba decidido a cumplir. Sabía que no sería fácil, pero estaba dispuesto a enfrentar cualquier desafío que se le presentara. Con Pedro y María a su lado, sabía que podía lograr cualquier cosa.', 'format_instructions': 'The output should be a markdown code snippet formatted in the following schema, including the leading and trailing \"```json\" and \"```\":\\n\\n```json\\n{\\n\\t\"language\": string  // Определи язык на котором написан текст. Запиши название этого языка на английском. Например, не Русский, а Russian. Не Deutsch, а German\\n\\t\"main_character\": string  // Определи имя главного героя текста. Запиши имя этого персонажа так, как оно записано в тексте. Например Hans, Pierrot, Анна\\n}\\n```', 'language': 'Spanish', 'main_character': 'Carlos'}, {'text': 'La ciudad estaba llena de vida, sus calles llenas de ruido de personas y coches. En medio del caos, Juan, un joven con un sueño, estaba tratando de abrirse camino. Sus amigos, Pedro y María, siempre estaban a su lado, apoyándolo en sus esfuerzos. Eran un trío, inseparables y llenos de vida. Pero la vida en la ciudad no era fácil. Tenían que enfrentar muchos desafíos, pero nunca se dieron por vencidos. Creían en sus sueños y en cada uno de ellos. Y así, continuaron su viaje, enfrentando cada obstáculo con coraje y determinación.', 'format_instructions': 'The output should be a markdown code snippet formatted in the following schema, including the leading and trailing \"```json\" and \"```\":\\n\\n```json\\n{\\n\\t\"language\": string  // Определи язык на котором написан текст. Запиши название этого языка на английском. Например, не Русский, а Russian. Не Deutsch, а German\\n\\t\"main_character\": string  // Определи имя главного героя текста. Запиши имя этого персонажа так, как оно записано в тексте. Например Hans, Pierrot, Анна\\n}\\n```', 'language': 'Spanish', 'main_character': 'Juan'}]\n"
          ]
        },
        {
          "output_type": "stream",
          "name": "stderr",
          "text": [
            "\r 38%|███▊      | 5/13 [00:04<00:06,  1.18it/s]"
          ]
        },
        {
          "output_type": "stream",
          "name": "stdout",
          "text": [
            "[{'text': \"The sun was setting, casting long shadows over the small town. John, a middle-aged man with a heart full of dreams, was sitting on the porch of his old house. His friends, Peter and Mary, were there with him, sharing stories of their youth. They were all from the same town, and their lives were intertwined in ways they could never have imagined. Peter, a burly man with a booming voice, was the town's blacksmith. He was a man of few words, but his actions spoke volumes. Mary, on the other hand, was the town's schoolteacher. She was a woman of great wisdom and kindness, always ready to lend a helping hand. As they sat there, reminiscing about the past, a sense of nostalgia washed over them. They remembered the days when they were young and full of hope, when the world seemed full of possibilities. But now, as they looked at the setting sun, they realized that those days were long gone. John, however, was not ready to give up. He still had dreams, dreams that he was determined to fulfill. He knew that it would not be easy, but he was ready to face whatever challenges came his way. With Peter and Mary by his side, he knew that he could achieve anything.\", 'format_instructions': 'The output should be a markdown code snippet formatted in the following schema, including the leading and trailing \"```json\" and \"```\":\\n\\n```json\\n{\\n\\t\"language\": string  // Определи язык на котором написан текст. Запиши название этого языка на английском. Например, не Русский, а Russian. Не Deutsch, а German\\n\\t\"main_character\": string  // Определи имя главного героя текста. Запиши имя этого персонажа так, как оно записано в тексте. Например Hans, Pierrot, Анна\\n}\\n```', 'language': 'English', 'main_character': 'John'}, {'text': \"Le soleil se couchait, jetant de longues ombres sur la petite ville. Pierre, un homme d'âge moyen avec un cœur plein de rêves, était assis sur le porche de sa vieille maison. Ses amis, Jacques et Marie, étaient là avec lui, partageant des histoires de leur jeunesse. Ils étaient tous de la même ville, et leurs vies étaient entrelacées de manière qu'ils n'auraient jamais pu imaginer. Jacques, un homme robuste à la voix tonitruante, était le forgeron de la ville. Il était un homme de peu de mots, mais ses actions parlaient beaucoup. Marie, en revanche, était l'institutrice de la ville. Elle était une femme de grande sagesse et de gentillesse, toujours prête à tendre la main. Alors qu'ils étaient assis là, se remémorant le passé, un sentiment de nostalgie les envahit. Ils se souvenaient des jours où ils étaient jeunes et pleins d'espoir, quand le monde semblait plein de possibilités. Mais maintenant, en regardant le soleil couchant, ils se rendaient compte que ces jours étaient révolus. Pierre, cependant, n'était pas prêt à abandonner. Il avait encore des rêves, des rêves qu'il était déterminé à réaliser. Il savait que ce ne serait pas facile, mais il était prêt à affronter tous les défis qui se présenteraient à lui. Avec Jacques et Marie à ses côtés, il savait qu'il pouvait accomplir n'importe quoi.\", 'format_instructions': 'The output should be a markdown code snippet formatted in the following schema, including the leading and trailing \"```json\" and \"```\":\\n\\n```json\\n{\\n\\t\"language\": string  // Определи язык на котором написан текст. Запиши название этого языка на английском. Например, не Русский, а Russian. Не Deutsch, а German\\n\\t\"main_character\": string  // Определи имя главного героя текста. Запиши имя этого персонажа так, как оно записано в тексте. Например Hans, Pierrot, Анна\\n}\\n```', 'language': 'French', 'main_character': 'Pierre'}, {'text': 'El sol se estaba poniendo, proyectando largas sombras sobre el pequeño pueblo. Carlos, un hombre de mediana edad con un corazón lleno de sueños, estaba sentado en el porche de su antigua casa. Sus amigos, Pedro y María, estaban allí con él, compartiendo historias de su juventud. Todos eran del mismo pueblo, y sus vidas estaban entrelazadas de formas que nunca podrían haber imaginado. Pedro, un hombre corpulento con una voz estruendosa, era el herrero del pueblo. Era un hombre de pocas palabras, pero sus acciones hablaban por sí solas. María, por otro lado, era la maestra del pueblo. Era una mujer de gran sabiduría y bondad, siempre dispuesta a echar una mano. Mientras estaban allí, recordando el pasado, un sentimiento de nostalgia los invadió. Recordaban los días en que eran jóvenes y llenos de esperanza, cuando el mundo parecía lleno de posibilidades. Pero ahora, al mirar el sol poniente, se dieron cuenta de que esos días habían quedado atrás. Carlos, sin embargo, no estaba listo para rendirse. Todavía tenía sueños, sueños que estaba decidido a cumplir. Sabía que no sería fácil, pero estaba dispuesto a enfrentar cualquier desafío que se le presentara. Con Pedro y María a su lado, sabía que podía lograr cualquier cosa.', 'format_instructions': 'The output should be a markdown code snippet formatted in the following schema, including the leading and trailing \"```json\" and \"```\":\\n\\n```json\\n{\\n\\t\"language\": string  // Определи язык на котором написан текст. Запиши название этого языка на английском. Например, не Русский, а Russian. Не Deutsch, а German\\n\\t\"main_character\": string  // Определи имя главного героя текста. Запиши имя этого персонажа так, как оно записано в тексте. Например Hans, Pierrot, Анна\\n}\\n```', 'language': 'Spanish', 'main_character': 'Carlos'}, {'text': 'La ciudad estaba llena de vida, sus calles llenas de ruido de personas y coches. En medio del caos, Juan, un joven con un sueño, estaba tratando de abrirse camino. Sus amigos, Pedro y María, siempre estaban a su lado, apoyándolo en sus esfuerzos. Eran un trío, inseparables y llenos de vida. Pero la vida en la ciudad no era fácil. Tenían que enfrentar muchos desafíos, pero nunca se dieron por vencidos. Creían en sus sueños y en cada uno de ellos. Y así, continuaron su viaje, enfrentando cada obstáculo con coraje y determinación.', 'format_instructions': 'The output should be a markdown code snippet formatted in the following schema, including the leading and trailing \"```json\" and \"```\":\\n\\n```json\\n{\\n\\t\"language\": string  // Определи язык на котором написан текст. Запиши название этого языка на английском. Например, не Русский, а Russian. Не Deutsch, а German\\n\\t\"main_character\": string  // Определи имя главного героя текста. Запиши имя этого персонажа так, как оно записано в тексте. Например Hans, Pierrot, Анна\\n}\\n```', 'language': 'Spanish', 'main_character': 'Juan'}, {'text': \"La ville était pleine de vie, ses rues remplies du bruit des gens et des voitures. Au milieu du chaos, Jean, un jeune homme avec un rêve, essayait de se frayer un chemin. Ses amis, Pierre et Marie, étaient toujours à ses côtés, le soutenant dans ses efforts. Ils étaient un trio, inséparables et pleins de vie. Mais la vie en ville n'était pas facile. Ils devaient faire face à de nombreux défis, mais ils ne se sont jamais découragés. Ils croyaient en leurs rêves et en chacun d'eux. Et ainsi, ils ont continué leur voyage, affrontant chaque obstacle avec courage et détermination.\", 'format_instructions': 'The output should be a markdown code snippet formatted in the following schema, including the leading and trailing \"```json\" and \"```\":\\n\\n```json\\n{\\n\\t\"language\": string  // Определи язык на котором написан текст. Запиши название этого языка на английском. Например, не Русский, а Russian. Не Deutsch, а German\\n\\t\"main_character\": string  // Определи имя главного героя текста. Запиши имя этого персонажа так, как оно записано в тексте. Например Hans, Pierrot, Анна\\n}\\n```', 'language': 'French', 'main_character': 'Jean'}]\n"
          ]
        },
        {
          "output_type": "stream",
          "name": "stderr",
          "text": [
            "\r 46%|████▌     | 6/13 [00:05<00:05,  1.20it/s]"
          ]
        },
        {
          "output_type": "stream",
          "name": "stdout",
          "text": [
            "[{'text': \"The sun was setting, casting long shadows over the small town. John, a middle-aged man with a heart full of dreams, was sitting on the porch of his old house. His friends, Peter and Mary, were there with him, sharing stories of their youth. They were all from the same town, and their lives were intertwined in ways they could never have imagined. Peter, a burly man with a booming voice, was the town's blacksmith. He was a man of few words, but his actions spoke volumes. Mary, on the other hand, was the town's schoolteacher. She was a woman of great wisdom and kindness, always ready to lend a helping hand. As they sat there, reminiscing about the past, a sense of nostalgia washed over them. They remembered the days when they were young and full of hope, when the world seemed full of possibilities. But now, as they looked at the setting sun, they realized that those days were long gone. John, however, was not ready to give up. He still had dreams, dreams that he was determined to fulfill. He knew that it would not be easy, but he was ready to face whatever challenges came his way. With Peter and Mary by his side, he knew that he could achieve anything.\", 'format_instructions': 'The output should be a markdown code snippet formatted in the following schema, including the leading and trailing \"```json\" and \"```\":\\n\\n```json\\n{\\n\\t\"language\": string  // Определи язык на котором написан текст. Запиши название этого языка на английском. Например, не Русский, а Russian. Не Deutsch, а German\\n\\t\"main_character\": string  // Определи имя главного героя текста. Запиши имя этого персонажа так, как оно записано в тексте. Например Hans, Pierrot, Анна\\n}\\n```', 'language': 'English', 'main_character': 'John'}, {'text': \"Le soleil se couchait, jetant de longues ombres sur la petite ville. Pierre, un homme d'âge moyen avec un cœur plein de rêves, était assis sur le porche de sa vieille maison. Ses amis, Jacques et Marie, étaient là avec lui, partageant des histoires de leur jeunesse. Ils étaient tous de la même ville, et leurs vies étaient entrelacées de manière qu'ils n'auraient jamais pu imaginer. Jacques, un homme robuste à la voix tonitruante, était le forgeron de la ville. Il était un homme de peu de mots, mais ses actions parlaient beaucoup. Marie, en revanche, était l'institutrice de la ville. Elle était une femme de grande sagesse et de gentillesse, toujours prête à tendre la main. Alors qu'ils étaient assis là, se remémorant le passé, un sentiment de nostalgie les envahit. Ils se souvenaient des jours où ils étaient jeunes et pleins d'espoir, quand le monde semblait plein de possibilités. Mais maintenant, en regardant le soleil couchant, ils se rendaient compte que ces jours étaient révolus. Pierre, cependant, n'était pas prêt à abandonner. Il avait encore des rêves, des rêves qu'il était déterminé à réaliser. Il savait que ce ne serait pas facile, mais il était prêt à affronter tous les défis qui se présenteraient à lui. Avec Jacques et Marie à ses côtés, il savait qu'il pouvait accomplir n'importe quoi.\", 'format_instructions': 'The output should be a markdown code snippet formatted in the following schema, including the leading and trailing \"```json\" and \"```\":\\n\\n```json\\n{\\n\\t\"language\": string  // Определи язык на котором написан текст. Запиши название этого языка на английском. Например, не Русский, а Russian. Не Deutsch, а German\\n\\t\"main_character\": string  // Определи имя главного героя текста. Запиши имя этого персонажа так, как оно записано в тексте. Например Hans, Pierrot, Анна\\n}\\n```', 'language': 'French', 'main_character': 'Pierre'}, {'text': 'El sol se estaba poniendo, proyectando largas sombras sobre el pequeño pueblo. Carlos, un hombre de mediana edad con un corazón lleno de sueños, estaba sentado en el porche de su antigua casa. Sus amigos, Pedro y María, estaban allí con él, compartiendo historias de su juventud. Todos eran del mismo pueblo, y sus vidas estaban entrelazadas de formas que nunca podrían haber imaginado. Pedro, un hombre corpulento con una voz estruendosa, era el herrero del pueblo. Era un hombre de pocas palabras, pero sus acciones hablaban por sí solas. María, por otro lado, era la maestra del pueblo. Era una mujer de gran sabiduría y bondad, siempre dispuesta a echar una mano. Mientras estaban allí, recordando el pasado, un sentimiento de nostalgia los invadió. Recordaban los días en que eran jóvenes y llenos de esperanza, cuando el mundo parecía lleno de posibilidades. Pero ahora, al mirar el sol poniente, se dieron cuenta de que esos días habían quedado atrás. Carlos, sin embargo, no estaba listo para rendirse. Todavía tenía sueños, sueños que estaba decidido a cumplir. Sabía que no sería fácil, pero estaba dispuesto a enfrentar cualquier desafío que se le presentara. Con Pedro y María a su lado, sabía que podía lograr cualquier cosa.', 'format_instructions': 'The output should be a markdown code snippet formatted in the following schema, including the leading and trailing \"```json\" and \"```\":\\n\\n```json\\n{\\n\\t\"language\": string  // Определи язык на котором написан текст. Запиши название этого языка на английском. Например, не Русский, а Russian. Не Deutsch, а German\\n\\t\"main_character\": string  // Определи имя главного героя текста. Запиши имя этого персонажа так, как оно записано в тексте. Например Hans, Pierrot, Анна\\n}\\n```', 'language': 'Spanish', 'main_character': 'Carlos'}, {'text': 'La ciudad estaba llena de vida, sus calles llenas de ruido de personas y coches. En medio del caos, Juan, un joven con un sueño, estaba tratando de abrirse camino. Sus amigos, Pedro y María, siempre estaban a su lado, apoyándolo en sus esfuerzos. Eran un trío, inseparables y llenos de vida. Pero la vida en la ciudad no era fácil. Tenían que enfrentar muchos desafíos, pero nunca se dieron por vencidos. Creían en sus sueños y en cada uno de ellos. Y así, continuaron su viaje, enfrentando cada obstáculo con coraje y determinación.', 'format_instructions': 'The output should be a markdown code snippet formatted in the following schema, including the leading and trailing \"```json\" and \"```\":\\n\\n```json\\n{\\n\\t\"language\": string  // Определи язык на котором написан текст. Запиши название этого языка на английском. Например, не Русский, а Russian. Не Deutsch, а German\\n\\t\"main_character\": string  // Определи имя главного героя текста. Запиши имя этого персонажа так, как оно записано в тексте. Например Hans, Pierrot, Анна\\n}\\n```', 'language': 'Spanish', 'main_character': 'Juan'}, {'text': \"La ville était pleine de vie, ses rues remplies du bruit des gens et des voitures. Au milieu du chaos, Jean, un jeune homme avec un rêve, essayait de se frayer un chemin. Ses amis, Pierre et Marie, étaient toujours à ses côtés, le soutenant dans ses efforts. Ils étaient un trio, inséparables et pleins de vie. Mais la vie en ville n'était pas facile. Ils devaient faire face à de nombreux défis, mais ils ne se sont jamais découragés. Ils croyaient en leurs rêves et en chacun d'eux. Et ainsi, ils ont continué leur voyage, affrontant chaque obstacle avec courage et détermination.\", 'format_instructions': 'The output should be a markdown code snippet formatted in the following schema, including the leading and trailing \"```json\" and \"```\":\\n\\n```json\\n{\\n\\t\"language\": string  // Определи язык на котором написан текст. Запиши название этого языка на английском. Например, не Русский, а Russian. Не Deutsch, а German\\n\\t\"main_character\": string  // Определи имя главного героя текста. Запиши имя этого персонажа так, как оно записано в тексте. Например Hans, Pierrot, Анна\\n}\\n```', 'language': 'French', 'main_character': 'Jean'}, {'text': 'Die Stadt war voller Leben, ihre Straßen gefüllt mit dem Lärm von Menschen und Autos. Mitten im Chaos versuchte Johann, ein junger Mann mit einem Traum, seinen Weg zu machen. Seine Freunde, Peter und Maria, standen ihm immer zur Seite und unterstützten ihn bei seinen Bemühungen. Sie waren ein Trio, unzertrennlich und voller Leben. Aber das Leben in der Stadt war nicht einfach. Sie mussten viele Herausforderungen meistern, aber sie gaben nie auf. Sie glaubten an ihre Träume und aneinander. Und so setzten sie ihre Reise fort, jedes Hindernis mit Mut und Entschlossenheit zu überwinden.', 'format_instructions': 'The output should be a markdown code snippet formatted in the following schema, including the leading and trailing \"```json\" and \"```\":\\n\\n```json\\n{\\n\\t\"language\": string  // Определи язык на котором написан текст. Запиши название этого языка на английском. Например, не Русский, а Russian. Не Deutsch, а German\\n\\t\"main_character\": string  // Определи имя главного героя текста. Запиши имя этого персонажа так, как оно записано в тексте. Например Hans, Pierrot, Анна\\n}\\n```', 'language': 'German', 'main_character': 'Johann'}]\n"
          ]
        },
        {
          "output_type": "stream",
          "name": "stderr",
          "text": [
            "\r 54%|█████▍    | 7/13 [00:05<00:04,  1.22it/s]"
          ]
        },
        {
          "output_type": "stream",
          "name": "stdout",
          "text": [
            "[{'text': \"The sun was setting, casting long shadows over the small town. John, a middle-aged man with a heart full of dreams, was sitting on the porch of his old house. His friends, Peter and Mary, were there with him, sharing stories of their youth. They were all from the same town, and their lives were intertwined in ways they could never have imagined. Peter, a burly man with a booming voice, was the town's blacksmith. He was a man of few words, but his actions spoke volumes. Mary, on the other hand, was the town's schoolteacher. She was a woman of great wisdom and kindness, always ready to lend a helping hand. As they sat there, reminiscing about the past, a sense of nostalgia washed over them. They remembered the days when they were young and full of hope, when the world seemed full of possibilities. But now, as they looked at the setting sun, they realized that those days were long gone. John, however, was not ready to give up. He still had dreams, dreams that he was determined to fulfill. He knew that it would not be easy, but he was ready to face whatever challenges came his way. With Peter and Mary by his side, he knew that he could achieve anything.\", 'format_instructions': 'The output should be a markdown code snippet formatted in the following schema, including the leading and trailing \"```json\" and \"```\":\\n\\n```json\\n{\\n\\t\"language\": string  // Определи язык на котором написан текст. Запиши название этого языка на английском. Например, не Русский, а Russian. Не Deutsch, а German\\n\\t\"main_character\": string  // Определи имя главного героя текста. Запиши имя этого персонажа так, как оно записано в тексте. Например Hans, Pierrot, Анна\\n}\\n```', 'language': 'English', 'main_character': 'John'}, {'text': \"Le soleil se couchait, jetant de longues ombres sur la petite ville. Pierre, un homme d'âge moyen avec un cœur plein de rêves, était assis sur le porche de sa vieille maison. Ses amis, Jacques et Marie, étaient là avec lui, partageant des histoires de leur jeunesse. Ils étaient tous de la même ville, et leurs vies étaient entrelacées de manière qu'ils n'auraient jamais pu imaginer. Jacques, un homme robuste à la voix tonitruante, était le forgeron de la ville. Il était un homme de peu de mots, mais ses actions parlaient beaucoup. Marie, en revanche, était l'institutrice de la ville. Elle était une femme de grande sagesse et de gentillesse, toujours prête à tendre la main. Alors qu'ils étaient assis là, se remémorant le passé, un sentiment de nostalgie les envahit. Ils se souvenaient des jours où ils étaient jeunes et pleins d'espoir, quand le monde semblait plein de possibilités. Mais maintenant, en regardant le soleil couchant, ils se rendaient compte que ces jours étaient révolus. Pierre, cependant, n'était pas prêt à abandonner. Il avait encore des rêves, des rêves qu'il était déterminé à réaliser. Il savait que ce ne serait pas facile, mais il était prêt à affronter tous les défis qui se présenteraient à lui. Avec Jacques et Marie à ses côtés, il savait qu'il pouvait accomplir n'importe quoi.\", 'format_instructions': 'The output should be a markdown code snippet formatted in the following schema, including the leading and trailing \"```json\" and \"```\":\\n\\n```json\\n{\\n\\t\"language\": string  // Определи язык на котором написан текст. Запиши название этого языка на английском. Например, не Русский, а Russian. Не Deutsch, а German\\n\\t\"main_character\": string  // Определи имя главного героя текста. Запиши имя этого персонажа так, как оно записано в тексте. Например Hans, Pierrot, Анна\\n}\\n```', 'language': 'French', 'main_character': 'Pierre'}, {'text': 'El sol se estaba poniendo, proyectando largas sombras sobre el pequeño pueblo. Carlos, un hombre de mediana edad con un corazón lleno de sueños, estaba sentado en el porche de su antigua casa. Sus amigos, Pedro y María, estaban allí con él, compartiendo historias de su juventud. Todos eran del mismo pueblo, y sus vidas estaban entrelazadas de formas que nunca podrían haber imaginado. Pedro, un hombre corpulento con una voz estruendosa, era el herrero del pueblo. Era un hombre de pocas palabras, pero sus acciones hablaban por sí solas. María, por otro lado, era la maestra del pueblo. Era una mujer de gran sabiduría y bondad, siempre dispuesta a echar una mano. Mientras estaban allí, recordando el pasado, un sentimiento de nostalgia los invadió. Recordaban los días en que eran jóvenes y llenos de esperanza, cuando el mundo parecía lleno de posibilidades. Pero ahora, al mirar el sol poniente, se dieron cuenta de que esos días habían quedado atrás. Carlos, sin embargo, no estaba listo para rendirse. Todavía tenía sueños, sueños que estaba decidido a cumplir. Sabía que no sería fácil, pero estaba dispuesto a enfrentar cualquier desafío que se le presentara. Con Pedro y María a su lado, sabía que podía lograr cualquier cosa.', 'format_instructions': 'The output should be a markdown code snippet formatted in the following schema, including the leading and trailing \"```json\" and \"```\":\\n\\n```json\\n{\\n\\t\"language\": string  // Определи язык на котором написан текст. Запиши название этого языка на английском. Например, не Русский, а Russian. Не Deutsch, а German\\n\\t\"main_character\": string  // Определи имя главного героя текста. Запиши имя этого персонажа так, как оно записано в тексте. Например Hans, Pierrot, Анна\\n}\\n```', 'language': 'Spanish', 'main_character': 'Carlos'}, {'text': 'La ciudad estaba llena de vida, sus calles llenas de ruido de personas y coches. En medio del caos, Juan, un joven con un sueño, estaba tratando de abrirse camino. Sus amigos, Pedro y María, siempre estaban a su lado, apoyándolo en sus esfuerzos. Eran un trío, inseparables y llenos de vida. Pero la vida en la ciudad no era fácil. Tenían que enfrentar muchos desafíos, pero nunca se dieron por vencidos. Creían en sus sueños y en cada uno de ellos. Y así, continuaron su viaje, enfrentando cada obstáculo con coraje y determinación.', 'format_instructions': 'The output should be a markdown code snippet formatted in the following schema, including the leading and trailing \"```json\" and \"```\":\\n\\n```json\\n{\\n\\t\"language\": string  // Определи язык на котором написан текст. Запиши название этого языка на английском. Например, не Русский, а Russian. Не Deutsch, а German\\n\\t\"main_character\": string  // Определи имя главного героя текста. Запиши имя этого персонажа так, как оно записано в тексте. Например Hans, Pierrot, Анна\\n}\\n```', 'language': 'Spanish', 'main_character': 'Juan'}, {'text': \"La ville était pleine de vie, ses rues remplies du bruit des gens et des voitures. Au milieu du chaos, Jean, un jeune homme avec un rêve, essayait de se frayer un chemin. Ses amis, Pierre et Marie, étaient toujours à ses côtés, le soutenant dans ses efforts. Ils étaient un trio, inséparables et pleins de vie. Mais la vie en ville n'était pas facile. Ils devaient faire face à de nombreux défis, mais ils ne se sont jamais découragés. Ils croyaient en leurs rêves et en chacun d'eux. Et ainsi, ils ont continué leur voyage, affrontant chaque obstacle avec courage et détermination.\", 'format_instructions': 'The output should be a markdown code snippet formatted in the following schema, including the leading and trailing \"```json\" and \"```\":\\n\\n```json\\n{\\n\\t\"language\": string  // Определи язык на котором написан текст. Запиши название этого языка на английском. Например, не Русский, а Russian. Не Deutsch, а German\\n\\t\"main_character\": string  // Определи имя главного героя текста. Запиши имя этого персонажа так, как оно записано в тексте. Например Hans, Pierrot, Анна\\n}\\n```', 'language': 'French', 'main_character': 'Jean'}, {'text': 'Die Stadt war voller Leben, ihre Straßen gefüllt mit dem Lärm von Menschen und Autos. Mitten im Chaos versuchte Johann, ein junger Mann mit einem Traum, seinen Weg zu machen. Seine Freunde, Peter und Maria, standen ihm immer zur Seite und unterstützten ihn bei seinen Bemühungen. Sie waren ein Trio, unzertrennlich und voller Leben. Aber das Leben in der Stadt war nicht einfach. Sie mussten viele Herausforderungen meistern, aber sie gaben nie auf. Sie glaubten an ihre Träume und aneinander. Und so setzten sie ihre Reise fort, jedes Hindernis mit Mut und Entschlossenheit zu überwinden.', 'format_instructions': 'The output should be a markdown code snippet formatted in the following schema, including the leading and trailing \"```json\" and \"```\":\\n\\n```json\\n{\\n\\t\"language\": string  // Определи язык на котором написан текст. Запиши название этого языка на английском. Например, не Русский, а Russian. Не Deutsch, а German\\n\\t\"main_character\": string  // Определи имя главного героя текста. Запиши имя этого персонажа так, как оно записано в тексте. Например Hans, Pierrot, Анна\\n}\\n```', 'language': 'German', 'main_character': 'Johann'}, {'text': 'Die Sonne ging unter und warf lange Schatten über die kleine Stadt. Hans, ein Mann mittleren Alters mit einem Herzen voller Träume, saß auf der Veranda seines alten Hauses. Seine Freunde, Peter und Maria, waren bei ihm und teilten Geschichten aus ihrer Jugend. Sie alle stammten aus derselben Stadt und ihre Leben waren auf eine Weise miteinander verflochten, die sie sich nie hätten vorstellen können. Peter, ein kräftiger Mann mit einer donnernden Stimme, war der Schmied der Stadt. Er war ein Mann der wenigen Worte, aber seine Taten sprachen Bände. Maria hingegen war die Lehrerin der Stadt. Sie war eine Frau von großer Weisheit und Güte, immer bereit, eine helfende Hand zu reichen. Während sie dort saßen und sich an die Vergangenheit erinnerten, überkam sie ein Gefühl der Nostalgie. Sie erinnerten sich an die Tage, als sie jung und voller Hoffnung waren, als die Welt voller Möglichkeiten zu sein schien. Aber jetzt, als sie die untergehende Sonne betrachteten, erkannten sie, dass diese Tage längst vorbei waren. Hans jedoch war nicht bereit aufzugeben. Er hatte immer noch Träume, Träume, die er entschlossen war zu erfüllen. Er wusste, dass es nicht einfach sein würde, aber er war bereit, sich jeder Herausforderung zu stellen. Mit Peter und Maria an seiner Seite wusste er, dass er alles erreichen konnte.', 'format_instructions': 'The output should be a markdown code snippet formatted in the following schema, including the leading and trailing \"```json\" and \"```\":\\n\\n```json\\n{\\n\\t\"language\": string  // Определи язык на котором написан текст. Запиши название этого языка на английском. Например, не Русский, а Russian. Не Deutsch, а German\\n\\t\"main_character\": string  // Определи имя главного героя текста. Запиши имя этого персонажа так, как оно записано в тексте. Например Hans, Pierrot, Анна\\n}\\n```', 'language': 'German', 'main_character': 'Hans'}]\n"
          ]
        },
        {
          "output_type": "stream",
          "name": "stderr",
          "text": [
            "\r 62%|██████▏   | 8/13 [00:06<00:04,  1.20it/s]"
          ]
        },
        {
          "output_type": "stream",
          "name": "stdout",
          "text": [
            "[{'text': \"The sun was setting, casting long shadows over the small town. John, a middle-aged man with a heart full of dreams, was sitting on the porch of his old house. His friends, Peter and Mary, were there with him, sharing stories of their youth. They were all from the same town, and their lives were intertwined in ways they could never have imagined. Peter, a burly man with a booming voice, was the town's blacksmith. He was a man of few words, but his actions spoke volumes. Mary, on the other hand, was the town's schoolteacher. She was a woman of great wisdom and kindness, always ready to lend a helping hand. As they sat there, reminiscing about the past, a sense of nostalgia washed over them. They remembered the days when they were young and full of hope, when the world seemed full of possibilities. But now, as they looked at the setting sun, they realized that those days were long gone. John, however, was not ready to give up. He still had dreams, dreams that he was determined to fulfill. He knew that it would not be easy, but he was ready to face whatever challenges came his way. With Peter and Mary by his side, he knew that he could achieve anything.\", 'format_instructions': 'The output should be a markdown code snippet formatted in the following schema, including the leading and trailing \"```json\" and \"```\":\\n\\n```json\\n{\\n\\t\"language\": string  // Определи язык на котором написан текст. Запиши название этого языка на английском. Например, не Русский, а Russian. Не Deutsch, а German\\n\\t\"main_character\": string  // Определи имя главного героя текста. Запиши имя этого персонажа так, как оно записано в тексте. Например Hans, Pierrot, Анна\\n}\\n```', 'language': 'English', 'main_character': 'John'}, {'text': \"Le soleil se couchait, jetant de longues ombres sur la petite ville. Pierre, un homme d'âge moyen avec un cœur plein de rêves, était assis sur le porche de sa vieille maison. Ses amis, Jacques et Marie, étaient là avec lui, partageant des histoires de leur jeunesse. Ils étaient tous de la même ville, et leurs vies étaient entrelacées de manière qu'ils n'auraient jamais pu imaginer. Jacques, un homme robuste à la voix tonitruante, était le forgeron de la ville. Il était un homme de peu de mots, mais ses actions parlaient beaucoup. Marie, en revanche, était l'institutrice de la ville. Elle était une femme de grande sagesse et de gentillesse, toujours prête à tendre la main. Alors qu'ils étaient assis là, se remémorant le passé, un sentiment de nostalgie les envahit. Ils se souvenaient des jours où ils étaient jeunes et pleins d'espoir, quand le monde semblait plein de possibilités. Mais maintenant, en regardant le soleil couchant, ils se rendaient compte que ces jours étaient révolus. Pierre, cependant, n'était pas prêt à abandonner. Il avait encore des rêves, des rêves qu'il était déterminé à réaliser. Il savait que ce ne serait pas facile, mais il était prêt à affronter tous les défis qui se présenteraient à lui. Avec Jacques et Marie à ses côtés, il savait qu'il pouvait accomplir n'importe quoi.\", 'format_instructions': 'The output should be a markdown code snippet formatted in the following schema, including the leading and trailing \"```json\" and \"```\":\\n\\n```json\\n{\\n\\t\"language\": string  // Определи язык на котором написан текст. Запиши название этого языка на английском. Например, не Русский, а Russian. Не Deutsch, а German\\n\\t\"main_character\": string  // Определи имя главного героя текста. Запиши имя этого персонажа так, как оно записано в тексте. Например Hans, Pierrot, Анна\\n}\\n```', 'language': 'French', 'main_character': 'Pierre'}, {'text': 'El sol se estaba poniendo, proyectando largas sombras sobre el pequeño pueblo. Carlos, un hombre de mediana edad con un corazón lleno de sueños, estaba sentado en el porche de su antigua casa. Sus amigos, Pedro y María, estaban allí con él, compartiendo historias de su juventud. Todos eran del mismo pueblo, y sus vidas estaban entrelazadas de formas que nunca podrían haber imaginado. Pedro, un hombre corpulento con una voz estruendosa, era el herrero del pueblo. Era un hombre de pocas palabras, pero sus acciones hablaban por sí solas. María, por otro lado, era la maestra del pueblo. Era una mujer de gran sabiduría y bondad, siempre dispuesta a echar una mano. Mientras estaban allí, recordando el pasado, un sentimiento de nostalgia los invadió. Recordaban los días en que eran jóvenes y llenos de esperanza, cuando el mundo parecía lleno de posibilidades. Pero ahora, al mirar el sol poniente, se dieron cuenta de que esos días habían quedado atrás. Carlos, sin embargo, no estaba listo para rendirse. Todavía tenía sueños, sueños que estaba decidido a cumplir. Sabía que no sería fácil, pero estaba dispuesto a enfrentar cualquier desafío que se le presentara. Con Pedro y María a su lado, sabía que podía lograr cualquier cosa.', 'format_instructions': 'The output should be a markdown code snippet formatted in the following schema, including the leading and trailing \"```json\" and \"```\":\\n\\n```json\\n{\\n\\t\"language\": string  // Определи язык на котором написан текст. Запиши название этого языка на английском. Например, не Русский, а Russian. Не Deutsch, а German\\n\\t\"main_character\": string  // Определи имя главного героя текста. Запиши имя этого персонажа так, как оно записано в тексте. Например Hans, Pierrot, Анна\\n}\\n```', 'language': 'Spanish', 'main_character': 'Carlos'}, {'text': 'La ciudad estaba llena de vida, sus calles llenas de ruido de personas y coches. En medio del caos, Juan, un joven con un sueño, estaba tratando de abrirse camino. Sus amigos, Pedro y María, siempre estaban a su lado, apoyándolo en sus esfuerzos. Eran un trío, inseparables y llenos de vida. Pero la vida en la ciudad no era fácil. Tenían que enfrentar muchos desafíos, pero nunca se dieron por vencidos. Creían en sus sueños y en cada uno de ellos. Y así, continuaron su viaje, enfrentando cada obstáculo con coraje y determinación.', 'format_instructions': 'The output should be a markdown code snippet formatted in the following schema, including the leading and trailing \"```json\" and \"```\":\\n\\n```json\\n{\\n\\t\"language\": string  // Определи язык на котором написан текст. Запиши название этого языка на английском. Например, не Русский, а Russian. Не Deutsch, а German\\n\\t\"main_character\": string  // Определи имя главного героя текста. Запиши имя этого персонажа так, как оно записано в тексте. Например Hans, Pierrot, Анна\\n}\\n```', 'language': 'Spanish', 'main_character': 'Juan'}, {'text': \"La ville était pleine de vie, ses rues remplies du bruit des gens et des voitures. Au milieu du chaos, Jean, un jeune homme avec un rêve, essayait de se frayer un chemin. Ses amis, Pierre et Marie, étaient toujours à ses côtés, le soutenant dans ses efforts. Ils étaient un trio, inséparables et pleins de vie. Mais la vie en ville n'était pas facile. Ils devaient faire face à de nombreux défis, mais ils ne se sont jamais découragés. Ils croyaient en leurs rêves et en chacun d'eux. Et ainsi, ils ont continué leur voyage, affrontant chaque obstacle avec courage et détermination.\", 'format_instructions': 'The output should be a markdown code snippet formatted in the following schema, including the leading and trailing \"```json\" and \"```\":\\n\\n```json\\n{\\n\\t\"language\": string  // Определи язык на котором написан текст. Запиши название этого языка на английском. Например, не Русский, а Russian. Не Deutsch, а German\\n\\t\"main_character\": string  // Определи имя главного героя текста. Запиши имя этого персонажа так, как оно записано в тексте. Например Hans, Pierrot, Анна\\n}\\n```', 'language': 'French', 'main_character': 'Jean'}, {'text': 'Die Stadt war voller Leben, ihre Straßen gefüllt mit dem Lärm von Menschen und Autos. Mitten im Chaos versuchte Johann, ein junger Mann mit einem Traum, seinen Weg zu machen. Seine Freunde, Peter und Maria, standen ihm immer zur Seite und unterstützten ihn bei seinen Bemühungen. Sie waren ein Trio, unzertrennlich und voller Leben. Aber das Leben in der Stadt war nicht einfach. Sie mussten viele Herausforderungen meistern, aber sie gaben nie auf. Sie glaubten an ihre Träume und aneinander. Und so setzten sie ihre Reise fort, jedes Hindernis mit Mut und Entschlossenheit zu überwinden.', 'format_instructions': 'The output should be a markdown code snippet formatted in the following schema, including the leading and trailing \"```json\" and \"```\":\\n\\n```json\\n{\\n\\t\"language\": string  // Определи язык на котором написан текст. Запиши название этого языка на английском. Например, не Русский, а Russian. Не Deutsch, а German\\n\\t\"main_character\": string  // Определи имя главного героя текста. Запиши имя этого персонажа так, как оно записано в тексте. Например Hans, Pierrot, Анна\\n}\\n```', 'language': 'German', 'main_character': 'Johann'}, {'text': 'Die Sonne ging unter und warf lange Schatten über die kleine Stadt. Hans, ein Mann mittleren Alters mit einem Herzen voller Träume, saß auf der Veranda seines alten Hauses. Seine Freunde, Peter und Maria, waren bei ihm und teilten Geschichten aus ihrer Jugend. Sie alle stammten aus derselben Stadt und ihre Leben waren auf eine Weise miteinander verflochten, die sie sich nie hätten vorstellen können. Peter, ein kräftiger Mann mit einer donnernden Stimme, war der Schmied der Stadt. Er war ein Mann der wenigen Worte, aber seine Taten sprachen Bände. Maria hingegen war die Lehrerin der Stadt. Sie war eine Frau von großer Weisheit und Güte, immer bereit, eine helfende Hand zu reichen. Während sie dort saßen und sich an die Vergangenheit erinnerten, überkam sie ein Gefühl der Nostalgie. Sie erinnerten sich an die Tage, als sie jung und voller Hoffnung waren, als die Welt voller Möglichkeiten zu sein schien. Aber jetzt, als sie die untergehende Sonne betrachteten, erkannten sie, dass diese Tage längst vorbei waren. Hans jedoch war nicht bereit aufzugeben. Er hatte immer noch Träume, Träume, die er entschlossen war zu erfüllen. Er wusste, dass es nicht einfach sein würde, aber er war bereit, sich jeder Herausforderung zu stellen. Mit Peter und Maria an seiner Seite wusste er, dass er alles erreichen konnte.', 'format_instructions': 'The output should be a markdown code snippet formatted in the following schema, including the leading and trailing \"```json\" and \"```\":\\n\\n```json\\n{\\n\\t\"language\": string  // Определи язык на котором написан текст. Запиши название этого языка на английском. Например, не Русский, а Russian. Не Deutsch, а German\\n\\t\"main_character\": string  // Определи имя главного героя текста. Запиши имя этого персонажа так, как оно записано в тексте. Например Hans, Pierrot, Анна\\n}\\n```', 'language': 'German', 'main_character': 'Hans'}, {'text': 'В тихом уголке старого города, где узкие улочки переплетались в бесконечный лабиринт, стоял небольшой домик. В нем жила Анна. Она была необычной девушкой, с добрыми глазами и теплой улыбкой. В ее жизни было много интересных персонажей: старый сосед Петр, который всегда рассказывал ей истории о прошлом города, маленькая девочка Маша, которая любила играть с Анной в саду, и ее лучший друг Иван, который всегда был рядом в трудные моменты. Вместе они переживали множество приключений, и каждый день был для них новым открытием.', 'format_instructions': 'The output should be a markdown code snippet formatted in the following schema, including the leading and trailing \"```json\" and \"```\":\\n\\n```json\\n{\\n\\t\"language\": string  // Определи язык на котором написан текст. Запиши название этого языка на английском. Например, не Русский, а Russian. Не Deutsch, а German\\n\\t\"main_character\": string  // Определи имя главного героя текста. Запиши имя этого персонажа так, как оно записано в тексте. Например Hans, Pierrot, Анна\\n}\\n```', 'language': 'Russian', 'main_character': 'Анна'}]\n"
          ]
        },
        {
          "output_type": "stream",
          "name": "stderr",
          "text": [
            "\r 69%|██████▉   | 9/13 [00:07<00:03,  1.21it/s]"
          ]
        },
        {
          "output_type": "stream",
          "name": "stdout",
          "text": [
            "[{'text': \"The sun was setting, casting long shadows over the small town. John, a middle-aged man with a heart full of dreams, was sitting on the porch of his old house. His friends, Peter and Mary, were there with him, sharing stories of their youth. They were all from the same town, and their lives were intertwined in ways they could never have imagined. Peter, a burly man with a booming voice, was the town's blacksmith. He was a man of few words, but his actions spoke volumes. Mary, on the other hand, was the town's schoolteacher. She was a woman of great wisdom and kindness, always ready to lend a helping hand. As they sat there, reminiscing about the past, a sense of nostalgia washed over them. They remembered the days when they were young and full of hope, when the world seemed full of possibilities. But now, as they looked at the setting sun, they realized that those days were long gone. John, however, was not ready to give up. He still had dreams, dreams that he was determined to fulfill. He knew that it would not be easy, but he was ready to face whatever challenges came his way. With Peter and Mary by his side, he knew that he could achieve anything.\", 'format_instructions': 'The output should be a markdown code snippet formatted in the following schema, including the leading and trailing \"```json\" and \"```\":\\n\\n```json\\n{\\n\\t\"language\": string  // Определи язык на котором написан текст. Запиши название этого языка на английском. Например, не Русский, а Russian. Не Deutsch, а German\\n\\t\"main_character\": string  // Определи имя главного героя текста. Запиши имя этого персонажа так, как оно записано в тексте. Например Hans, Pierrot, Анна\\n}\\n```', 'language': 'English', 'main_character': 'John'}, {'text': \"Le soleil se couchait, jetant de longues ombres sur la petite ville. Pierre, un homme d'âge moyen avec un cœur plein de rêves, était assis sur le porche de sa vieille maison. Ses amis, Jacques et Marie, étaient là avec lui, partageant des histoires de leur jeunesse. Ils étaient tous de la même ville, et leurs vies étaient entrelacées de manière qu'ils n'auraient jamais pu imaginer. Jacques, un homme robuste à la voix tonitruante, était le forgeron de la ville. Il était un homme de peu de mots, mais ses actions parlaient beaucoup. Marie, en revanche, était l'institutrice de la ville. Elle était une femme de grande sagesse et de gentillesse, toujours prête à tendre la main. Alors qu'ils étaient assis là, se remémorant le passé, un sentiment de nostalgie les envahit. Ils se souvenaient des jours où ils étaient jeunes et pleins d'espoir, quand le monde semblait plein de possibilités. Mais maintenant, en regardant le soleil couchant, ils se rendaient compte que ces jours étaient révolus. Pierre, cependant, n'était pas prêt à abandonner. Il avait encore des rêves, des rêves qu'il était déterminé à réaliser. Il savait que ce ne serait pas facile, mais il était prêt à affronter tous les défis qui se présenteraient à lui. Avec Jacques et Marie à ses côtés, il savait qu'il pouvait accomplir n'importe quoi.\", 'format_instructions': 'The output should be a markdown code snippet formatted in the following schema, including the leading and trailing \"```json\" and \"```\":\\n\\n```json\\n{\\n\\t\"language\": string  // Определи язык на котором написан текст. Запиши название этого языка на английском. Например, не Русский, а Russian. Не Deutsch, а German\\n\\t\"main_character\": string  // Определи имя главного героя текста. Запиши имя этого персонажа так, как оно записано в тексте. Например Hans, Pierrot, Анна\\n}\\n```', 'language': 'French', 'main_character': 'Pierre'}, {'text': 'El sol se estaba poniendo, proyectando largas sombras sobre el pequeño pueblo. Carlos, un hombre de mediana edad con un corazón lleno de sueños, estaba sentado en el porche de su antigua casa. Sus amigos, Pedro y María, estaban allí con él, compartiendo historias de su juventud. Todos eran del mismo pueblo, y sus vidas estaban entrelazadas de formas que nunca podrían haber imaginado. Pedro, un hombre corpulento con una voz estruendosa, era el herrero del pueblo. Era un hombre de pocas palabras, pero sus acciones hablaban por sí solas. María, por otro lado, era la maestra del pueblo. Era una mujer de gran sabiduría y bondad, siempre dispuesta a echar una mano. Mientras estaban allí, recordando el pasado, un sentimiento de nostalgia los invadió. Recordaban los días en que eran jóvenes y llenos de esperanza, cuando el mundo parecía lleno de posibilidades. Pero ahora, al mirar el sol poniente, se dieron cuenta de que esos días habían quedado atrás. Carlos, sin embargo, no estaba listo para rendirse. Todavía tenía sueños, sueños que estaba decidido a cumplir. Sabía que no sería fácil, pero estaba dispuesto a enfrentar cualquier desafío que se le presentara. Con Pedro y María a su lado, sabía que podía lograr cualquier cosa.', 'format_instructions': 'The output should be a markdown code snippet formatted in the following schema, including the leading and trailing \"```json\" and \"```\":\\n\\n```json\\n{\\n\\t\"language\": string  // Определи язык на котором написан текст. Запиши название этого языка на английском. Например, не Русский, а Russian. Не Deutsch, а German\\n\\t\"main_character\": string  // Определи имя главного героя текста. Запиши имя этого персонажа так, как оно записано в тексте. Например Hans, Pierrot, Анна\\n}\\n```', 'language': 'Spanish', 'main_character': 'Carlos'}, {'text': 'La ciudad estaba llena de vida, sus calles llenas de ruido de personas y coches. En medio del caos, Juan, un joven con un sueño, estaba tratando de abrirse camino. Sus amigos, Pedro y María, siempre estaban a su lado, apoyándolo en sus esfuerzos. Eran un trío, inseparables y llenos de vida. Pero la vida en la ciudad no era fácil. Tenían que enfrentar muchos desafíos, pero nunca se dieron por vencidos. Creían en sus sueños y en cada uno de ellos. Y así, continuaron su viaje, enfrentando cada obstáculo con coraje y determinación.', 'format_instructions': 'The output should be a markdown code snippet formatted in the following schema, including the leading and trailing \"```json\" and \"```\":\\n\\n```json\\n{\\n\\t\"language\": string  // Определи язык на котором написан текст. Запиши название этого языка на английском. Например, не Русский, а Russian. Не Deutsch, а German\\n\\t\"main_character\": string  // Определи имя главного героя текста. Запиши имя этого персонажа так, как оно записано в тексте. Например Hans, Pierrot, Анна\\n}\\n```', 'language': 'Spanish', 'main_character': 'Juan'}, {'text': \"La ville était pleine de vie, ses rues remplies du bruit des gens et des voitures. Au milieu du chaos, Jean, un jeune homme avec un rêve, essayait de se frayer un chemin. Ses amis, Pierre et Marie, étaient toujours à ses côtés, le soutenant dans ses efforts. Ils étaient un trio, inséparables et pleins de vie. Mais la vie en ville n'était pas facile. Ils devaient faire face à de nombreux défis, mais ils ne se sont jamais découragés. Ils croyaient en leurs rêves et en chacun d'eux. Et ainsi, ils ont continué leur voyage, affrontant chaque obstacle avec courage et détermination.\", 'format_instructions': 'The output should be a markdown code snippet formatted in the following schema, including the leading and trailing \"```json\" and \"```\":\\n\\n```json\\n{\\n\\t\"language\": string  // Определи язык на котором написан текст. Запиши название этого языка на английском. Например, не Русский, а Russian. Не Deutsch, а German\\n\\t\"main_character\": string  // Определи имя главного героя текста. Запиши имя этого персонажа так, как оно записано в тексте. Например Hans, Pierrot, Анна\\n}\\n```', 'language': 'French', 'main_character': 'Jean'}, {'text': 'Die Stadt war voller Leben, ihre Straßen gefüllt mit dem Lärm von Menschen und Autos. Mitten im Chaos versuchte Johann, ein junger Mann mit einem Traum, seinen Weg zu machen. Seine Freunde, Peter und Maria, standen ihm immer zur Seite und unterstützten ihn bei seinen Bemühungen. Sie waren ein Trio, unzertrennlich und voller Leben. Aber das Leben in der Stadt war nicht einfach. Sie mussten viele Herausforderungen meistern, aber sie gaben nie auf. Sie glaubten an ihre Träume und aneinander. Und so setzten sie ihre Reise fort, jedes Hindernis mit Mut und Entschlossenheit zu überwinden.', 'format_instructions': 'The output should be a markdown code snippet formatted in the following schema, including the leading and trailing \"```json\" and \"```\":\\n\\n```json\\n{\\n\\t\"language\": string  // Определи язык на котором написан текст. Запиши название этого языка на английском. Например, не Русский, а Russian. Не Deutsch, а German\\n\\t\"main_character\": string  // Определи имя главного героя текста. Запиши имя этого персонажа так, как оно записано в тексте. Например Hans, Pierrot, Анна\\n}\\n```', 'language': 'German', 'main_character': 'Johann'}, {'text': 'Die Sonne ging unter und warf lange Schatten über die kleine Stadt. Hans, ein Mann mittleren Alters mit einem Herzen voller Träume, saß auf der Veranda seines alten Hauses. Seine Freunde, Peter und Maria, waren bei ihm und teilten Geschichten aus ihrer Jugend. Sie alle stammten aus derselben Stadt und ihre Leben waren auf eine Weise miteinander verflochten, die sie sich nie hätten vorstellen können. Peter, ein kräftiger Mann mit einer donnernden Stimme, war der Schmied der Stadt. Er war ein Mann der wenigen Worte, aber seine Taten sprachen Bände. Maria hingegen war die Lehrerin der Stadt. Sie war eine Frau von großer Weisheit und Güte, immer bereit, eine helfende Hand zu reichen. Während sie dort saßen und sich an die Vergangenheit erinnerten, überkam sie ein Gefühl der Nostalgie. Sie erinnerten sich an die Tage, als sie jung und voller Hoffnung waren, als die Welt voller Möglichkeiten zu sein schien. Aber jetzt, als sie die untergehende Sonne betrachteten, erkannten sie, dass diese Tage längst vorbei waren. Hans jedoch war nicht bereit aufzugeben. Er hatte immer noch Träume, Träume, die er entschlossen war zu erfüllen. Er wusste, dass es nicht einfach sein würde, aber er war bereit, sich jeder Herausforderung zu stellen. Mit Peter und Maria an seiner Seite wusste er, dass er alles erreichen konnte.', 'format_instructions': 'The output should be a markdown code snippet formatted in the following schema, including the leading and trailing \"```json\" and \"```\":\\n\\n```json\\n{\\n\\t\"language\": string  // Определи язык на котором написан текст. Запиши название этого языка на английском. Например, не Русский, а Russian. Не Deutsch, а German\\n\\t\"main_character\": string  // Определи имя главного героя текста. Запиши имя этого персонажа так, как оно записано в тексте. Например Hans, Pierrot, Анна\\n}\\n```', 'language': 'German', 'main_character': 'Hans'}, {'text': 'В тихом уголке старого города, где узкие улочки переплетались в бесконечный лабиринт, стоял небольшой домик. В нем жила Анна. Она была необычной девушкой, с добрыми глазами и теплой улыбкой. В ее жизни было много интересных персонажей: старый сосед Петр, который всегда рассказывал ей истории о прошлом города, маленькая девочка Маша, которая любила играть с Анной в саду, и ее лучший друг Иван, который всегда был рядом в трудные моменты. Вместе они переживали множество приключений, и каждый день был для них новым открытием.', 'format_instructions': 'The output should be a markdown code snippet formatted in the following schema, including the leading and trailing \"```json\" and \"```\":\\n\\n```json\\n{\\n\\t\"language\": string  // Определи язык на котором написан текст. Запиши название этого языка на английском. Например, не Русский, а Russian. Не Deutsch, а German\\n\\t\"main_character\": string  // Определи имя главного героя текста. Запиши имя этого персонажа так, как оно записано в тексте. Например Hans, Pierrot, Анна\\n}\\n```', 'language': 'Russian', 'main_character': 'Анна'}, {'text': 'In a small town nestled between the mountains and the sea, there was a girl named Laura. She was known for her kindness and her love for nature. Her life was filled with interesting characters: the old fisherman John, who would tell her tales of the sea, the young boy Tom, who would join her on her adventures, and her best friend Emily, who was always there for her. Together, they experienced many adventures, and each day was a new discovery for them.', 'format_instructions': 'The output should be a markdown code snippet formatted in the following schema, including the leading and trailing \"```json\" and \"```\":\\n\\n```json\\n{\\n\\t\"language\": string  // Определи язык на котором написан текст. Запиши название этого языка на английском. Например, не Русский, а Russian. Не Deutsch, а German\\n\\t\"main_character\": string  // Определи имя главного героя текста. Запиши имя этого персонажа так, как оно записано в тексте. Например Hans, Pierrot, Анна\\n}\\n```', 'language': 'English', 'main_character': 'Laura'}]\n"
          ]
        },
        {
          "output_type": "stream",
          "name": "stderr",
          "text": [
            "\r 77%|███████▋  | 10/13 [00:08<00:02,  1.21it/s]"
          ]
        },
        {
          "output_type": "stream",
          "name": "stdout",
          "text": [
            "[{'text': \"The sun was setting, casting long shadows over the small town. John, a middle-aged man with a heart full of dreams, was sitting on the porch of his old house. His friends, Peter and Mary, were there with him, sharing stories of their youth. They were all from the same town, and their lives were intertwined in ways they could never have imagined. Peter, a burly man with a booming voice, was the town's blacksmith. He was a man of few words, but his actions spoke volumes. Mary, on the other hand, was the town's schoolteacher. She was a woman of great wisdom and kindness, always ready to lend a helping hand. As they sat there, reminiscing about the past, a sense of nostalgia washed over them. They remembered the days when they were young and full of hope, when the world seemed full of possibilities. But now, as they looked at the setting sun, they realized that those days were long gone. John, however, was not ready to give up. He still had dreams, dreams that he was determined to fulfill. He knew that it would not be easy, but he was ready to face whatever challenges came his way. With Peter and Mary by his side, he knew that he could achieve anything.\", 'format_instructions': 'The output should be a markdown code snippet formatted in the following schema, including the leading and trailing \"```json\" and \"```\":\\n\\n```json\\n{\\n\\t\"language\": string  // Определи язык на котором написан текст. Запиши название этого языка на английском. Например, не Русский, а Russian. Не Deutsch, а German\\n\\t\"main_character\": string  // Определи имя главного героя текста. Запиши имя этого персонажа так, как оно записано в тексте. Например Hans, Pierrot, Анна\\n}\\n```', 'language': 'English', 'main_character': 'John'}, {'text': \"Le soleil se couchait, jetant de longues ombres sur la petite ville. Pierre, un homme d'âge moyen avec un cœur plein de rêves, était assis sur le porche de sa vieille maison. Ses amis, Jacques et Marie, étaient là avec lui, partageant des histoires de leur jeunesse. Ils étaient tous de la même ville, et leurs vies étaient entrelacées de manière qu'ils n'auraient jamais pu imaginer. Jacques, un homme robuste à la voix tonitruante, était le forgeron de la ville. Il était un homme de peu de mots, mais ses actions parlaient beaucoup. Marie, en revanche, était l'institutrice de la ville. Elle était une femme de grande sagesse et de gentillesse, toujours prête à tendre la main. Alors qu'ils étaient assis là, se remémorant le passé, un sentiment de nostalgie les envahit. Ils se souvenaient des jours où ils étaient jeunes et pleins d'espoir, quand le monde semblait plein de possibilités. Mais maintenant, en regardant le soleil couchant, ils se rendaient compte que ces jours étaient révolus. Pierre, cependant, n'était pas prêt à abandonner. Il avait encore des rêves, des rêves qu'il était déterminé à réaliser. Il savait que ce ne serait pas facile, mais il était prêt à affronter tous les défis qui se présenteraient à lui. Avec Jacques et Marie à ses côtés, il savait qu'il pouvait accomplir n'importe quoi.\", 'format_instructions': 'The output should be a markdown code snippet formatted in the following schema, including the leading and trailing \"```json\" and \"```\":\\n\\n```json\\n{\\n\\t\"language\": string  // Определи язык на котором написан текст. Запиши название этого языка на английском. Например, не Русский, а Russian. Не Deutsch, а German\\n\\t\"main_character\": string  // Определи имя главного героя текста. Запиши имя этого персонажа так, как оно записано в тексте. Например Hans, Pierrot, Анна\\n}\\n```', 'language': 'French', 'main_character': 'Pierre'}, {'text': 'El sol se estaba poniendo, proyectando largas sombras sobre el pequeño pueblo. Carlos, un hombre de mediana edad con un corazón lleno de sueños, estaba sentado en el porche de su antigua casa. Sus amigos, Pedro y María, estaban allí con él, compartiendo historias de su juventud. Todos eran del mismo pueblo, y sus vidas estaban entrelazadas de formas que nunca podrían haber imaginado. Pedro, un hombre corpulento con una voz estruendosa, era el herrero del pueblo. Era un hombre de pocas palabras, pero sus acciones hablaban por sí solas. María, por otro lado, era la maestra del pueblo. Era una mujer de gran sabiduría y bondad, siempre dispuesta a echar una mano. Mientras estaban allí, recordando el pasado, un sentimiento de nostalgia los invadió. Recordaban los días en que eran jóvenes y llenos de esperanza, cuando el mundo parecía lleno de posibilidades. Pero ahora, al mirar el sol poniente, se dieron cuenta de que esos días habían quedado atrás. Carlos, sin embargo, no estaba listo para rendirse. Todavía tenía sueños, sueños que estaba decidido a cumplir. Sabía que no sería fácil, pero estaba dispuesto a enfrentar cualquier desafío que se le presentara. Con Pedro y María a su lado, sabía que podía lograr cualquier cosa.', 'format_instructions': 'The output should be a markdown code snippet formatted in the following schema, including the leading and trailing \"```json\" and \"```\":\\n\\n```json\\n{\\n\\t\"language\": string  // Определи язык на котором написан текст. Запиши название этого языка на английском. Например, не Русский, а Russian. Не Deutsch, а German\\n\\t\"main_character\": string  // Определи имя главного героя текста. Запиши имя этого персонажа так, как оно записано в тексте. Например Hans, Pierrot, Анна\\n}\\n```', 'language': 'Spanish', 'main_character': 'Carlos'}, {'text': 'La ciudad estaba llena de vida, sus calles llenas de ruido de personas y coches. En medio del caos, Juan, un joven con un sueño, estaba tratando de abrirse camino. Sus amigos, Pedro y María, siempre estaban a su lado, apoyándolo en sus esfuerzos. Eran un trío, inseparables y llenos de vida. Pero la vida en la ciudad no era fácil. Tenían que enfrentar muchos desafíos, pero nunca se dieron por vencidos. Creían en sus sueños y en cada uno de ellos. Y así, continuaron su viaje, enfrentando cada obstáculo con coraje y determinación.', 'format_instructions': 'The output should be a markdown code snippet formatted in the following schema, including the leading and trailing \"```json\" and \"```\":\\n\\n```json\\n{\\n\\t\"language\": string  // Определи язык на котором написан текст. Запиши название этого языка на английском. Например, не Русский, а Russian. Не Deutsch, а German\\n\\t\"main_character\": string  // Определи имя главного героя текста. Запиши имя этого персонажа так, как оно записано в тексте. Например Hans, Pierrot, Анна\\n}\\n```', 'language': 'Spanish', 'main_character': 'Juan'}, {'text': \"La ville était pleine de vie, ses rues remplies du bruit des gens et des voitures. Au milieu du chaos, Jean, un jeune homme avec un rêve, essayait de se frayer un chemin. Ses amis, Pierre et Marie, étaient toujours à ses côtés, le soutenant dans ses efforts. Ils étaient un trio, inséparables et pleins de vie. Mais la vie en ville n'était pas facile. Ils devaient faire face à de nombreux défis, mais ils ne se sont jamais découragés. Ils croyaient en leurs rêves et en chacun d'eux. Et ainsi, ils ont continué leur voyage, affrontant chaque obstacle avec courage et détermination.\", 'format_instructions': 'The output should be a markdown code snippet formatted in the following schema, including the leading and trailing \"```json\" and \"```\":\\n\\n```json\\n{\\n\\t\"language\": string  // Определи язык на котором написан текст. Запиши название этого языка на английском. Например, не Русский, а Russian. Не Deutsch, а German\\n\\t\"main_character\": string  // Определи имя главного героя текста. Запиши имя этого персонажа так, как оно записано в тексте. Например Hans, Pierrot, Анна\\n}\\n```', 'language': 'French', 'main_character': 'Jean'}, {'text': 'Die Stadt war voller Leben, ihre Straßen gefüllt mit dem Lärm von Menschen und Autos. Mitten im Chaos versuchte Johann, ein junger Mann mit einem Traum, seinen Weg zu machen. Seine Freunde, Peter und Maria, standen ihm immer zur Seite und unterstützten ihn bei seinen Bemühungen. Sie waren ein Trio, unzertrennlich und voller Leben. Aber das Leben in der Stadt war nicht einfach. Sie mussten viele Herausforderungen meistern, aber sie gaben nie auf. Sie glaubten an ihre Träume und aneinander. Und so setzten sie ihre Reise fort, jedes Hindernis mit Mut und Entschlossenheit zu überwinden.', 'format_instructions': 'The output should be a markdown code snippet formatted in the following schema, including the leading and trailing \"```json\" and \"```\":\\n\\n```json\\n{\\n\\t\"language\": string  // Определи язык на котором написан текст. Запиши название этого языка на английском. Например, не Русский, а Russian. Не Deutsch, а German\\n\\t\"main_character\": string  // Определи имя главного героя текста. Запиши имя этого персонажа так, как оно записано в тексте. Например Hans, Pierrot, Анна\\n}\\n```', 'language': 'German', 'main_character': 'Johann'}, {'text': 'Die Sonne ging unter und warf lange Schatten über die kleine Stadt. Hans, ein Mann mittleren Alters mit einem Herzen voller Träume, saß auf der Veranda seines alten Hauses. Seine Freunde, Peter und Maria, waren bei ihm und teilten Geschichten aus ihrer Jugend. Sie alle stammten aus derselben Stadt und ihre Leben waren auf eine Weise miteinander verflochten, die sie sich nie hätten vorstellen können. Peter, ein kräftiger Mann mit einer donnernden Stimme, war der Schmied der Stadt. Er war ein Mann der wenigen Worte, aber seine Taten sprachen Bände. Maria hingegen war die Lehrerin der Stadt. Sie war eine Frau von großer Weisheit und Güte, immer bereit, eine helfende Hand zu reichen. Während sie dort saßen und sich an die Vergangenheit erinnerten, überkam sie ein Gefühl der Nostalgie. Sie erinnerten sich an die Tage, als sie jung und voller Hoffnung waren, als die Welt voller Möglichkeiten zu sein schien. Aber jetzt, als sie die untergehende Sonne betrachteten, erkannten sie, dass diese Tage längst vorbei waren. Hans jedoch war nicht bereit aufzugeben. Er hatte immer noch Träume, Träume, die er entschlossen war zu erfüllen. Er wusste, dass es nicht einfach sein würde, aber er war bereit, sich jeder Herausforderung zu stellen. Mit Peter und Maria an seiner Seite wusste er, dass er alles erreichen konnte.', 'format_instructions': 'The output should be a markdown code snippet formatted in the following schema, including the leading and trailing \"```json\" and \"```\":\\n\\n```json\\n{\\n\\t\"language\": string  // Определи язык на котором написан текст. Запиши название этого языка на английском. Например, не Русский, а Russian. Не Deutsch, а German\\n\\t\"main_character\": string  // Определи имя главного героя текста. Запиши имя этого персонажа так, как оно записано в тексте. Например Hans, Pierrot, Анна\\n}\\n```', 'language': 'German', 'main_character': 'Hans'}, {'text': 'В тихом уголке старого города, где узкие улочки переплетались в бесконечный лабиринт, стоял небольшой домик. В нем жила Анна. Она была необычной девушкой, с добрыми глазами и теплой улыбкой. В ее жизни было много интересных персонажей: старый сосед Петр, который всегда рассказывал ей истории о прошлом города, маленькая девочка Маша, которая любила играть с Анной в саду, и ее лучший друг Иван, который всегда был рядом в трудные моменты. Вместе они переживали множество приключений, и каждый день был для них новым открытием.', 'format_instructions': 'The output should be a markdown code snippet formatted in the following schema, including the leading and trailing \"```json\" and \"```\":\\n\\n```json\\n{\\n\\t\"language\": string  // Определи язык на котором написан текст. Запиши название этого языка на английском. Например, не Русский, а Russian. Не Deutsch, а German\\n\\t\"main_character\": string  // Определи имя главного героя текста. Запиши имя этого персонажа так, как оно записано в тексте. Например Hans, Pierrot, Анна\\n}\\n```', 'language': 'Russian', 'main_character': 'Анна'}, {'text': 'In a small town nestled between the mountains and the sea, there was a girl named Laura. She was known for her kindness and her love for nature. Her life was filled with interesting characters: the old fisherman John, who would tell her tales of the sea, the young boy Tom, who would join her on her adventures, and her best friend Emily, who was always there for her. Together, they experienced many adventures, and each day was a new discovery for them.', 'format_instructions': 'The output should be a markdown code snippet formatted in the following schema, including the leading and trailing \"```json\" and \"```\":\\n\\n```json\\n{\\n\\t\"language\": string  // Определи язык на котором написан текст. Запиши название этого языка на английском. Например, не Русский, а Russian. Не Deutsch, а German\\n\\t\"main_character\": string  // Определи имя главного героя текста. Запиши имя этого персонажа так, как оно записано в тексте. Например Hans, Pierrot, Анна\\n}\\n```', 'language': 'English', 'main_character': 'Laura'}, {'text': 'En un pequeño pueblo situado entre las montañas y el mar, vivía una chica llamada Maria. Era conocida por su bondad y su amor por la naturaleza. Su vida estaba llena de personajes interesantes: el viejo pescador Juan, que le contaba historias del mar, el joven Tomás, que se unía a ella en sus aventuras, y su mejor amiga Emilia, que siempre estaba allí para ella. Juntos, vivieron muchas aventuras, y cada día era un nuevo descubrimiento para ellos.', 'format_instructions': 'The output should be a markdown code snippet formatted in the following schema, including the leading and trailing \"```json\" and \"```\":\\n\\n```json\\n{\\n\\t\"language\": string  // Определи язык на котором написан текст. Запиши название этого языка на английском. Например, не Русский, а Russian. Не Deutsch, а German\\n\\t\"main_character\": string  // Определи имя главного героя текста. Запиши имя этого персонажа так, как оно записано в тексте. Например Hans, Pierrot, Анна\\n}\\n```', 'language': 'Spanish', 'main_character': 'Maria'}]\n"
          ]
        },
        {
          "output_type": "stream",
          "name": "stderr",
          "text": [
            "\r 85%|████████▍ | 11/13 [00:09<00:01,  1.23it/s]"
          ]
        },
        {
          "output_type": "stream",
          "name": "stdout",
          "text": [
            "[{'text': \"The sun was setting, casting long shadows over the small town. John, a middle-aged man with a heart full of dreams, was sitting on the porch of his old house. His friends, Peter and Mary, were there with him, sharing stories of their youth. They were all from the same town, and their lives were intertwined in ways they could never have imagined. Peter, a burly man with a booming voice, was the town's blacksmith. He was a man of few words, but his actions spoke volumes. Mary, on the other hand, was the town's schoolteacher. She was a woman of great wisdom and kindness, always ready to lend a helping hand. As they sat there, reminiscing about the past, a sense of nostalgia washed over them. They remembered the days when they were young and full of hope, when the world seemed full of possibilities. But now, as they looked at the setting sun, they realized that those days were long gone. John, however, was not ready to give up. He still had dreams, dreams that he was determined to fulfill. He knew that it would not be easy, but he was ready to face whatever challenges came his way. With Peter and Mary by his side, he knew that he could achieve anything.\", 'format_instructions': 'The output should be a markdown code snippet formatted in the following schema, including the leading and trailing \"```json\" and \"```\":\\n\\n```json\\n{\\n\\t\"language\": string  // Определи язык на котором написан текст. Запиши название этого языка на английском. Например, не Русский, а Russian. Не Deutsch, а German\\n\\t\"main_character\": string  // Определи имя главного героя текста. Запиши имя этого персонажа так, как оно записано в тексте. Например Hans, Pierrot, Анна\\n}\\n```', 'language': 'English', 'main_character': 'John'}, {'text': \"Le soleil se couchait, jetant de longues ombres sur la petite ville. Pierre, un homme d'âge moyen avec un cœur plein de rêves, était assis sur le porche de sa vieille maison. Ses amis, Jacques et Marie, étaient là avec lui, partageant des histoires de leur jeunesse. Ils étaient tous de la même ville, et leurs vies étaient entrelacées de manière qu'ils n'auraient jamais pu imaginer. Jacques, un homme robuste à la voix tonitruante, était le forgeron de la ville. Il était un homme de peu de mots, mais ses actions parlaient beaucoup. Marie, en revanche, était l'institutrice de la ville. Elle était une femme de grande sagesse et de gentillesse, toujours prête à tendre la main. Alors qu'ils étaient assis là, se remémorant le passé, un sentiment de nostalgie les envahit. Ils se souvenaient des jours où ils étaient jeunes et pleins d'espoir, quand le monde semblait plein de possibilités. Mais maintenant, en regardant le soleil couchant, ils se rendaient compte que ces jours étaient révolus. Pierre, cependant, n'était pas prêt à abandonner. Il avait encore des rêves, des rêves qu'il était déterminé à réaliser. Il savait que ce ne serait pas facile, mais il était prêt à affronter tous les défis qui se présenteraient à lui. Avec Jacques et Marie à ses côtés, il savait qu'il pouvait accomplir n'importe quoi.\", 'format_instructions': 'The output should be a markdown code snippet formatted in the following schema, including the leading and trailing \"```json\" and \"```\":\\n\\n```json\\n{\\n\\t\"language\": string  // Определи язык на котором написан текст. Запиши название этого языка на английском. Например, не Русский, а Russian. Не Deutsch, а German\\n\\t\"main_character\": string  // Определи имя главного героя текста. Запиши имя этого персонажа так, как оно записано в тексте. Например Hans, Pierrot, Анна\\n}\\n```', 'language': 'French', 'main_character': 'Pierre'}, {'text': 'El sol se estaba poniendo, proyectando largas sombras sobre el pequeño pueblo. Carlos, un hombre de mediana edad con un corazón lleno de sueños, estaba sentado en el porche de su antigua casa. Sus amigos, Pedro y María, estaban allí con él, compartiendo historias de su juventud. Todos eran del mismo pueblo, y sus vidas estaban entrelazadas de formas que nunca podrían haber imaginado. Pedro, un hombre corpulento con una voz estruendosa, era el herrero del pueblo. Era un hombre de pocas palabras, pero sus acciones hablaban por sí solas. María, por otro lado, era la maestra del pueblo. Era una mujer de gran sabiduría y bondad, siempre dispuesta a echar una mano. Mientras estaban allí, recordando el pasado, un sentimiento de nostalgia los invadió. Recordaban los días en que eran jóvenes y llenos de esperanza, cuando el mundo parecía lleno de posibilidades. Pero ahora, al mirar el sol poniente, se dieron cuenta de que esos días habían quedado atrás. Carlos, sin embargo, no estaba listo para rendirse. Todavía tenía sueños, sueños que estaba decidido a cumplir. Sabía que no sería fácil, pero estaba dispuesto a enfrentar cualquier desafío que se le presentara. Con Pedro y María a su lado, sabía que podía lograr cualquier cosa.', 'format_instructions': 'The output should be a markdown code snippet formatted in the following schema, including the leading and trailing \"```json\" and \"```\":\\n\\n```json\\n{\\n\\t\"language\": string  // Определи язык на котором написан текст. Запиши название этого языка на английском. Например, не Русский, а Russian. Не Deutsch, а German\\n\\t\"main_character\": string  // Определи имя главного героя текста. Запиши имя этого персонажа так, как оно записано в тексте. Например Hans, Pierrot, Анна\\n}\\n```', 'language': 'Spanish', 'main_character': 'Carlos'}, {'text': 'La ciudad estaba llena de vida, sus calles llenas de ruido de personas y coches. En medio del caos, Juan, un joven con un sueño, estaba tratando de abrirse camino. Sus amigos, Pedro y María, siempre estaban a su lado, apoyándolo en sus esfuerzos. Eran un trío, inseparables y llenos de vida. Pero la vida en la ciudad no era fácil. Tenían que enfrentar muchos desafíos, pero nunca se dieron por vencidos. Creían en sus sueños y en cada uno de ellos. Y así, continuaron su viaje, enfrentando cada obstáculo con coraje y determinación.', 'format_instructions': 'The output should be a markdown code snippet formatted in the following schema, including the leading and trailing \"```json\" and \"```\":\\n\\n```json\\n{\\n\\t\"language\": string  // Определи язык на котором написан текст. Запиши название этого языка на английском. Например, не Русский, а Russian. Не Deutsch, а German\\n\\t\"main_character\": string  // Определи имя главного героя текста. Запиши имя этого персонажа так, как оно записано в тексте. Например Hans, Pierrot, Анна\\n}\\n```', 'language': 'Spanish', 'main_character': 'Juan'}, {'text': \"La ville était pleine de vie, ses rues remplies du bruit des gens et des voitures. Au milieu du chaos, Jean, un jeune homme avec un rêve, essayait de se frayer un chemin. Ses amis, Pierre et Marie, étaient toujours à ses côtés, le soutenant dans ses efforts. Ils étaient un trio, inséparables et pleins de vie. Mais la vie en ville n'était pas facile. Ils devaient faire face à de nombreux défis, mais ils ne se sont jamais découragés. Ils croyaient en leurs rêves et en chacun d'eux. Et ainsi, ils ont continué leur voyage, affrontant chaque obstacle avec courage et détermination.\", 'format_instructions': 'The output should be a markdown code snippet formatted in the following schema, including the leading and trailing \"```json\" and \"```\":\\n\\n```json\\n{\\n\\t\"language\": string  // Определи язык на котором написан текст. Запиши название этого языка на английском. Например, не Русский, а Russian. Не Deutsch, а German\\n\\t\"main_character\": string  // Определи имя главного героя текста. Запиши имя этого персонажа так, как оно записано в тексте. Например Hans, Pierrot, Анна\\n}\\n```', 'language': 'French', 'main_character': 'Jean'}, {'text': 'Die Stadt war voller Leben, ihre Straßen gefüllt mit dem Lärm von Menschen und Autos. Mitten im Chaos versuchte Johann, ein junger Mann mit einem Traum, seinen Weg zu machen. Seine Freunde, Peter und Maria, standen ihm immer zur Seite und unterstützten ihn bei seinen Bemühungen. Sie waren ein Trio, unzertrennlich und voller Leben. Aber das Leben in der Stadt war nicht einfach. Sie mussten viele Herausforderungen meistern, aber sie gaben nie auf. Sie glaubten an ihre Träume und aneinander. Und so setzten sie ihre Reise fort, jedes Hindernis mit Mut und Entschlossenheit zu überwinden.', 'format_instructions': 'The output should be a markdown code snippet formatted in the following schema, including the leading and trailing \"```json\" and \"```\":\\n\\n```json\\n{\\n\\t\"language\": string  // Определи язык на котором написан текст. Запиши название этого языка на английском. Например, не Русский, а Russian. Не Deutsch, а German\\n\\t\"main_character\": string  // Определи имя главного героя текста. Запиши имя этого персонажа так, как оно записано в тексте. Например Hans, Pierrot, Анна\\n}\\n```', 'language': 'German', 'main_character': 'Johann'}, {'text': 'Die Sonne ging unter und warf lange Schatten über die kleine Stadt. Hans, ein Mann mittleren Alters mit einem Herzen voller Träume, saß auf der Veranda seines alten Hauses. Seine Freunde, Peter und Maria, waren bei ihm und teilten Geschichten aus ihrer Jugend. Sie alle stammten aus derselben Stadt und ihre Leben waren auf eine Weise miteinander verflochten, die sie sich nie hätten vorstellen können. Peter, ein kräftiger Mann mit einer donnernden Stimme, war der Schmied der Stadt. Er war ein Mann der wenigen Worte, aber seine Taten sprachen Bände. Maria hingegen war die Lehrerin der Stadt. Sie war eine Frau von großer Weisheit und Güte, immer bereit, eine helfende Hand zu reichen. Während sie dort saßen und sich an die Vergangenheit erinnerten, überkam sie ein Gefühl der Nostalgie. Sie erinnerten sich an die Tage, als sie jung und voller Hoffnung waren, als die Welt voller Möglichkeiten zu sein schien. Aber jetzt, als sie die untergehende Sonne betrachteten, erkannten sie, dass diese Tage längst vorbei waren. Hans jedoch war nicht bereit aufzugeben. Er hatte immer noch Träume, Träume, die er entschlossen war zu erfüllen. Er wusste, dass es nicht einfach sein würde, aber er war bereit, sich jeder Herausforderung zu stellen. Mit Peter und Maria an seiner Seite wusste er, dass er alles erreichen konnte.', 'format_instructions': 'The output should be a markdown code snippet formatted in the following schema, including the leading and trailing \"```json\" and \"```\":\\n\\n```json\\n{\\n\\t\"language\": string  // Определи язык на котором написан текст. Запиши название этого языка на английском. Например, не Русский, а Russian. Не Deutsch, а German\\n\\t\"main_character\": string  // Определи имя главного героя текста. Запиши имя этого персонажа так, как оно записано в тексте. Например Hans, Pierrot, Анна\\n}\\n```', 'language': 'German', 'main_character': 'Hans'}, {'text': 'В тихом уголке старого города, где узкие улочки переплетались в бесконечный лабиринт, стоял небольшой домик. В нем жила Анна. Она была необычной девушкой, с добрыми глазами и теплой улыбкой. В ее жизни было много интересных персонажей: старый сосед Петр, который всегда рассказывал ей истории о прошлом города, маленькая девочка Маша, которая любила играть с Анной в саду, и ее лучший друг Иван, который всегда был рядом в трудные моменты. Вместе они переживали множество приключений, и каждый день был для них новым открытием.', 'format_instructions': 'The output should be a markdown code snippet formatted in the following schema, including the leading and trailing \"```json\" and \"```\":\\n\\n```json\\n{\\n\\t\"language\": string  // Определи язык на котором написан текст. Запиши название этого языка на английском. Например, не Русский, а Russian. Не Deutsch, а German\\n\\t\"main_character\": string  // Определи имя главного героя текста. Запиши имя этого персонажа так, как оно записано в тексте. Например Hans, Pierrot, Анна\\n}\\n```', 'language': 'Russian', 'main_character': 'Анна'}, {'text': 'In a small town nestled between the mountains and the sea, there was a girl named Laura. She was known for her kindness and her love for nature. Her life was filled with interesting characters: the old fisherman John, who would tell her tales of the sea, the young boy Tom, who would join her on her adventures, and her best friend Emily, who was always there for her. Together, they experienced many adventures, and each day was a new discovery for them.', 'format_instructions': 'The output should be a markdown code snippet formatted in the following schema, including the leading and trailing \"```json\" and \"```\":\\n\\n```json\\n{\\n\\t\"language\": string  // Определи язык на котором написан текст. Запиши название этого языка на английском. Например, не Русский, а Russian. Не Deutsch, а German\\n\\t\"main_character\": string  // Определи имя главного героя текста. Запиши имя этого персонажа так, как оно записано в тексте. Например Hans, Pierrot, Анна\\n}\\n```', 'language': 'English', 'main_character': 'Laura'}, {'text': 'En un pequeño pueblo situado entre las montañas y el mar, vivía una chica llamada Maria. Era conocida por su bondad y su amor por la naturaleza. Su vida estaba llena de personajes interesantes: el viejo pescador Juan, que le contaba historias del mar, el joven Tomás, que se unía a ella en sus aventuras, y su mejor amiga Emilia, que siempre estaba allí para ella. Juntos, vivieron muchas aventuras, y cada día era un nuevo descubrimiento para ellos.', 'format_instructions': 'The output should be a markdown code snippet formatted in the following schema, including the leading and trailing \"```json\" and \"```\":\\n\\n```json\\n{\\n\\t\"language\": string  // Определи язык на котором написан текст. Запиши название этого языка на английском. Например, не Русский, а Russian. Не Deutsch, а German\\n\\t\"main_character\": string  // Определи имя главного героя текста. Запиши имя этого персонажа так, как оно записано в тексте. Например Hans, Pierrot, Анна\\n}\\n```', 'language': 'Spanish', 'main_character': 'Maria'}, {'text': 'Dans un petit village niché entre les montagnes et la mer, vivait une fille nommée Sophie. Elle était connue pour sa gentillesse et son amour pour la nature. Sa vie était remplie de personnages intéressants : le vieux pêcheur Jean, qui lui racontait des histoires de la mer, le jeune garçon Thomas, qui la rejoignait dans ses aventures, et sa meilleure amie Emilie, qui était toujours là pour elle. Ensemble, ils ont vécu de nombreuses aventures, et chaque jour était une nouvelle découverte pour eux.', 'format_instructions': 'The output should be a markdown code snippet formatted in the following schema, including the leading and trailing \"```json\" and \"```\":\\n\\n```json\\n{\\n\\t\"language\": string  // Определи язык на котором написан текст. Запиши название этого языка на английском. Например, не Русский, а Russian. Не Deutsch, а German\\n\\t\"main_character\": string  // Определи имя главного героя текста. Запиши имя этого персонажа так, как оно записано в тексте. Например Hans, Pierrot, Анна\\n}\\n```', 'language': 'French', 'main_character': 'Sophie'}]\n"
          ]
        },
        {
          "output_type": "stream",
          "name": "stderr",
          "text": [
            "\r 92%|█████████▏| 12/13 [00:10<00:00,  1.23it/s]"
          ]
        },
        {
          "output_type": "stream",
          "name": "stdout",
          "text": [
            "[{'text': \"The sun was setting, casting long shadows over the small town. John, a middle-aged man with a heart full of dreams, was sitting on the porch of his old house. His friends, Peter and Mary, were there with him, sharing stories of their youth. They were all from the same town, and their lives were intertwined in ways they could never have imagined. Peter, a burly man with a booming voice, was the town's blacksmith. He was a man of few words, but his actions spoke volumes. Mary, on the other hand, was the town's schoolteacher. She was a woman of great wisdom and kindness, always ready to lend a helping hand. As they sat there, reminiscing about the past, a sense of nostalgia washed over them. They remembered the days when they were young and full of hope, when the world seemed full of possibilities. But now, as they looked at the setting sun, they realized that those days were long gone. John, however, was not ready to give up. He still had dreams, dreams that he was determined to fulfill. He knew that it would not be easy, but he was ready to face whatever challenges came his way. With Peter and Mary by his side, he knew that he could achieve anything.\", 'format_instructions': 'The output should be a markdown code snippet formatted in the following schema, including the leading and trailing \"```json\" and \"```\":\\n\\n```json\\n{\\n\\t\"language\": string  // Определи язык на котором написан текст. Запиши название этого языка на английском. Например, не Русский, а Russian. Не Deutsch, а German\\n\\t\"main_character\": string  // Определи имя главного героя текста. Запиши имя этого персонажа так, как оно записано в тексте. Например Hans, Pierrot, Анна\\n}\\n```', 'language': 'English', 'main_character': 'John'}, {'text': \"Le soleil se couchait, jetant de longues ombres sur la petite ville. Pierre, un homme d'âge moyen avec un cœur plein de rêves, était assis sur le porche de sa vieille maison. Ses amis, Jacques et Marie, étaient là avec lui, partageant des histoires de leur jeunesse. Ils étaient tous de la même ville, et leurs vies étaient entrelacées de manière qu'ils n'auraient jamais pu imaginer. Jacques, un homme robuste à la voix tonitruante, était le forgeron de la ville. Il était un homme de peu de mots, mais ses actions parlaient beaucoup. Marie, en revanche, était l'institutrice de la ville. Elle était une femme de grande sagesse et de gentillesse, toujours prête à tendre la main. Alors qu'ils étaient assis là, se remémorant le passé, un sentiment de nostalgie les envahit. Ils se souvenaient des jours où ils étaient jeunes et pleins d'espoir, quand le monde semblait plein de possibilités. Mais maintenant, en regardant le soleil couchant, ils se rendaient compte que ces jours étaient révolus. Pierre, cependant, n'était pas prêt à abandonner. Il avait encore des rêves, des rêves qu'il était déterminé à réaliser. Il savait que ce ne serait pas facile, mais il était prêt à affronter tous les défis qui se présenteraient à lui. Avec Jacques et Marie à ses côtés, il savait qu'il pouvait accomplir n'importe quoi.\", 'format_instructions': 'The output should be a markdown code snippet formatted in the following schema, including the leading and trailing \"```json\" and \"```\":\\n\\n```json\\n{\\n\\t\"language\": string  // Определи язык на котором написан текст. Запиши название этого языка на английском. Например, не Русский, а Russian. Не Deutsch, а German\\n\\t\"main_character\": string  // Определи имя главного героя текста. Запиши имя этого персонажа так, как оно записано в тексте. Например Hans, Pierrot, Анна\\n}\\n```', 'language': 'French', 'main_character': 'Pierre'}, {'text': 'El sol se estaba poniendo, proyectando largas sombras sobre el pequeño pueblo. Carlos, un hombre de mediana edad con un corazón lleno de sueños, estaba sentado en el porche de su antigua casa. Sus amigos, Pedro y María, estaban allí con él, compartiendo historias de su juventud. Todos eran del mismo pueblo, y sus vidas estaban entrelazadas de formas que nunca podrían haber imaginado. Pedro, un hombre corpulento con una voz estruendosa, era el herrero del pueblo. Era un hombre de pocas palabras, pero sus acciones hablaban por sí solas. María, por otro lado, era la maestra del pueblo. Era una mujer de gran sabiduría y bondad, siempre dispuesta a echar una mano. Mientras estaban allí, recordando el pasado, un sentimiento de nostalgia los invadió. Recordaban los días en que eran jóvenes y llenos de esperanza, cuando el mundo parecía lleno de posibilidades. Pero ahora, al mirar el sol poniente, se dieron cuenta de que esos días habían quedado atrás. Carlos, sin embargo, no estaba listo para rendirse. Todavía tenía sueños, sueños que estaba decidido a cumplir. Sabía que no sería fácil, pero estaba dispuesto a enfrentar cualquier desafío que se le presentara. Con Pedro y María a su lado, sabía que podía lograr cualquier cosa.', 'format_instructions': 'The output should be a markdown code snippet formatted in the following schema, including the leading and trailing \"```json\" and \"```\":\\n\\n```json\\n{\\n\\t\"language\": string  // Определи язык на котором написан текст. Запиши название этого языка на английском. Например, не Русский, а Russian. Не Deutsch, а German\\n\\t\"main_character\": string  // Определи имя главного героя текста. Запиши имя этого персонажа так, как оно записано в тексте. Например Hans, Pierrot, Анна\\n}\\n```', 'language': 'Spanish', 'main_character': 'Carlos'}, {'text': 'La ciudad estaba llena de vida, sus calles llenas de ruido de personas y coches. En medio del caos, Juan, un joven con un sueño, estaba tratando de abrirse camino. Sus amigos, Pedro y María, siempre estaban a su lado, apoyándolo en sus esfuerzos. Eran un trío, inseparables y llenos de vida. Pero la vida en la ciudad no era fácil. Tenían que enfrentar muchos desafíos, pero nunca se dieron por vencidos. Creían en sus sueños y en cada uno de ellos. Y así, continuaron su viaje, enfrentando cada obstáculo con coraje y determinación.', 'format_instructions': 'The output should be a markdown code snippet formatted in the following schema, including the leading and trailing \"```json\" and \"```\":\\n\\n```json\\n{\\n\\t\"language\": string  // Определи язык на котором написан текст. Запиши название этого языка на английском. Например, не Русский, а Russian. Не Deutsch, а German\\n\\t\"main_character\": string  // Определи имя главного героя текста. Запиши имя этого персонажа так, как оно записано в тексте. Например Hans, Pierrot, Анна\\n}\\n```', 'language': 'Spanish', 'main_character': 'Juan'}, {'text': \"La ville était pleine de vie, ses rues remplies du bruit des gens et des voitures. Au milieu du chaos, Jean, un jeune homme avec un rêve, essayait de se frayer un chemin. Ses amis, Pierre et Marie, étaient toujours à ses côtés, le soutenant dans ses efforts. Ils étaient un trio, inséparables et pleins de vie. Mais la vie en ville n'était pas facile. Ils devaient faire face à de nombreux défis, mais ils ne se sont jamais découragés. Ils croyaient en leurs rêves et en chacun d'eux. Et ainsi, ils ont continué leur voyage, affrontant chaque obstacle avec courage et détermination.\", 'format_instructions': 'The output should be a markdown code snippet formatted in the following schema, including the leading and trailing \"```json\" and \"```\":\\n\\n```json\\n{\\n\\t\"language\": string  // Определи язык на котором написан текст. Запиши название этого языка на английском. Например, не Русский, а Russian. Не Deutsch, а German\\n\\t\"main_character\": string  // Определи имя главного героя текста. Запиши имя этого персонажа так, как оно записано в тексте. Например Hans, Pierrot, Анна\\n}\\n```', 'language': 'French', 'main_character': 'Jean'}, {'text': 'Die Stadt war voller Leben, ihre Straßen gefüllt mit dem Lärm von Menschen und Autos. Mitten im Chaos versuchte Johann, ein junger Mann mit einem Traum, seinen Weg zu machen. Seine Freunde, Peter und Maria, standen ihm immer zur Seite und unterstützten ihn bei seinen Bemühungen. Sie waren ein Trio, unzertrennlich und voller Leben. Aber das Leben in der Stadt war nicht einfach. Sie mussten viele Herausforderungen meistern, aber sie gaben nie auf. Sie glaubten an ihre Träume und aneinander. Und so setzten sie ihre Reise fort, jedes Hindernis mit Mut und Entschlossenheit zu überwinden.', 'format_instructions': 'The output should be a markdown code snippet formatted in the following schema, including the leading and trailing \"```json\" and \"```\":\\n\\n```json\\n{\\n\\t\"language\": string  // Определи язык на котором написан текст. Запиши название этого языка на английском. Например, не Русский, а Russian. Не Deutsch, а German\\n\\t\"main_character\": string  // Определи имя главного героя текста. Запиши имя этого персонажа так, как оно записано в тексте. Например Hans, Pierrot, Анна\\n}\\n```', 'language': 'German', 'main_character': 'Johann'}, {'text': 'Die Sonne ging unter und warf lange Schatten über die kleine Stadt. Hans, ein Mann mittleren Alters mit einem Herzen voller Träume, saß auf der Veranda seines alten Hauses. Seine Freunde, Peter und Maria, waren bei ihm und teilten Geschichten aus ihrer Jugend. Sie alle stammten aus derselben Stadt und ihre Leben waren auf eine Weise miteinander verflochten, die sie sich nie hätten vorstellen können. Peter, ein kräftiger Mann mit einer donnernden Stimme, war der Schmied der Stadt. Er war ein Mann der wenigen Worte, aber seine Taten sprachen Bände. Maria hingegen war die Lehrerin der Stadt. Sie war eine Frau von großer Weisheit und Güte, immer bereit, eine helfende Hand zu reichen. Während sie dort saßen und sich an die Vergangenheit erinnerten, überkam sie ein Gefühl der Nostalgie. Sie erinnerten sich an die Tage, als sie jung und voller Hoffnung waren, als die Welt voller Möglichkeiten zu sein schien. Aber jetzt, als sie die untergehende Sonne betrachteten, erkannten sie, dass diese Tage längst vorbei waren. Hans jedoch war nicht bereit aufzugeben. Er hatte immer noch Träume, Träume, die er entschlossen war zu erfüllen. Er wusste, dass es nicht einfach sein würde, aber er war bereit, sich jeder Herausforderung zu stellen. Mit Peter und Maria an seiner Seite wusste er, dass er alles erreichen konnte.', 'format_instructions': 'The output should be a markdown code snippet formatted in the following schema, including the leading and trailing \"```json\" and \"```\":\\n\\n```json\\n{\\n\\t\"language\": string  // Определи язык на котором написан текст. Запиши название этого языка на английском. Например, не Русский, а Russian. Не Deutsch, а German\\n\\t\"main_character\": string  // Определи имя главного героя текста. Запиши имя этого персонажа так, как оно записано в тексте. Например Hans, Pierrot, Анна\\n}\\n```', 'language': 'German', 'main_character': 'Hans'}, {'text': 'В тихом уголке старого города, где узкие улочки переплетались в бесконечный лабиринт, стоял небольшой домик. В нем жила Анна. Она была необычной девушкой, с добрыми глазами и теплой улыбкой. В ее жизни было много интересных персонажей: старый сосед Петр, который всегда рассказывал ей истории о прошлом города, маленькая девочка Маша, которая любила играть с Анной в саду, и ее лучший друг Иван, который всегда был рядом в трудные моменты. Вместе они переживали множество приключений, и каждый день был для них новым открытием.', 'format_instructions': 'The output should be a markdown code snippet formatted in the following schema, including the leading and trailing \"```json\" and \"```\":\\n\\n```json\\n{\\n\\t\"language\": string  // Определи язык на котором написан текст. Запиши название этого языка на английском. Например, не Русский, а Russian. Не Deutsch, а German\\n\\t\"main_character\": string  // Определи имя главного героя текста. Запиши имя этого персонажа так, как оно записано в тексте. Например Hans, Pierrot, Анна\\n}\\n```', 'language': 'Russian', 'main_character': 'Анна'}, {'text': 'In a small town nestled between the mountains and the sea, there was a girl named Laura. She was known for her kindness and her love for nature. Her life was filled with interesting characters: the old fisherman John, who would tell her tales of the sea, the young boy Tom, who would join her on her adventures, and her best friend Emily, who was always there for her. Together, they experienced many adventures, and each day was a new discovery for them.', 'format_instructions': 'The output should be a markdown code snippet formatted in the following schema, including the leading and trailing \"```json\" and \"```\":\\n\\n```json\\n{\\n\\t\"language\": string  // Определи язык на котором написан текст. Запиши название этого языка на английском. Например, не Русский, а Russian. Не Deutsch, а German\\n\\t\"main_character\": string  // Определи имя главного героя текста. Запиши имя этого персонажа так, как оно записано в тексте. Например Hans, Pierrot, Анна\\n}\\n```', 'language': 'English', 'main_character': 'Laura'}, {'text': 'En un pequeño pueblo situado entre las montañas y el mar, vivía una chica llamada Maria. Era conocida por su bondad y su amor por la naturaleza. Su vida estaba llena de personajes interesantes: el viejo pescador Juan, que le contaba historias del mar, el joven Tomás, que se unía a ella en sus aventuras, y su mejor amiga Emilia, que siempre estaba allí para ella. Juntos, vivieron muchas aventuras, y cada día era un nuevo descubrimiento para ellos.', 'format_instructions': 'The output should be a markdown code snippet formatted in the following schema, including the leading and trailing \"```json\" and \"```\":\\n\\n```json\\n{\\n\\t\"language\": string  // Определи язык на котором написан текст. Запиши название этого языка на английском. Например, не Русский, а Russian. Не Deutsch, а German\\n\\t\"main_character\": string  // Определи имя главного героя текста. Запиши имя этого персонажа так, как оно записано в тексте. Например Hans, Pierrot, Анна\\n}\\n```', 'language': 'Spanish', 'main_character': 'Maria'}, {'text': 'Dans un petit village niché entre les montagnes et la mer, vivait une fille nommée Sophie. Elle était connue pour sa gentillesse et son amour pour la nature. Sa vie était remplie de personnages intéressants : le vieux pêcheur Jean, qui lui racontait des histoires de la mer, le jeune garçon Thomas, qui la rejoignait dans ses aventures, et sa meilleure amie Emilie, qui était toujours là pour elle. Ensemble, ils ont vécu de nombreuses aventures, et chaque jour était une nouvelle découverte pour eux.', 'format_instructions': 'The output should be a markdown code snippet formatted in the following schema, including the leading and trailing \"```json\" and \"```\":\\n\\n```json\\n{\\n\\t\"language\": string  // Определи язык на котором написан текст. Запиши название этого языка на английском. Например, не Русский, а Russian. Не Deutsch, а German\\n\\t\"main_character\": string  // Определи имя главного героя текста. Запиши имя этого персонажа так, как оно записано в тексте. Например Hans, Pierrot, Анна\\n}\\n```', 'language': 'French', 'main_character': 'Sophie'}, {'text': 'В городе было множество людей, каждый из которых был занят своими делами. Среди этой суеты, Иван, молодой человек с большими мечтами, пытался найти свое место. Его друзья, Сергей и Мария, всегда были рядом, поддерживая его во всех начинаниях. Они верили в него, когда никто другой не верил. Но жизнь в городе была непростой. Конкуренция была ожесточенной, а борьба - реальной. Несмотря на все трудности, Иван был решен сделать все возможное, чтобы достичь своих целей. Он знал, что ему придется много работать и никогда не сдаваться. Его путь был непрост, но благодаря поддержке друзей и непоколебимой решимости, он смог преодолеть все препятствия и достичь своих мечт.', 'format_instructions': 'The output should be a markdown code snippet formatted in the following schema, including the leading and trailing \"```json\" and \"```\":\\n\\n```json\\n{\\n\\t\"language\": string  // Определи язык на котором написан текст. Запиши название этого языка на английском. Например, не Русский, а Russian. Не Deutsch, а German\\n\\t\"main_character\": string  // Определи имя главного героя текста. Запиши имя этого персонажа так, как оно записано в тексте. Например Hans, Pierrot, Анна\\n}\\n```', 'language': 'Russian', 'main_character': 'Иван'}]\n"
          ]
        },
        {
          "output_type": "stream",
          "name": "stderr",
          "text": [
            "100%|██████████| 13/13 [00:10<00:00,  1.20it/s]"
          ]
        },
        {
          "output_type": "stream",
          "name": "stdout",
          "text": [
            "[{'text': \"The sun was setting, casting long shadows over the small town. John, a middle-aged man with a heart full of dreams, was sitting on the porch of his old house. His friends, Peter and Mary, were there with him, sharing stories of their youth. They were all from the same town, and their lives were intertwined in ways they could never have imagined. Peter, a burly man with a booming voice, was the town's blacksmith. He was a man of few words, but his actions spoke volumes. Mary, on the other hand, was the town's schoolteacher. She was a woman of great wisdom and kindness, always ready to lend a helping hand. As they sat there, reminiscing about the past, a sense of nostalgia washed over them. They remembered the days when they were young and full of hope, when the world seemed full of possibilities. But now, as they looked at the setting sun, they realized that those days were long gone. John, however, was not ready to give up. He still had dreams, dreams that he was determined to fulfill. He knew that it would not be easy, but he was ready to face whatever challenges came his way. With Peter and Mary by his side, he knew that he could achieve anything.\", 'format_instructions': 'The output should be a markdown code snippet formatted in the following schema, including the leading and trailing \"```json\" and \"```\":\\n\\n```json\\n{\\n\\t\"language\": string  // Определи язык на котором написан текст. Запиши название этого языка на английском. Например, не Русский, а Russian. Не Deutsch, а German\\n\\t\"main_character\": string  // Определи имя главного героя текста. Запиши имя этого персонажа так, как оно записано в тексте. Например Hans, Pierrot, Анна\\n}\\n```', 'language': 'English', 'main_character': 'John'}, {'text': \"Le soleil se couchait, jetant de longues ombres sur la petite ville. Pierre, un homme d'âge moyen avec un cœur plein de rêves, était assis sur le porche de sa vieille maison. Ses amis, Jacques et Marie, étaient là avec lui, partageant des histoires de leur jeunesse. Ils étaient tous de la même ville, et leurs vies étaient entrelacées de manière qu'ils n'auraient jamais pu imaginer. Jacques, un homme robuste à la voix tonitruante, était le forgeron de la ville. Il était un homme de peu de mots, mais ses actions parlaient beaucoup. Marie, en revanche, était l'institutrice de la ville. Elle était une femme de grande sagesse et de gentillesse, toujours prête à tendre la main. Alors qu'ils étaient assis là, se remémorant le passé, un sentiment de nostalgie les envahit. Ils se souvenaient des jours où ils étaient jeunes et pleins d'espoir, quand le monde semblait plein de possibilités. Mais maintenant, en regardant le soleil couchant, ils se rendaient compte que ces jours étaient révolus. Pierre, cependant, n'était pas prêt à abandonner. Il avait encore des rêves, des rêves qu'il était déterminé à réaliser. Il savait que ce ne serait pas facile, mais il était prêt à affronter tous les défis qui se présenteraient à lui. Avec Jacques et Marie à ses côtés, il savait qu'il pouvait accomplir n'importe quoi.\", 'format_instructions': 'The output should be a markdown code snippet formatted in the following schema, including the leading and trailing \"```json\" and \"```\":\\n\\n```json\\n{\\n\\t\"language\": string  // Определи язык на котором написан текст. Запиши название этого языка на английском. Например, не Русский, а Russian. Не Deutsch, а German\\n\\t\"main_character\": string  // Определи имя главного героя текста. Запиши имя этого персонажа так, как оно записано в тексте. Например Hans, Pierrot, Анна\\n}\\n```', 'language': 'French', 'main_character': 'Pierre'}, {'text': 'El sol se estaba poniendo, proyectando largas sombras sobre el pequeño pueblo. Carlos, un hombre de mediana edad con un corazón lleno de sueños, estaba sentado en el porche de su antigua casa. Sus amigos, Pedro y María, estaban allí con él, compartiendo historias de su juventud. Todos eran del mismo pueblo, y sus vidas estaban entrelazadas de formas que nunca podrían haber imaginado. Pedro, un hombre corpulento con una voz estruendosa, era el herrero del pueblo. Era un hombre de pocas palabras, pero sus acciones hablaban por sí solas. María, por otro lado, era la maestra del pueblo. Era una mujer de gran sabiduría y bondad, siempre dispuesta a echar una mano. Mientras estaban allí, recordando el pasado, un sentimiento de nostalgia los invadió. Recordaban los días en que eran jóvenes y llenos de esperanza, cuando el mundo parecía lleno de posibilidades. Pero ahora, al mirar el sol poniente, se dieron cuenta de que esos días habían quedado atrás. Carlos, sin embargo, no estaba listo para rendirse. Todavía tenía sueños, sueños que estaba decidido a cumplir. Sabía que no sería fácil, pero estaba dispuesto a enfrentar cualquier desafío que se le presentara. Con Pedro y María a su lado, sabía que podía lograr cualquier cosa.', 'format_instructions': 'The output should be a markdown code snippet formatted in the following schema, including the leading and trailing \"```json\" and \"```\":\\n\\n```json\\n{\\n\\t\"language\": string  // Определи язык на котором написан текст. Запиши название этого языка на английском. Например, не Русский, а Russian. Не Deutsch, а German\\n\\t\"main_character\": string  // Определи имя главного героя текста. Запиши имя этого персонажа так, как оно записано в тексте. Например Hans, Pierrot, Анна\\n}\\n```', 'language': 'Spanish', 'main_character': 'Carlos'}, {'text': 'La ciudad estaba llena de vida, sus calles llenas de ruido de personas y coches. En medio del caos, Juan, un joven con un sueño, estaba tratando de abrirse camino. Sus amigos, Pedro y María, siempre estaban a su lado, apoyándolo en sus esfuerzos. Eran un trío, inseparables y llenos de vida. Pero la vida en la ciudad no era fácil. Tenían que enfrentar muchos desafíos, pero nunca se dieron por vencidos. Creían en sus sueños y en cada uno de ellos. Y así, continuaron su viaje, enfrentando cada obstáculo con coraje y determinación.', 'format_instructions': 'The output should be a markdown code snippet formatted in the following schema, including the leading and trailing \"```json\" and \"```\":\\n\\n```json\\n{\\n\\t\"language\": string  // Определи язык на котором написан текст. Запиши название этого языка на английском. Например, не Русский, а Russian. Не Deutsch, а German\\n\\t\"main_character\": string  // Определи имя главного героя текста. Запиши имя этого персонажа так, как оно записано в тексте. Например Hans, Pierrot, Анна\\n}\\n```', 'language': 'Spanish', 'main_character': 'Juan'}, {'text': \"La ville était pleine de vie, ses rues remplies du bruit des gens et des voitures. Au milieu du chaos, Jean, un jeune homme avec un rêve, essayait de se frayer un chemin. Ses amis, Pierre et Marie, étaient toujours à ses côtés, le soutenant dans ses efforts. Ils étaient un trio, inséparables et pleins de vie. Mais la vie en ville n'était pas facile. Ils devaient faire face à de nombreux défis, mais ils ne se sont jamais découragés. Ils croyaient en leurs rêves et en chacun d'eux. Et ainsi, ils ont continué leur voyage, affrontant chaque obstacle avec courage et détermination.\", 'format_instructions': 'The output should be a markdown code snippet formatted in the following schema, including the leading and trailing \"```json\" and \"```\":\\n\\n```json\\n{\\n\\t\"language\": string  // Определи язык на котором написан текст. Запиши название этого языка на английском. Например, не Русский, а Russian. Не Deutsch, а German\\n\\t\"main_character\": string  // Определи имя главного героя текста. Запиши имя этого персонажа так, как оно записано в тексте. Например Hans, Pierrot, Анна\\n}\\n```', 'language': 'French', 'main_character': 'Jean'}, {'text': 'Die Stadt war voller Leben, ihre Straßen gefüllt mit dem Lärm von Menschen und Autos. Mitten im Chaos versuchte Johann, ein junger Mann mit einem Traum, seinen Weg zu machen. Seine Freunde, Peter und Maria, standen ihm immer zur Seite und unterstützten ihn bei seinen Bemühungen. Sie waren ein Trio, unzertrennlich und voller Leben. Aber das Leben in der Stadt war nicht einfach. Sie mussten viele Herausforderungen meistern, aber sie gaben nie auf. Sie glaubten an ihre Träume und aneinander. Und so setzten sie ihre Reise fort, jedes Hindernis mit Mut und Entschlossenheit zu überwinden.', 'format_instructions': 'The output should be a markdown code snippet formatted in the following schema, including the leading and trailing \"```json\" and \"```\":\\n\\n```json\\n{\\n\\t\"language\": string  // Определи язык на котором написан текст. Запиши название этого языка на английском. Например, не Русский, а Russian. Не Deutsch, а German\\n\\t\"main_character\": string  // Определи имя главного героя текста. Запиши имя этого персонажа так, как оно записано в тексте. Например Hans, Pierrot, Анна\\n}\\n```', 'language': 'German', 'main_character': 'Johann'}, {'text': 'Die Sonne ging unter und warf lange Schatten über die kleine Stadt. Hans, ein Mann mittleren Alters mit einem Herzen voller Träume, saß auf der Veranda seines alten Hauses. Seine Freunde, Peter und Maria, waren bei ihm und teilten Geschichten aus ihrer Jugend. Sie alle stammten aus derselben Stadt und ihre Leben waren auf eine Weise miteinander verflochten, die sie sich nie hätten vorstellen können. Peter, ein kräftiger Mann mit einer donnernden Stimme, war der Schmied der Stadt. Er war ein Mann der wenigen Worte, aber seine Taten sprachen Bände. Maria hingegen war die Lehrerin der Stadt. Sie war eine Frau von großer Weisheit und Güte, immer bereit, eine helfende Hand zu reichen. Während sie dort saßen und sich an die Vergangenheit erinnerten, überkam sie ein Gefühl der Nostalgie. Sie erinnerten sich an die Tage, als sie jung und voller Hoffnung waren, als die Welt voller Möglichkeiten zu sein schien. Aber jetzt, als sie die untergehende Sonne betrachteten, erkannten sie, dass diese Tage längst vorbei waren. Hans jedoch war nicht bereit aufzugeben. Er hatte immer noch Träume, Träume, die er entschlossen war zu erfüllen. Er wusste, dass es nicht einfach sein würde, aber er war bereit, sich jeder Herausforderung zu stellen. Mit Peter und Maria an seiner Seite wusste er, dass er alles erreichen konnte.', 'format_instructions': 'The output should be a markdown code snippet formatted in the following schema, including the leading and trailing \"```json\" and \"```\":\\n\\n```json\\n{\\n\\t\"language\": string  // Определи язык на котором написан текст. Запиши название этого языка на английском. Например, не Русский, а Russian. Не Deutsch, а German\\n\\t\"main_character\": string  // Определи имя главного героя текста. Запиши имя этого персонажа так, как оно записано в тексте. Например Hans, Pierrot, Анна\\n}\\n```', 'language': 'German', 'main_character': 'Hans'}, {'text': 'В тихом уголке старого города, где узкие улочки переплетались в бесконечный лабиринт, стоял небольшой домик. В нем жила Анна. Она была необычной девушкой, с добрыми глазами и теплой улыбкой. В ее жизни было много интересных персонажей: старый сосед Петр, который всегда рассказывал ей истории о прошлом города, маленькая девочка Маша, которая любила играть с Анной в саду, и ее лучший друг Иван, который всегда был рядом в трудные моменты. Вместе они переживали множество приключений, и каждый день был для них новым открытием.', 'format_instructions': 'The output should be a markdown code snippet formatted in the following schema, including the leading and trailing \"```json\" and \"```\":\\n\\n```json\\n{\\n\\t\"language\": string  // Определи язык на котором написан текст. Запиши название этого языка на английском. Например, не Русский, а Russian. Не Deutsch, а German\\n\\t\"main_character\": string  // Определи имя главного героя текста. Запиши имя этого персонажа так, как оно записано в тексте. Например Hans, Pierrot, Анна\\n}\\n```', 'language': 'Russian', 'main_character': 'Анна'}, {'text': 'In a small town nestled between the mountains and the sea, there was a girl named Laura. She was known for her kindness and her love for nature. Her life was filled with interesting characters: the old fisherman John, who would tell her tales of the sea, the young boy Tom, who would join her on her adventures, and her best friend Emily, who was always there for her. Together, they experienced many adventures, and each day was a new discovery for them.', 'format_instructions': 'The output should be a markdown code snippet formatted in the following schema, including the leading and trailing \"```json\" and \"```\":\\n\\n```json\\n{\\n\\t\"language\": string  // Определи язык на котором написан текст. Запиши название этого языка на английском. Например, не Русский, а Russian. Не Deutsch, а German\\n\\t\"main_character\": string  // Определи имя главного героя текста. Запиши имя этого персонажа так, как оно записано в тексте. Например Hans, Pierrot, Анна\\n}\\n```', 'language': 'English', 'main_character': 'Laura'}, {'text': 'En un pequeño pueblo situado entre las montañas y el mar, vivía una chica llamada Maria. Era conocida por su bondad y su amor por la naturaleza. Su vida estaba llena de personajes interesantes: el viejo pescador Juan, que le contaba historias del mar, el joven Tomás, que se unía a ella en sus aventuras, y su mejor amiga Emilia, que siempre estaba allí para ella. Juntos, vivieron muchas aventuras, y cada día era un nuevo descubrimiento para ellos.', 'format_instructions': 'The output should be a markdown code snippet formatted in the following schema, including the leading and trailing \"```json\" and \"```\":\\n\\n```json\\n{\\n\\t\"language\": string  // Определи язык на котором написан текст. Запиши название этого языка на английском. Например, не Русский, а Russian. Не Deutsch, а German\\n\\t\"main_character\": string  // Определи имя главного героя текста. Запиши имя этого персонажа так, как оно записано в тексте. Например Hans, Pierrot, Анна\\n}\\n```', 'language': 'Spanish', 'main_character': 'Maria'}, {'text': 'Dans un petit village niché entre les montagnes et la mer, vivait une fille nommée Sophie. Elle était connue pour sa gentillesse et son amour pour la nature. Sa vie était remplie de personnages intéressants : le vieux pêcheur Jean, qui lui racontait des histoires de la mer, le jeune garçon Thomas, qui la rejoignait dans ses aventures, et sa meilleure amie Emilie, qui était toujours là pour elle. Ensemble, ils ont vécu de nombreuses aventures, et chaque jour était une nouvelle découverte pour eux.', 'format_instructions': 'The output should be a markdown code snippet formatted in the following schema, including the leading and trailing \"```json\" and \"```\":\\n\\n```json\\n{\\n\\t\"language\": string  // Определи язык на котором написан текст. Запиши название этого языка на английском. Например, не Русский, а Russian. Не Deutsch, а German\\n\\t\"main_character\": string  // Определи имя главного героя текста. Запиши имя этого персонажа так, как оно записано в тексте. Например Hans, Pierrot, Анна\\n}\\n```', 'language': 'French', 'main_character': 'Sophie'}, {'text': 'В городе было множество людей, каждый из которых был занят своими делами. Среди этой суеты, Иван, молодой человек с большими мечтами, пытался найти свое место. Его друзья, Сергей и Мария, всегда были рядом, поддерживая его во всех начинаниях. Они верили в него, когда никто другой не верил. Но жизнь в городе была непростой. Конкуренция была ожесточенной, а борьба - реальной. Несмотря на все трудности, Иван был решен сделать все возможное, чтобы достичь своих целей. Он знал, что ему придется много работать и никогда не сдаваться. Его путь был непрост, но благодаря поддержке друзей и непоколебимой решимости, он смог преодолеть все препятствия и достичь своих мечт.', 'format_instructions': 'The output should be a markdown code snippet formatted in the following schema, including the leading and trailing \"```json\" and \"```\":\\n\\n```json\\n{\\n\\t\"language\": string  // Определи язык на котором написан текст. Запиши название этого языка на английском. Например, не Русский, а Russian. Не Deutsch, а German\\n\\t\"main_character\": string  // Определи имя главного героя текста. Запиши имя этого персонажа так, как оно записано в тексте. Например Hans, Pierrot, Анна\\n}\\n```', 'language': 'Russian', 'main_character': 'Иван'}, {'text': 'La città era piena di vita, le strade piene del suono delle chiacchiere e del rumore dei passi. Tra la folla, un uomo di nome Giovanni si distingueva. Era un detective, noto per la sua mente acuta e le sue abilità di osservazione. I suoi compagni, Sarah e Mike, erano sempre al suo fianco, aiutandolo nelle sue indagini. Erano una squadra formidabile, risolvendo casi che sconcertavano anche gli ufficiali più esperti. Giovanni era un uomo di poche parole, ma le sue azioni parlavano molto. Viveva in una piccola città, dove tutti conoscevano tutti. I suoi migliori amici, Pietro e Maria, erano sempre al suo fianco. Erano cresciuti insieme, condividendo innumerevoli avventure e creando ricordi che sarebbero durati tutta la vita. Ma la vita nella piccola città non era sempre facile. Si trovavano di fronte a molte sfide, dai duri inverni alle occasionali dispute tra i cittadini. Ma nonostante tutto, Giovanni rimaneva un faro di speranza e resilienza. Il suo coraggio e la sua determinazione ispiravano coloro che lo circondavano, ed era sempre pronto a dare una mano.', 'format_instructions': 'The output should be a markdown code snippet formatted in the following schema, including the leading and trailing \"```json\" and \"```\":\\n\\n```json\\n{\\n\\t\"language\": string  // Определи язык на котором написан текст. Запиши название этого языка на английском. Например, не Русский, а Russian. Не Deutsch, а German\\n\\t\"main_character\": string  // Определи имя главного героя текста. Запиши имя этого персонажа так, как оно записано в тексте. Например Hans, Pierrot, Анна\\n}\\n```', 'language': 'Italian', 'main_character': 'Giovanni'}]\n"
          ]
        },
        {
          "output_type": "stream",
          "name": "stderr",
          "text": [
            "\n"
          ]
        }
      ]
    },
    {
      "cell_type": "code",
      "source": [
        "result_df = pd.DataFrame(result)\n",
        "result_df.head()"
      ],
      "metadata": {
        "colab": {
          "base_uri": "https://localhost:8080/",
          "height": 206
        },
        "id": "G7oJpVKt7Tw5",
        "outputId": "e9693118-1a3a-4d9b-ec9f-460bb6d06dcf"
      },
      "execution_count": 102,
      "outputs": [
        {
          "output_type": "execute_result",
          "data": {
            "text/plain": [
              "                                                text  \\\n",
              "0  The sun was setting, casting long shadows over...   \n",
              "1  Le soleil se couchait, jetant de longues ombre...   \n",
              "2  El sol se estaba poniendo, proyectando largas ...   \n",
              "3  La ciudad estaba llena de vida, sus calles lle...   \n",
              "4  La ville était pleine de vie, ses rues remplie...   \n",
              "\n",
              "                                 format_instructions language main_character  \n",
              "0  The output should be a markdown code snippet f...  English           John  \n",
              "1  The output should be a markdown code snippet f...   French         Pierre  \n",
              "2  The output should be a markdown code snippet f...  Spanish         Carlos  \n",
              "3  The output should be a markdown code snippet f...  Spanish           Juan  \n",
              "4  The output should be a markdown code snippet f...   French           Jean  "
            ],
            "text/html": [
              "\n",
              "  <div id=\"df-5b2b374d-f75f-4f74-b0fe-152d2a749453\" class=\"colab-df-container\">\n",
              "    <div>\n",
              "<style scoped>\n",
              "    .dataframe tbody tr th:only-of-type {\n",
              "        vertical-align: middle;\n",
              "    }\n",
              "\n",
              "    .dataframe tbody tr th {\n",
              "        vertical-align: top;\n",
              "    }\n",
              "\n",
              "    .dataframe thead th {\n",
              "        text-align: right;\n",
              "    }\n",
              "</style>\n",
              "<table border=\"1\" class=\"dataframe\">\n",
              "  <thead>\n",
              "    <tr style=\"text-align: right;\">\n",
              "      <th></th>\n",
              "      <th>text</th>\n",
              "      <th>format_instructions</th>\n",
              "      <th>language</th>\n",
              "      <th>main_character</th>\n",
              "    </tr>\n",
              "  </thead>\n",
              "  <tbody>\n",
              "    <tr>\n",
              "      <th>0</th>\n",
              "      <td>The sun was setting, casting long shadows over...</td>\n",
              "      <td>The output should be a markdown code snippet f...</td>\n",
              "      <td>English</td>\n",
              "      <td>John</td>\n",
              "    </tr>\n",
              "    <tr>\n",
              "      <th>1</th>\n",
              "      <td>Le soleil se couchait, jetant de longues ombre...</td>\n",
              "      <td>The output should be a markdown code snippet f...</td>\n",
              "      <td>French</td>\n",
              "      <td>Pierre</td>\n",
              "    </tr>\n",
              "    <tr>\n",
              "      <th>2</th>\n",
              "      <td>El sol se estaba poniendo, proyectando largas ...</td>\n",
              "      <td>The output should be a markdown code snippet f...</td>\n",
              "      <td>Spanish</td>\n",
              "      <td>Carlos</td>\n",
              "    </tr>\n",
              "    <tr>\n",
              "      <th>3</th>\n",
              "      <td>La ciudad estaba llena de vida, sus calles lle...</td>\n",
              "      <td>The output should be a markdown code snippet f...</td>\n",
              "      <td>Spanish</td>\n",
              "      <td>Juan</td>\n",
              "    </tr>\n",
              "    <tr>\n",
              "      <th>4</th>\n",
              "      <td>La ville était pleine de vie, ses rues remplie...</td>\n",
              "      <td>The output should be a markdown code snippet f...</td>\n",
              "      <td>French</td>\n",
              "      <td>Jean</td>\n",
              "    </tr>\n",
              "  </tbody>\n",
              "</table>\n",
              "</div>\n",
              "    <div class=\"colab-df-buttons\">\n",
              "\n",
              "  <div class=\"colab-df-container\">\n",
              "    <button class=\"colab-df-convert\" onclick=\"convertToInteractive('df-5b2b374d-f75f-4f74-b0fe-152d2a749453')\"\n",
              "            title=\"Convert this dataframe to an interactive table.\"\n",
              "            style=\"display:none;\">\n",
              "\n",
              "  <svg xmlns=\"http://www.w3.org/2000/svg\" height=\"24px\" viewBox=\"0 -960 960 960\">\n",
              "    <path d=\"M120-120v-720h720v720H120Zm60-500h600v-160H180v160Zm220 220h160v-160H400v160Zm0 220h160v-160H400v160ZM180-400h160v-160H180v160Zm440 0h160v-160H620v160ZM180-180h160v-160H180v160Zm440 0h160v-160H620v160Z\"/>\n",
              "  </svg>\n",
              "    </button>\n",
              "\n",
              "  <style>\n",
              "    .colab-df-container {\n",
              "      display:flex;\n",
              "      gap: 12px;\n",
              "    }\n",
              "\n",
              "    .colab-df-convert {\n",
              "      background-color: #E8F0FE;\n",
              "      border: none;\n",
              "      border-radius: 50%;\n",
              "      cursor: pointer;\n",
              "      display: none;\n",
              "      fill: #1967D2;\n",
              "      height: 32px;\n",
              "      padding: 0 0 0 0;\n",
              "      width: 32px;\n",
              "    }\n",
              "\n",
              "    .colab-df-convert:hover {\n",
              "      background-color: #E2EBFA;\n",
              "      box-shadow: 0px 1px 2px rgba(60, 64, 67, 0.3), 0px 1px 3px 1px rgba(60, 64, 67, 0.15);\n",
              "      fill: #174EA6;\n",
              "    }\n",
              "\n",
              "    .colab-df-buttons div {\n",
              "      margin-bottom: 4px;\n",
              "    }\n",
              "\n",
              "    [theme=dark] .colab-df-convert {\n",
              "      background-color: #3B4455;\n",
              "      fill: #D2E3FC;\n",
              "    }\n",
              "\n",
              "    [theme=dark] .colab-df-convert:hover {\n",
              "      background-color: #434B5C;\n",
              "      box-shadow: 0px 1px 3px 1px rgba(0, 0, 0, 0.15);\n",
              "      filter: drop-shadow(0px 1px 2px rgba(0, 0, 0, 0.3));\n",
              "      fill: #FFFFFF;\n",
              "    }\n",
              "  </style>\n",
              "\n",
              "    <script>\n",
              "      const buttonEl =\n",
              "        document.querySelector('#df-5b2b374d-f75f-4f74-b0fe-152d2a749453 button.colab-df-convert');\n",
              "      buttonEl.style.display =\n",
              "        google.colab.kernel.accessAllowed ? 'block' : 'none';\n",
              "\n",
              "      async function convertToInteractive(key) {\n",
              "        const element = document.querySelector('#df-5b2b374d-f75f-4f74-b0fe-152d2a749453');\n",
              "        const dataTable =\n",
              "          await google.colab.kernel.invokeFunction('convertToInteractive',\n",
              "                                                    [key], {});\n",
              "        if (!dataTable) return;\n",
              "\n",
              "        const docLinkHtml = 'Like what you see? Visit the ' +\n",
              "          '<a target=\"_blank\" href=https://colab.research.google.com/notebooks/data_table.ipynb>data table notebook</a>'\n",
              "          + ' to learn more about interactive tables.';\n",
              "        element.innerHTML = '';\n",
              "        dataTable['output_type'] = 'display_data';\n",
              "        await google.colab.output.renderOutput(dataTable, element);\n",
              "        const docLink = document.createElement('div');\n",
              "        docLink.innerHTML = docLinkHtml;\n",
              "        element.appendChild(docLink);\n",
              "      }\n",
              "    </script>\n",
              "  </div>\n",
              "\n",
              "\n",
              "<div id=\"df-b9fc55a9-10dc-4f30-9f98-536b4dae3f16\">\n",
              "  <button class=\"colab-df-quickchart\" onclick=\"quickchart('df-b9fc55a9-10dc-4f30-9f98-536b4dae3f16')\"\n",
              "            title=\"Suggest charts\"\n",
              "            style=\"display:none;\">\n",
              "\n",
              "<svg xmlns=\"http://www.w3.org/2000/svg\" height=\"24px\"viewBox=\"0 0 24 24\"\n",
              "     width=\"24px\">\n",
              "    <g>\n",
              "        <path d=\"M19 3H5c-1.1 0-2 .9-2 2v14c0 1.1.9 2 2 2h14c1.1 0 2-.9 2-2V5c0-1.1-.9-2-2-2zM9 17H7v-7h2v7zm4 0h-2V7h2v10zm4 0h-2v-4h2v4z\"/>\n",
              "    </g>\n",
              "</svg>\n",
              "  </button>\n",
              "\n",
              "<style>\n",
              "  .colab-df-quickchart {\n",
              "      --bg-color: #E8F0FE;\n",
              "      --fill-color: #1967D2;\n",
              "      --hover-bg-color: #E2EBFA;\n",
              "      --hover-fill-color: #174EA6;\n",
              "      --disabled-fill-color: #AAA;\n",
              "      --disabled-bg-color: #DDD;\n",
              "  }\n",
              "\n",
              "  [theme=dark] .colab-df-quickchart {\n",
              "      --bg-color: #3B4455;\n",
              "      --fill-color: #D2E3FC;\n",
              "      --hover-bg-color: #434B5C;\n",
              "      --hover-fill-color: #FFFFFF;\n",
              "      --disabled-bg-color: #3B4455;\n",
              "      --disabled-fill-color: #666;\n",
              "  }\n",
              "\n",
              "  .colab-df-quickchart {\n",
              "    background-color: var(--bg-color);\n",
              "    border: none;\n",
              "    border-radius: 50%;\n",
              "    cursor: pointer;\n",
              "    display: none;\n",
              "    fill: var(--fill-color);\n",
              "    height: 32px;\n",
              "    padding: 0;\n",
              "    width: 32px;\n",
              "  }\n",
              "\n",
              "  .colab-df-quickchart:hover {\n",
              "    background-color: var(--hover-bg-color);\n",
              "    box-shadow: 0 1px 2px rgba(60, 64, 67, 0.3), 0 1px 3px 1px rgba(60, 64, 67, 0.15);\n",
              "    fill: var(--button-hover-fill-color);\n",
              "  }\n",
              "\n",
              "  .colab-df-quickchart-complete:disabled,\n",
              "  .colab-df-quickchart-complete:disabled:hover {\n",
              "    background-color: var(--disabled-bg-color);\n",
              "    fill: var(--disabled-fill-color);\n",
              "    box-shadow: none;\n",
              "  }\n",
              "\n",
              "  .colab-df-spinner {\n",
              "    border: 2px solid var(--fill-color);\n",
              "    border-color: transparent;\n",
              "    border-bottom-color: var(--fill-color);\n",
              "    animation:\n",
              "      spin 1s steps(1) infinite;\n",
              "  }\n",
              "\n",
              "  @keyframes spin {\n",
              "    0% {\n",
              "      border-color: transparent;\n",
              "      border-bottom-color: var(--fill-color);\n",
              "      border-left-color: var(--fill-color);\n",
              "    }\n",
              "    20% {\n",
              "      border-color: transparent;\n",
              "      border-left-color: var(--fill-color);\n",
              "      border-top-color: var(--fill-color);\n",
              "    }\n",
              "    30% {\n",
              "      border-color: transparent;\n",
              "      border-left-color: var(--fill-color);\n",
              "      border-top-color: var(--fill-color);\n",
              "      border-right-color: var(--fill-color);\n",
              "    }\n",
              "    40% {\n",
              "      border-color: transparent;\n",
              "      border-right-color: var(--fill-color);\n",
              "      border-top-color: var(--fill-color);\n",
              "    }\n",
              "    60% {\n",
              "      border-color: transparent;\n",
              "      border-right-color: var(--fill-color);\n",
              "    }\n",
              "    80% {\n",
              "      border-color: transparent;\n",
              "      border-right-color: var(--fill-color);\n",
              "      border-bottom-color: var(--fill-color);\n",
              "    }\n",
              "    90% {\n",
              "      border-color: transparent;\n",
              "      border-bottom-color: var(--fill-color);\n",
              "    }\n",
              "  }\n",
              "</style>\n",
              "\n",
              "  <script>\n",
              "    async function quickchart(key) {\n",
              "      const quickchartButtonEl =\n",
              "        document.querySelector('#' + key + ' button');\n",
              "      quickchartButtonEl.disabled = true;  // To prevent multiple clicks.\n",
              "      quickchartButtonEl.classList.add('colab-df-spinner');\n",
              "      try {\n",
              "        const charts = await google.colab.kernel.invokeFunction(\n",
              "            'suggestCharts', [key], {});\n",
              "      } catch (error) {\n",
              "        console.error('Error during call to suggestCharts:', error);\n",
              "      }\n",
              "      quickchartButtonEl.classList.remove('colab-df-spinner');\n",
              "      quickchartButtonEl.classList.add('colab-df-quickchart-complete');\n",
              "    }\n",
              "    (() => {\n",
              "      let quickchartButtonEl =\n",
              "        document.querySelector('#df-b9fc55a9-10dc-4f30-9f98-536b4dae3f16 button');\n",
              "      quickchartButtonEl.style.display =\n",
              "        google.colab.kernel.accessAllowed ? 'block' : 'none';\n",
              "    })();\n",
              "  </script>\n",
              "</div>\n",
              "    </div>\n",
              "  </div>\n"
            ],
            "application/vnd.google.colaboratory.intrinsic+json": {
              "type": "dataframe",
              "variable_name": "result_df",
              "summary": "{\n  \"name\": \"result_df\",\n  \"rows\": 13,\n  \"fields\": [\n    {\n      \"column\": \"text\",\n      \"properties\": {\n        \"dtype\": \"string\",\n        \"num_unique_values\": 13,\n        \"samples\": [\n          \"\\u0412 \\u0433\\u043e\\u0440\\u043e\\u0434\\u0435 \\u0431\\u044b\\u043b\\u043e \\u043c\\u043d\\u043e\\u0436\\u0435\\u0441\\u0442\\u0432\\u043e \\u043b\\u044e\\u0434\\u0435\\u0439, \\u043a\\u0430\\u0436\\u0434\\u044b\\u0439 \\u0438\\u0437 \\u043a\\u043e\\u0442\\u043e\\u0440\\u044b\\u0445 \\u0431\\u044b\\u043b \\u0437\\u0430\\u043d\\u044f\\u0442 \\u0441\\u0432\\u043e\\u0438\\u043c\\u0438 \\u0434\\u0435\\u043b\\u0430\\u043c\\u0438. \\u0421\\u0440\\u0435\\u0434\\u0438 \\u044d\\u0442\\u043e\\u0439 \\u0441\\u0443\\u0435\\u0442\\u044b, \\u0418\\u0432\\u0430\\u043d, \\u043c\\u043e\\u043b\\u043e\\u0434\\u043e\\u0439 \\u0447\\u0435\\u043b\\u043e\\u0432\\u0435\\u043a \\u0441 \\u0431\\u043e\\u043b\\u044c\\u0448\\u0438\\u043c\\u0438 \\u043c\\u0435\\u0447\\u0442\\u0430\\u043c\\u0438, \\u043f\\u044b\\u0442\\u0430\\u043b\\u0441\\u044f \\u043d\\u0430\\u0439\\u0442\\u0438 \\u0441\\u0432\\u043e\\u0435 \\u043c\\u0435\\u0441\\u0442\\u043e. \\u0415\\u0433\\u043e \\u0434\\u0440\\u0443\\u0437\\u044c\\u044f, \\u0421\\u0435\\u0440\\u0433\\u0435\\u0439 \\u0438 \\u041c\\u0430\\u0440\\u0438\\u044f, \\u0432\\u0441\\u0435\\u0433\\u0434\\u0430 \\u0431\\u044b\\u043b\\u0438 \\u0440\\u044f\\u0434\\u043e\\u043c, \\u043f\\u043e\\u0434\\u0434\\u0435\\u0440\\u0436\\u0438\\u0432\\u0430\\u044f \\u0435\\u0433\\u043e \\u0432\\u043e \\u0432\\u0441\\u0435\\u0445 \\u043d\\u0430\\u0447\\u0438\\u043d\\u0430\\u043d\\u0438\\u044f\\u0445. \\u041e\\u043d\\u0438 \\u0432\\u0435\\u0440\\u0438\\u043b\\u0438 \\u0432 \\u043d\\u0435\\u0433\\u043e, \\u043a\\u043e\\u0433\\u0434\\u0430 \\u043d\\u0438\\u043a\\u0442\\u043e \\u0434\\u0440\\u0443\\u0433\\u043e\\u0439 \\u043d\\u0435 \\u0432\\u0435\\u0440\\u0438\\u043b. \\u041d\\u043e \\u0436\\u0438\\u0437\\u043d\\u044c \\u0432 \\u0433\\u043e\\u0440\\u043e\\u0434\\u0435 \\u0431\\u044b\\u043b\\u0430 \\u043d\\u0435\\u043f\\u0440\\u043e\\u0441\\u0442\\u043e\\u0439. \\u041a\\u043e\\u043d\\u043a\\u0443\\u0440\\u0435\\u043d\\u0446\\u0438\\u044f \\u0431\\u044b\\u043b\\u0430 \\u043e\\u0436\\u0435\\u0441\\u0442\\u043e\\u0447\\u0435\\u043d\\u043d\\u043e\\u0439, \\u0430 \\u0431\\u043e\\u0440\\u044c\\u0431\\u0430 - \\u0440\\u0435\\u0430\\u043b\\u044c\\u043d\\u043e\\u0439. \\u041d\\u0435\\u0441\\u043c\\u043e\\u0442\\u0440\\u044f \\u043d\\u0430 \\u0432\\u0441\\u0435 \\u0442\\u0440\\u0443\\u0434\\u043d\\u043e\\u0441\\u0442\\u0438, \\u0418\\u0432\\u0430\\u043d \\u0431\\u044b\\u043b \\u0440\\u0435\\u0448\\u0435\\u043d \\u0441\\u0434\\u0435\\u043b\\u0430\\u0442\\u044c \\u0432\\u0441\\u0435 \\u0432\\u043e\\u0437\\u043c\\u043e\\u0436\\u043d\\u043e\\u0435, \\u0447\\u0442\\u043e\\u0431\\u044b \\u0434\\u043e\\u0441\\u0442\\u0438\\u0447\\u044c \\u0441\\u0432\\u043e\\u0438\\u0445 \\u0446\\u0435\\u043b\\u0435\\u0439. \\u041e\\u043d \\u0437\\u043d\\u0430\\u043b, \\u0447\\u0442\\u043e \\u0435\\u043c\\u0443 \\u043f\\u0440\\u0438\\u0434\\u0435\\u0442\\u0441\\u044f \\u043c\\u043d\\u043e\\u0433\\u043e \\u0440\\u0430\\u0431\\u043e\\u0442\\u0430\\u0442\\u044c \\u0438 \\u043d\\u0438\\u043a\\u043e\\u0433\\u0434\\u0430 \\u043d\\u0435 \\u0441\\u0434\\u0430\\u0432\\u0430\\u0442\\u044c\\u0441\\u044f. \\u0415\\u0433\\u043e \\u043f\\u0443\\u0442\\u044c \\u0431\\u044b\\u043b \\u043d\\u0435\\u043f\\u0440\\u043e\\u0441\\u0442, \\u043d\\u043e \\u0431\\u043b\\u0430\\u0433\\u043e\\u0434\\u0430\\u0440\\u044f \\u043f\\u043e\\u0434\\u0434\\u0435\\u0440\\u0436\\u043a\\u0435 \\u0434\\u0440\\u0443\\u0437\\u0435\\u0439 \\u0438 \\u043d\\u0435\\u043f\\u043e\\u043a\\u043e\\u043b\\u0435\\u0431\\u0438\\u043c\\u043e\\u0439 \\u0440\\u0435\\u0448\\u0438\\u043c\\u043e\\u0441\\u0442\\u0438, \\u043e\\u043d \\u0441\\u043c\\u043e\\u0433 \\u043f\\u0440\\u0435\\u043e\\u0434\\u043e\\u043b\\u0435\\u0442\\u044c \\u0432\\u0441\\u0435 \\u043f\\u0440\\u0435\\u043f\\u044f\\u0442\\u0441\\u0442\\u0432\\u0438\\u044f \\u0438 \\u0434\\u043e\\u0441\\u0442\\u0438\\u0447\\u044c \\u0441\\u0432\\u043e\\u0438\\u0445 \\u043c\\u0435\\u0447\\u0442.\",\n          \"En un peque\\u00f1o pueblo situado entre las monta\\u00f1as y el mar, viv\\u00eda una chica llamada Maria. Era conocida por su bondad y su amor por la naturaleza. Su vida estaba llena de personajes interesantes: el viejo pescador Juan, que le contaba historias del mar, el joven Tom\\u00e1s, que se un\\u00eda a ella en sus aventuras, y su mejor amiga Emilia, que siempre estaba all\\u00ed para ella. Juntos, vivieron muchas aventuras, y cada d\\u00eda era un nuevo descubrimiento para ellos.\",\n          \"The sun was setting, casting long shadows over the small town. John, a middle-aged man with a heart full of dreams, was sitting on the porch of his old house. His friends, Peter and Mary, were there with him, sharing stories of their youth. They were all from the same town, and their lives were intertwined in ways they could never have imagined. Peter, a burly man with a booming voice, was the town's blacksmith. He was a man of few words, but his actions spoke volumes. Mary, on the other hand, was the town's schoolteacher. She was a woman of great wisdom and kindness, always ready to lend a helping hand. As they sat there, reminiscing about the past, a sense of nostalgia washed over them. They remembered the days when they were young and full of hope, when the world seemed full of possibilities. But now, as they looked at the setting sun, they realized that those days were long gone. John, however, was not ready to give up. He still had dreams, dreams that he was determined to fulfill. He knew that it would not be easy, but he was ready to face whatever challenges came his way. With Peter and Mary by his side, he knew that he could achieve anything.\"\n        ],\n        \"semantic_type\": \"\",\n        \"description\": \"\"\n      }\n    },\n    {\n      \"column\": \"format_instructions\",\n      \"properties\": {\n        \"dtype\": \"category\",\n        \"num_unique_values\": 1,\n        \"samples\": [\n          \"The output should be a markdown code snippet formatted in the following schema, including the leading and trailing \\\"```json\\\" and \\\"```\\\":\\n\\n```json\\n{\\n\\t\\\"language\\\": string  // \\u041e\\u043f\\u0440\\u0435\\u0434\\u0435\\u043b\\u0438 \\u044f\\u0437\\u044b\\u043a \\u043d\\u0430 \\u043a\\u043e\\u0442\\u043e\\u0440\\u043e\\u043c \\u043d\\u0430\\u043f\\u0438\\u0441\\u0430\\u043d \\u0442\\u0435\\u043a\\u0441\\u0442. \\u0417\\u0430\\u043f\\u0438\\u0448\\u0438 \\u043d\\u0430\\u0437\\u0432\\u0430\\u043d\\u0438\\u0435 \\u044d\\u0442\\u043e\\u0433\\u043e \\u044f\\u0437\\u044b\\u043a\\u0430 \\u043d\\u0430 \\u0430\\u043d\\u0433\\u043b\\u0438\\u0439\\u0441\\u043a\\u043e\\u043c. \\u041d\\u0430\\u043f\\u0440\\u0438\\u043c\\u0435\\u0440, \\u043d\\u0435 \\u0420\\u0443\\u0441\\u0441\\u043a\\u0438\\u0439, \\u0430 Russian. \\u041d\\u0435 Deutsch, \\u0430 German\\n\\t\\\"main_character\\\": string  // \\u041e\\u043f\\u0440\\u0435\\u0434\\u0435\\u043b\\u0438 \\u0438\\u043c\\u044f \\u0433\\u043b\\u0430\\u0432\\u043d\\u043e\\u0433\\u043e \\u0433\\u0435\\u0440\\u043e\\u044f \\u0442\\u0435\\u043a\\u0441\\u0442\\u0430. \\u0417\\u0430\\u043f\\u0438\\u0448\\u0438 \\u0438\\u043c\\u044f \\u044d\\u0442\\u043e\\u0433\\u043e \\u043f\\u0435\\u0440\\u0441\\u043e\\u043d\\u0430\\u0436\\u0430 \\u0442\\u0430\\u043a, \\u043a\\u0430\\u043a \\u043e\\u043d\\u043e \\u0437\\u0430\\u043f\\u0438\\u0441\\u0430\\u043d\\u043e \\u0432 \\u0442\\u0435\\u043a\\u0441\\u0442\\u0435. \\u041d\\u0430\\u043f\\u0440\\u0438\\u043c\\u0435\\u0440 Hans, Pierrot, \\u0410\\u043d\\u043d\\u0430\\n}\\n```\"\n        ],\n        \"semantic_type\": \"\",\n        \"description\": \"\"\n      }\n    },\n    {\n      \"column\": \"language\",\n      \"properties\": {\n        \"dtype\": \"category\",\n        \"num_unique_values\": 6,\n        \"samples\": [\n          \"English\"\n        ],\n        \"semantic_type\": \"\",\n        \"description\": \"\"\n      }\n    },\n    {\n      \"column\": \"main_character\",\n      \"properties\": {\n        \"dtype\": \"string\",\n        \"num_unique_values\": 13,\n        \"samples\": [\n          \"\\u0418\\u0432\\u0430\\u043d\"\n        ],\n        \"semantic_type\": \"\",\n        \"description\": \"\"\n      }\n    }\n  ]\n}"
            }
          },
          "metadata": {},
          "execution_count": 102
        }
      ]
    },
    {
      "cell_type": "markdown",
      "source": [
        "Сохраним всё в итоговый файл. Убедитесь, что на этом этапе у вас в столбцах\n",
        "\n",
        "- `text` - очищенный текст (без символов ¿, ¡, £)\n",
        "- `language` - язык, на котором написан текст (название языка указать на английском языке)\n",
        "- `main_character` - имя главного персонажа в тексте (указать на том языке, на котором и написан сам текст)"
      ],
      "metadata": {
        "id": "HsW9_cn6gy7-"
      }
    },
    {
      "cell_type": "code",
      "source": [
        "result_df[['text', 'language', 'main_character']].to_csv('3.2.9_solution.csv', index=False)"
      ],
      "metadata": {
        "id": "p9CUjXZsgveh"
      },
      "execution_count": 103,
      "outputs": []
    }
  ]
}